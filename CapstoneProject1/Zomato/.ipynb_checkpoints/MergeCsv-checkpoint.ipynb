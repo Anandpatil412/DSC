{
 "cells": [
  {
   "cell_type": "code",
   "execution_count": 36,
   "metadata": {},
   "outputs": [
    {
     "name": "stdout",
     "output_type": "stream",
     "text": [
      "['zomato_ChurchStreet.csv']\n",
      "['zomato_ChurchStreet.csv', 'ConsolidateOutput.csv']\n",
      "['zomato_ChurchStreet.csv', 'ConsolidateOutput.csv', 'zomato_Indiranagar.csv']\n"
     ]
    }
   ],
   "source": [
    "from os import chdir\n",
    "from glob import glob\n",
    "import pandas as pd\n",
    "import os\n",
    "\n",
    "list_of_files = []\n",
    "\n",
    "cwd = os.getcwd()\n",
    "dirs = os.listdir(cwd)\n",
    "for file in dirs:\n",
    "    if file.endswith(\".csv\"):\n",
    "        list_of_files.append(file)\n",
    "    \n",
    "produceOneCSV()\n",
    "\n",
    "# Produce a single CSV after combining all files\n",
    "def produceOneCSV():\n",
    "    result_obj = pd.concat([pd.read_csv(file) for file in list_of_files])\n",
    "    result_obj.to_csv(\"Merged/ConsolidateOutput.csv\", index=False, encoding=\"utf-8\")\n",
    "    \n",
    "\n"
   ]
  },
  {
   "cell_type": "code",
   "execution_count": null,
   "metadata": {},
   "outputs": [],
   "source": []
  },
  {
   "cell_type": "code",
   "execution_count": null,
   "metadata": {},
   "outputs": [],
   "source": []
  }
 ],
 "metadata": {
  "kernelspec": {
   "display_name": "Python 3",
   "language": "python",
   "name": "python3"
  },
  "language_info": {
   "codemirror_mode": {
    "name": "ipython",
    "version": 3
   },
   "file_extension": ".py",
   "mimetype": "text/x-python",
   "name": "python",
   "nbconvert_exporter": "python",
   "pygments_lexer": "ipython3",
   "version": "3.7.4"
  }
 },
 "nbformat": 4,
 "nbformat_minor": 2
}
