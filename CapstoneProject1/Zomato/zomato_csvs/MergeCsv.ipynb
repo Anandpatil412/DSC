{
 "cells": [
  {
   "cell_type": "code",
   "execution_count": 10,
   "metadata": {},
   "outputs": [
    {
     "name": "stderr",
     "output_type": "stream",
     "text": [
      "/Users/Anand/anaconda3/lib/python3.7/site-packages/ipykernel_launcher.py:16: FutureWarning: Sorting because non-concatenation axis is not aligned. A future version\n",
      "of pandas will change to not sort by default.\n",
      "\n",
      "To accept the future behavior, pass 'sort=False'.\n",
      "\n",
      "To retain the current behavior and silence the warning, pass 'sort=True'.\n",
      "\n",
      "  app.launch_new_instance()\n"
     ]
    }
   ],
   "source": [
    "#merges csv's in current directory to MergedFile\n",
    "import pandas as pd\n",
    "import os\n",
    "\n",
    "list_of_files = []\n",
    "\n",
    "def mergeCSVs():\n",
    "    path = os.getcwd()\n",
    "    dirs = os.listdir(path)\n",
    "\n",
    "    for file in dirs:\n",
    "        if file.endswith(\".csv\"):\n",
    "            list_of_files.append(file)\n",
    "\n",
    "    #Consolidate all CSV files into one object\n",
    "    result_obj = pd.concat([pd.read_csv(file) for file in list_of_files])\n",
    "    \n",
    "    #Convert the above object into a csv file and export\n",
    "    result_obj.to_csv(\"MergedFile/zomatoData.csv\", index=False, encoding=\"utf-8\")\n",
    "\n",
    "\n",
    "mergeCSVs()"
   ]
  },
  {
   "cell_type": "code",
   "execution_count": null,
   "metadata": {},
   "outputs": [],
   "source": []
  },
  {
   "cell_type": "code",
   "execution_count": null,
   "metadata": {},
   "outputs": [],
   "source": []
  }
 ],
 "metadata": {
  "kernelspec": {
   "display_name": "Python 3",
   "language": "python",
   "name": "python3"
  },
  "language_info": {
   "codemirror_mode": {
    "name": "ipython",
    "version": 3
   },
   "file_extension": ".py",
   "mimetype": "text/x-python",
   "name": "python",
   "nbconvert_exporter": "python",
   "pygments_lexer": "ipython3",
   "version": "3.7.4"
  }
 },
 "nbformat": 4,
 "nbformat_minor": 2
}
