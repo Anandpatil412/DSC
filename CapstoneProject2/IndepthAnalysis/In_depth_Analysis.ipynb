{
 "cells": [
  {
   "cell_type": "markdown",
   "metadata": {},
   "source": [
    "<div class=\"span5 alert alert-info\">\n",
    "<b>\n",
    "<h2>    \n",
    "Predictive Analysis:\n",
    "</h2>    \n",
    "</b>\n",
    "</div>"
   ]
  },
  {
   "cell_type": "code",
   "execution_count": 1,
   "metadata": {},
   "outputs": [],
   "source": [
    "import pandas as pd\n",
    "import numpy as np\n",
    "import matplotlib.pyplot as plt"
   ]
  },
  {
   "cell_type": "code",
   "execution_count": 2,
   "metadata": {},
   "outputs": [
    {
     "data": {
      "text/plain": [
       "Index(['id', 'date_account_created', 'timestamp_first_active',\n",
       "       'date_first_booking', 'gender', 'age_bucket', 'signup_method',\n",
       "       'signup_flow', 'language', 'affiliate_channel', 'affiliate_provider',\n",
       "       'first_affiliate_tracked', 'signup_app', 'first_device_type',\n",
       "       'first_browser', 'month_of_first_booking', 'Others', 'action_active',\n",
       "       'action_ajax_check_dates', 'action_ajax_lwlb_contact',\n",
       "       'action_ajax_photo_widget_form_iframe', 'action_ajax_refresh_subtotal',\n",
       "       'action_ask_question', 'action_authenticate',\n",
       "       'action_calendar_tab_inner2', 'action_campaigns', 'action_click',\n",
       "       'action_collections', 'action_complete_status', 'action_confirm_email',\n",
       "       'action_create', 'action_dashboard', 'action_edit',\n",
       "       'action_edit_verification', 'action_header_userpic', 'action_identity',\n",
       "       'action_impressions', 'action_index', 'action_listings',\n",
       "       'action_lookup', 'action_manage_listing', 'action_notifications',\n",
       "       'action_other_hosting_reviews_first', 'action_personalize',\n",
       "       'action_qt2', 'action_recommendations', 'action_requested',\n",
       "       'action_reviews', 'action_search', 'action_search_results',\n",
       "       'action_show', 'action_show_personalize', 'action_similar_listings',\n",
       "       'action_similar_listings_v2', 'action_social_connections',\n",
       "       'action_track_page_view', 'action_travel_plans_current',\n",
       "       'action_unavailabilities', 'action_update', 'des_lang_AU',\n",
       "       'des_lang_CA', 'des_lang_DE', 'des_lang_ES', 'des_lang_FR',\n",
       "       'des_lang_GB', 'des_lang_IT', 'des_lang_NL', 'des_lang_PT',\n",
       "       'des_lang_US', 'country_destination', 'age_grp_AU', 'age_grp_CA',\n",
       "       'age_grp_DE', 'age_grp_ES', 'age_grp_FR', 'age_grp_GB', 'age_grp_IT',\n",
       "       'age_grp_NL', 'age_grp_PT', 'age_grp_US'],\n",
       "      dtype='object')"
      ]
     },
     "execution_count": 2,
     "metadata": {},
     "output_type": "execute_result"
    }
   ],
   "source": [
    "df_train_join = pd.read_csv(\"../DataFiles/air_bnb_clean_data/air_bnb_reduced_data.csv\")\n",
    "df_train_join.columns"
   ]
  },
  {
   "cell_type": "code",
   "execution_count": 3,
   "metadata": {},
   "outputs": [],
   "source": [
    "#setting plot style\n",
    "plt.style.use('ggplot')"
   ]
  },
  {
   "cell_type": "markdown",
   "metadata": {},
   "source": [
    "<div class=\"span5 alert alert-info\">\n",
    "<b>    \n",
    "Feature Selection\n",
    "</b>    \n",
    "</div>"
   ]
  },
  {
   "cell_type": "code",
   "execution_count": 4,
   "metadata": {},
   "outputs": [],
   "source": [
    "df_train_join.fillna(9999, inplace=True)"
   ]
  },
  {
   "cell_type": "code",
   "execution_count": 5,
   "metadata": {},
   "outputs": [],
   "source": [
    "from sklearn.model_selection import train_test_split\n",
    "from sklearn.ensemble import RandomForestClassifier\n",
    "from sklearn.metrics import accuracy_score,classification_report,confusion_matrix"
   ]
  },
  {
   "cell_type": "code",
   "execution_count": 6,
   "metadata": {},
   "outputs": [],
   "source": [
    "from sklearn.feature_selection import VarianceThreshold, mutual_info_classif\n",
    "from sklearn.feature_selection import SelectKBest, SelectPercentile"
   ]
  },
  {
   "cell_type": "code",
   "execution_count": 7,
   "metadata": {},
   "outputs": [
    {
     "data": {
      "text/plain": [
       "((213451, 75), (213451,))"
      ]
     },
     "execution_count": 7,
     "metadata": {},
     "output_type": "execute_result"
    }
   ],
   "source": [
    "#dropping redundant columns\n",
    "X = df_train_join.drop(['id','date_account_created','timestamp_first_active','date_first_booking','country_destination'],axis=1)\n",
    "y = df_train_join['country_destination']\n",
    "\n",
    "X.shape, y.shape"
   ]
  },
  {
   "cell_type": "code",
   "execution_count": 8,
   "metadata": {},
   "outputs": [
    {
     "data": {
      "text/plain": [
       "Index(['id', 'date_account_created', 'timestamp_first_active',\n",
       "       'date_first_booking', 'gender', 'age_bucket', 'signup_method',\n",
       "       'signup_flow', 'language', 'affiliate_channel', 'affiliate_provider',\n",
       "       'first_affiliate_tracked', 'signup_app', 'first_device_type',\n",
       "       'first_browser', 'month_of_first_booking', 'Others', 'action_active',\n",
       "       'action_ajax_check_dates', 'action_ajax_lwlb_contact',\n",
       "       'action_ajax_photo_widget_form_iframe', 'action_ajax_refresh_subtotal',\n",
       "       'action_ask_question', 'action_authenticate',\n",
       "       'action_calendar_tab_inner2', 'action_campaigns', 'action_click',\n",
       "       'action_collections', 'action_complete_status', 'action_confirm_email',\n",
       "       'action_create', 'action_dashboard', 'action_edit',\n",
       "       'action_edit_verification', 'action_header_userpic', 'action_identity',\n",
       "       'action_impressions', 'action_index', 'action_listings',\n",
       "       'action_lookup', 'action_manage_listing', 'action_notifications',\n",
       "       'action_other_hosting_reviews_first', 'action_personalize',\n",
       "       'action_qt2', 'action_recommendations', 'action_requested',\n",
       "       'action_reviews', 'action_search', 'action_search_results',\n",
       "       'action_show', 'action_show_personalize', 'action_similar_listings',\n",
       "       'action_similar_listings_v2', 'action_social_connections',\n",
       "       'action_track_page_view', 'action_travel_plans_current',\n",
       "       'action_unavailabilities', 'action_update', 'des_lang_AU',\n",
       "       'des_lang_CA', 'des_lang_DE', 'des_lang_ES', 'des_lang_FR',\n",
       "       'des_lang_GB', 'des_lang_IT', 'des_lang_NL', 'des_lang_PT',\n",
       "       'des_lang_US', 'country_destination', 'age_grp_AU', 'age_grp_CA',\n",
       "       'age_grp_DE', 'age_grp_ES', 'age_grp_FR', 'age_grp_GB', 'age_grp_IT',\n",
       "       'age_grp_NL', 'age_grp_PT', 'age_grp_US'],\n",
       "      dtype='object')"
      ]
     },
     "execution_count": 8,
     "metadata": {},
     "output_type": "execute_result"
    }
   ],
   "source": [
    "df_train_join.columns"
   ]
  },
  {
   "cell_type": "markdown",
   "metadata": {},
   "source": [
    "<div class=\"span5 alert alert-info\">\n",
    "<b>\n",
    "Create training and test sets\n",
    "</b>\n",
    "</div> "
   ]
  },
  {
   "cell_type": "code",
   "execution_count": 9,
   "metadata": {},
   "outputs": [],
   "source": [
    "X_train,X_test,y_train,y_test = train_test_split(X, y, test_size = 0.3, random_state = 0, stratify = y)"
   ]
  },
  {
   "cell_type": "code",
   "execution_count": 10,
   "metadata": {},
   "outputs": [
    {
     "data": {
      "text/plain": [
       "((149415, 75), (64036, 75))"
      ]
     },
     "execution_count": 10,
     "metadata": {},
     "output_type": "execute_result"
    }
   ],
   "source": [
    "X_train.shape, X_test.shape"
   ]
  },
  {
   "cell_type": "markdown",
   "metadata": {},
   "source": [
    "**Remove constant quasi constant**"
   ]
  },
  {
   "cell_type": "code",
   "execution_count": 11,
   "metadata": {},
   "outputs": [],
   "source": [
    "constant_filter = VarianceThreshold(threshold = 0.01)\n",
    "constant_filter.fit(X_train)\n",
    "\n",
    "X_train_filter = constant_filter.transform(X_train)\n",
    "X_test_filter = constant_filter.transform(X_test)"
   ]
  },
  {
   "cell_type": "markdown",
   "metadata": {},
   "source": [
    "**Removing duplicate features**"
   ]
  },
  {
   "cell_type": "code",
   "execution_count": 12,
   "metadata": {},
   "outputs": [],
   "source": [
    "X_train_T = X_train_filter.T\n",
    "X_test_T = X_test_filter.T"
   ]
  },
  {
   "cell_type": "code",
   "execution_count": 13,
   "metadata": {},
   "outputs": [],
   "source": [
    "X_train_T = pd.DataFrame(X_train_T) \n",
    "X_test_T = pd.DataFrame(X_test_T) "
   ]
  },
  {
   "cell_type": "code",
   "execution_count": 15,
   "metadata": {},
   "outputs": [],
   "source": [
    "dupicated_features = X_train_T.duplicated()"
   ]
  },
  {
   "cell_type": "code",
   "execution_count": 16,
   "metadata": {},
   "outputs": [
    {
     "name": "stdout",
     "output_type": "stream",
     "text": [
      "total duplicate features 3\n"
     ]
    }
   ],
   "source": [
    "print(\"total duplicate features\",dupicated_features.sum())"
   ]
  },
  {
   "cell_type": "code",
   "execution_count": 18,
   "metadata": {},
   "outputs": [
    {
     "name": "stdout",
     "output_type": "stream",
     "text": [
      "duplicate features Index(['des_lang_CA', 'des_lang_GB', 'des_lang_US'], dtype='object')\n"
     ]
    }
   ],
   "source": [
    "dup_index = [i for i, val in enumerate(dupicated_features) if val] \n",
    "print('duplicate features',X_train.columns[dup_index])"
   ]
  },
  {
   "cell_type": "code",
   "execution_count": 19,
   "metadata": {},
   "outputs": [],
   "source": [
    "features_to_keep = [not index for index in dupicated_features]"
   ]
  },
  {
   "cell_type": "code",
   "execution_count": 20,
   "metadata": {},
   "outputs": [],
   "source": [
    "X_train_unique = X_train_T[features_to_keep].T\n",
    "X_test_unique = X_test_T[features_to_keep].T"
   ]
  },
  {
   "cell_type": "code",
   "execution_count": 21,
   "metadata": {},
   "outputs": [
    {
     "data": {
      "text/plain": [
       "((149415, 72), (64036, 72))"
      ]
     },
     "execution_count": 21,
     "metadata": {},
     "output_type": "execute_result"
    }
   ],
   "source": [
    "X_train_unique.shape, X_test_unique.shape"
   ]
  },
  {
   "cell_type": "markdown",
   "metadata": {},
   "source": [
    "**Calculating Mutual Information**"
   ]
  },
  {
   "cell_type": "code",
   "execution_count": 22,
   "metadata": {},
   "outputs": [],
   "source": [
    "mi = mutual_info_classif(X_train_unique, y_train)"
   ]
  },
  {
   "cell_type": "code",
   "execution_count": 23,
   "metadata": {},
   "outputs": [
    {
     "data": {
      "text/plain": [
       "72"
      ]
     },
     "execution_count": 23,
     "metadata": {},
     "output_type": "execute_result"
    }
   ],
   "source": [
    "len(mi)"
   ]
  },
  {
   "cell_type": "code",
   "execution_count": 24,
   "metadata": {},
   "outputs": [
    {
     "data": {
      "text/plain": [
       "array([2.93573723e-02, 4.01912123e-02, 2.40324644e-03, 1.46156716e-02,\n",
       "       1.63402488e-02, 1.09478820e-02, 8.49524928e-03, 7.32609329e-03,\n",
       "       1.79913818e-02, 1.18416956e-02, 1.14121992e-02, 7.04105997e-01,\n",
       "       1.11447545e-02, 1.27668123e-02, 1.72649369e-02, 1.46262917e-02,\n",
       "       1.79228714e-02, 1.59155745e-02, 1.76278743e-02, 8.87469331e-03,\n",
       "       1.46914262e-02, 1.45353144e-02, 1.50917407e-02, 1.53412262e-02,\n",
       "       1.72705265e-02, 5.60673228e-03, 1.63254666e-02, 1.46402402e-02,\n",
       "       1.54581418e-02, 1.64014415e-02, 1.56620007e-02, 1.80352991e-02,\n",
       "       1.66194043e-02, 6.62645515e-03, 1.71369596e-02, 1.62339897e-02,\n",
       "       1.79341712e-02, 1.82039360e-02, 1.49077266e-02, 1.03255360e-02,\n",
       "       1.90429980e-02, 1.72400380e-02, 2.83587098e-02, 1.79089302e-02,\n",
       "       1.54139110e-02, 1.42795774e-02, 8.40425899e-03, 1.77936735e-02,\n",
       "       1.52312873e-02, 1.73055652e-02, 1.75335054e-02, 1.59802348e-02,\n",
       "       2.44310776e-02, 1.80206333e-02, 8.11471500e-03, 5.34224820e-04,\n",
       "       1.83268712e-02, 1.82399030e-02, 1.76423290e-02, 1.79029533e-02,\n",
       "       1.52522644e-02, 1.69173205e-02, 3.62557813e-02, 4.09721922e-02,\n",
       "       3.92683765e-02, 3.85981287e-02, 3.81929368e-02, 3.71630423e-02,\n",
       "       4.00501530e-02, 4.14797402e-02, 3.92965559e-02, 4.06028405e-02])"
      ]
     },
     "execution_count": 24,
     "metadata": {},
     "output_type": "execute_result"
    }
   ],
   "source": [
    "mi #Higher the number better the mutual information."
   ]
  },
  {
   "cell_type": "code",
   "execution_count": 25,
   "metadata": {},
   "outputs": [],
   "source": [
    "mi = pd.Series(mi)\n",
    "mi.index = X_train.columns[X_train_unique.columns]"
   ]
  },
  {
   "cell_type": "code",
   "execution_count": 26,
   "metadata": {},
   "outputs": [
    {
     "data": {
      "text/plain": [
       "Index(['gender', 'age_bucket', 'signup_method', 'signup_flow', 'language',\n",
       "       'affiliate_channel', 'affiliate_provider', 'first_affiliate_tracked',\n",
       "       'signup_app', 'first_device_type', 'first_browser',\n",
       "       'month_of_first_booking', 'Others', 'action_active',\n",
       "       'action_ajax_check_dates', 'action_ajax_lwlb_contact',\n",
       "       'action_ajax_photo_widget_form_iframe', 'action_ajax_refresh_subtotal',\n",
       "       'action_ask_question', 'action_authenticate',\n",
       "       'action_calendar_tab_inner2', 'action_campaigns', 'action_click',\n",
       "       'action_collections', 'action_complete_status', 'action_confirm_email',\n",
       "       'action_create', 'action_dashboard', 'action_edit',\n",
       "       'action_edit_verification', 'action_header_userpic', 'action_identity',\n",
       "       'action_impressions', 'action_index', 'action_listings',\n",
       "       'action_lookup', 'action_manage_listing', 'action_notifications',\n",
       "       'action_other_hosting_reviews_first', 'action_personalize',\n",
       "       'action_qt2', 'action_recommendations', 'action_requested',\n",
       "       'action_reviews', 'action_search', 'action_search_results',\n",
       "       'action_show', 'action_show_personalize', 'action_similar_listings',\n",
       "       'action_similar_listings_v2', 'action_social_connections',\n",
       "       'action_track_page_view', 'action_travel_plans_current',\n",
       "       'action_unavailabilities', 'action_update', 'des_lang_AU',\n",
       "       'des_lang_DE', 'des_lang_ES', 'des_lang_FR', 'des_lang_IT',\n",
       "       'des_lang_NL', 'des_lang_PT', 'age_grp_AU', 'age_grp_CA', 'age_grp_DE',\n",
       "       'age_grp_ES', 'age_grp_FR', 'age_grp_GB', 'age_grp_IT', 'age_grp_NL',\n",
       "       'age_grp_PT', 'age_grp_US'],\n",
       "      dtype='object')"
      ]
     },
     "execution_count": 26,
     "metadata": {},
     "output_type": "execute_result"
    }
   ],
   "source": [
    "mi.index"
   ]
  },
  {
   "cell_type": "code",
   "execution_count": 27,
   "metadata": {},
   "outputs": [
    {
     "data": {
      "text/plain": [
       "des_lang_AU                0.000534\n",
       "signup_method              0.002403\n",
       "action_confirm_email       0.005607\n",
       "action_index               0.006626\n",
       "first_affiliate_tracked    0.007326\n",
       "                             ...   \n",
       "age_bucket                 0.040191\n",
       "age_grp_US                 0.040603\n",
       "age_grp_CA                 0.040972\n",
       "age_grp_NL                 0.041480\n",
       "month_of_first_booking     0.704106\n",
       "Length: 72, dtype: float64"
      ]
     },
     "execution_count": 27,
     "metadata": {},
     "output_type": "execute_result"
    }
   ],
   "source": [
    "values = mi.sort_values(ascending=True)\n",
    "values"
   ]
  },
  {
   "cell_type": "markdown",
   "metadata": {},
   "source": [
    "**Plotting features with mutual information for classification**"
   ]
  },
  {
   "cell_type": "code",
   "execution_count": 28,
   "metadata": {},
   "outputs": [
    {
     "data": {
      "text/plain": [
       "<matplotlib.axes._subplots.AxesSubplot at 0x1432b1590>"
      ]
     },
     "execution_count": 28,
     "metadata": {},
     "output_type": "execute_result"
    },
    {
     "data": {
      "image/png": "[encoded data removed]",
      "text/plain": [
       "<Figure size 1152x1152 with 1 Axes>"
      ]
     },
     "metadata": {},
     "output_type": "display_data"
    }
   ],
   "source": [
    "values.plot(kind='barh',figsize=(16,16))"
   ]
  },
  {
   "cell_type": "markdown",
   "metadata": {},
   "source": [
    "**month_of_first_booking has highest mutual information for classification.**"
   ]
  },
  {
   "cell_type": "markdown",
   "metadata": {},
   "source": [
    "**Selecting the best features, setting a threshold of 10 precentile**"
   ]
  },
  {
   "cell_type": "code",
   "execution_count": 29,
   "metadata": {},
   "outputs": [
    {
     "data": {
      "text/plain": [
       "Int64Index([1, 11, 65, 66, 67, 71, 73, 74], dtype='int64')"
      ]
     },
     "execution_count": 29,
     "metadata": {},
     "output_type": "execute_result"
    }
   ],
   "source": [
    "sel = SelectPercentile(mutual_info_classif,percentile=10).fit(X_train_unique,y_train)\n",
    "X_train_unique.columns[sel.get_support()]"
   ]
  },
  {
   "cell_type": "code",
   "execution_count": 30,
   "metadata": {},
   "outputs": [
    {
     "data": {
      "text/plain": [
       "8"
      ]
     },
     "execution_count": 30,
     "metadata": {},
     "output_type": "execute_result"
    }
   ],
   "source": [
    "len(X_train_unique.columns[sel.get_support()])"
   ]
  },
  {
   "cell_type": "markdown",
   "metadata": {},
   "source": [
    "**Keeping only these features for further analysis**"
   ]
  },
  {
   "cell_type": "code",
   "execution_count": 31,
   "metadata": {},
   "outputs": [
    {
     "data": {
      "text/plain": [
       "((149415, 8), (64036, 8))"
      ]
     },
     "execution_count": 31,
     "metadata": {},
     "output_type": "execute_result"
    }
   ],
   "source": [
    "X_train_mi = sel.transform(X_train_unique)\n",
    "X_test_mi = sel.transform(X_test_unique)\n",
    "\n",
    "X_train_mi.shape,X_test_mi.shape"
   ]
  },
  {
   "cell_type": "markdown",
   "metadata": {},
   "source": [
    "****"
   ]
  },
  {
   "cell_type": "markdown",
   "metadata": {},
   "source": [
    "<div class=\"span5 alert alert-info\">\n",
    "<b>\n",
    "Predictive model and performance\n",
    "</b>\n",
    "</div>"
   ]
  },
  {
   "cell_type": "code",
   "execution_count": 32,
   "metadata": {},
   "outputs": [],
   "source": [
    "X_train = X_train_mi #Renaming\n",
    "X_test = X_test_mi"
   ]
  },
  {
   "cell_type": "markdown",
   "metadata": {},
   "source": [
    "<div class=\"span5 alert alert-info\">\n",
    "<b>\n",
    "RandomForest Classifier\n",
    "</b>\n",
    "</div>"
   ]
  },
  {
   "cell_type": "code",
   "execution_count": 33,
   "metadata": {},
   "outputs": [
    {
     "data": {
      "text/plain": [
       "RandomForestClassifier(bootstrap=True, class_weight=None, criterion='gini',\n",
       "                       max_depth=None, max_features='auto', max_leaf_nodes=None,\n",
       "                       min_impurity_decrease=0.0, min_impurity_split=None,\n",
       "                       min_samples_leaf=1, min_samples_split=2,\n",
       "                       min_weight_fraction_leaf=0.0, n_estimators=100, n_jobs=1,\n",
       "                       oob_score=False, random_state=0, verbose=0,\n",
       "                       warm_start=False)"
      ]
     },
     "execution_count": 33,
     "metadata": {},
     "output_type": "execute_result"
    }
   ],
   "source": [
    "clf = RandomForestClassifier(n_estimators=100,random_state=0,n_jobs=1)\n",
    "clf.fit(X_train,y_train)"
   ]
  },
  {
   "cell_type": "code",
   "execution_count": 34,
   "metadata": {},
   "outputs": [],
   "source": [
    "y_pred = clf.predict(X_test)"
   ]
  },
  {
   "cell_type": "code",
   "execution_count": 35,
   "metadata": {},
   "outputs": [
    {
     "name": "stdout",
     "output_type": "stream",
     "text": [
      "accuracy_score 0.8756480729589606\n"
     ]
    }
   ],
   "source": [
    "print(\"accuracy_score\",accuracy_score(y_test,y_pred))"
   ]
  },
  {
   "cell_type": "code",
   "execution_count": 36,
   "metadata": {},
   "outputs": [
    {
     "name": "stdout",
     "output_type": "stream",
     "text": [
      "              precision    recall  f1-score   support\n",
      "\n",
      "           0       0.00      0.00      0.00       162\n",
      "           1       0.00      0.00      0.00       428\n",
      "           2       0.00      0.00      0.00       318\n",
      "           3       0.00      0.00      0.00       675\n",
      "           4       0.00      0.00      0.00      1507\n",
      "           5       0.00      0.00      0.00       697\n",
      "           6       0.00      0.00      0.00       851\n",
      "           7       1.00      1.00      1.00     37363\n",
      "           8       0.00      0.00      0.00       229\n",
      "           9       0.00      0.00      0.00        65\n",
      "          10       0.70      1.00      0.82     18713\n",
      "          11       0.00      0.00      0.00      3028\n",
      "\n",
      "    accuracy                           0.88     64036\n",
      "   macro avg       0.14      0.17      0.15     64036\n",
      "weighted avg       0.79      0.88      0.82     64036\n",
      "\n"
     ]
    },
    {
     "name": "stderr",
     "output_type": "stream",
     "text": [
      "/Users/Anand/anaconda3/lib/python3.7/site-packages/sklearn/metrics/classification.py:1437: UndefinedMetricWarning: Precision and F-score are ill-defined and being set to 0.0 in labels with no predicted samples.\n",
      "  'precision', 'predicted', average, warn_for)\n"
     ]
    }
   ],
   "source": [
    "print(classification_report(y_test,y_pred))"
   ]
  },
  {
   "cell_type": "code",
   "execution_count": 37,
   "metadata": {},
   "outputs": [
    {
     "data": {
      "text/plain": [
       "Text(0.5, 0, 'predicted destination countries')"
      ]
     },
     "execution_count": 37,
     "metadata": {},
     "output_type": "execute_result"
    },
    {
     "data": {
      "image/png": "[encoded data removed]",
      "text/plain": [
       "<Figure size 1296x576 with 2 Axes>"
      ]
     },
     "metadata": {},
     "output_type": "display_data"
    }
   ],
   "source": [
    "plt.figure(figsize=(18,8))\n",
    "\n",
    "plt.subplot(1, 2, 1)\n",
    "cat_counts = y_test.value_counts()\n",
    "cat_counts.plot.bar()\n",
    "plt.xlabel(\"test destination countries\")\n",
    "\n",
    "plt.subplot(1, 2, 2)\n",
    "cat_counts = pd.Series(y_pred).value_counts()\n",
    "cat_counts.plot.bar()\n",
    "plt.xlabel(\"predicted destination countries\")\n"
   ]
  },
  {
   "cell_type": "markdown",
   "metadata": {},
   "source": [
    "**From the above plot we see that two major class 7 and 10 are classified with accuracy of 0.875**"
   ]
  },
  {
   "cell_type": "markdown",
   "metadata": {},
   "source": [
    "<div class=\"span5 alert alert-info\">\n",
    "<b>\n",
    "Hyper parameter tuning\n",
    "</b>\n",
    "</div>"
   ]
  },
  {
   "cell_type": "markdown",
   "metadata": {},
   "source": [
    "<div class=\"span5 alert alert-info\">\n",
    "<b>\n",
    "RandomSearchCV\n",
    "</b>\n",
    "</div>"
   ]
  },
  {
   "cell_type": "code",
   "execution_count": 38,
   "metadata": {},
   "outputs": [
    {
     "name": "stdout",
     "output_type": "stream",
     "text": [
      "{'bootstrap': True, 'class_weight': None, 'criterion': 'gini', 'max_depth': None, 'max_features': 'auto', 'max_leaf_nodes': None, 'min_impurity_decrease': 0.0, 'min_impurity_split': None, 'min_samples_leaf': 1, 'min_samples_split': 2, 'min_weight_fraction_leaf': 0.0, 'n_estimators': 100, 'n_jobs': 1, 'oob_score': False, 'random_state': 0, 'verbose': 0, 'warm_start': False}\n"
     ]
    }
   ],
   "source": [
    "print(clf.get_params())"
   ]
  },
  {
   "cell_type": "code",
   "execution_count": 39,
   "metadata": {},
   "outputs": [
    {
     "name": "stdout",
     "output_type": "stream",
     "text": [
      "{'n_estimators': [200, 400, 600, 800, 1000, 1200, 1400, 1600, 1800, 2000], 'max_features': ['auto', 'sqrt'], 'max_depth': [10, 20, 30, 40, 50, 60, 70, 80, 90, 100, 110, None], 'min_samples_split': [2, 5, 10], 'min_samples_leaf': [1, 2, 4], 'bootstrap': [True, False]}\n"
     ]
    }
   ],
   "source": [
    "n_estimators = [int(x) for x in np.linspace(start = 200, stop = 2000, num = 10)]\n",
    "\n",
    "# Number of features to consider at every split\n",
    "max_features = ['auto', 'sqrt']\n",
    "\n",
    "# Maximum number of levels in tree\n",
    "max_depth = [int(x) for x in np.linspace(10, 110, num = 11)]\n",
    "max_depth.append(None)\n",
    "\n",
    "# Minimum number of samples required to split a node\n",
    "min_samples_split = [2, 5, 10]\n",
    "\n",
    "# Minimum number of samples required at each leaf node\n",
    "min_samples_leaf = [1, 2, 4]\n",
    "\n",
    "# Method of selecting samples for training each tree\n",
    "bootstrap = [True, False]\n",
    "\n",
    "# Create the random grid\n",
    "random_grid = {'n_estimators': n_estimators,\n",
    "               'max_features': max_features,\n",
    "               'max_depth': max_depth,\n",
    "               'min_samples_split': min_samples_split,\n",
    "               'min_samples_leaf': min_samples_leaf,\n",
    "               'bootstrap': bootstrap}\n",
    "\n",
    "print(random_grid)"
   ]
  },
  {
   "cell_type": "code",
   "execution_count": 40,
   "metadata": {},
   "outputs": [
    {
     "name": "stdout",
     "output_type": "stream",
     "text": [
      "Fitting 3 folds for each of 10 candidates, totalling 30 fits\n"
     ]
    },
    {
     "name": "stderr",
     "output_type": "stream",
     "text": [
      "[Parallel(n_jobs=-1)]: Using backend LokyBackend with 8 concurrent workers.\n",
      "[Parallel(n_jobs=-1)]: Done  30 out of  30 | elapsed:  7.1min finished\n"
     ]
    },
    {
     "data": {
      "text/plain": [
       "RandomizedSearchCV(cv=3, error_score='raise-deprecating',\n",
       "                   estimator=RandomForestClassifier(bootstrap=True,\n",
       "                                                    class_weight=None,\n",
       "                                                    criterion='gini',\n",
       "                                                    max_depth=None,\n",
       "                                                    max_features='auto',\n",
       "                                                    max_leaf_nodes=None,\n",
       "                                                    min_impurity_decrease=0.0,\n",
       "                                                    min_impurity_split=None,\n",
       "                                                    min_samples_leaf=1,\n",
       "                                                    min_samples_split=2,\n",
       "                                                    min_weight_fraction_leaf=0.0,\n",
       "                                                    n_estimators='warn',\n",
       "                                                    n_jobs=None,\n",
       "                                                    oob_sc...\n",
       "                   param_distributions={'bootstrap': [True, False],\n",
       "                                        'max_depth': [10, 20, 30, 40, 50, 60,\n",
       "                                                      70, 80, 90, 100, 110,\n",
       "                                                      None],\n",
       "                                        'max_features': ['auto', 'sqrt'],\n",
       "                                        'min_samples_leaf': [1, 2, 4],\n",
       "                                        'min_samples_split': [2, 5, 10],\n",
       "                                        'n_estimators': [200, 400, 600, 800,\n",
       "                                                         1000, 1200, 1400, 1600,\n",
       "                                                         1800, 2000]},\n",
       "                   pre_dispatch='2*n_jobs', random_state=42, refit=True,\n",
       "                   return_train_score=False, scoring=None, verbose=2)"
      ]
     },
     "execution_count": 40,
     "metadata": {},
     "output_type": "execute_result"
    }
   ],
   "source": [
    "from sklearn.model_selection import RandomizedSearchCV\n",
    "\n",
    "# Use the random grid to search for best hyperparameters\n",
    "# First create the base model to tune\n",
    "\n",
    "rf = RandomForestClassifier()\n",
    "# Random search of parameters, using 3 fold cross validation, \n",
    "# search across 100 different combinations, and use all available cores\n",
    "\n",
    "rf_random = RandomizedSearchCV(estimator = rf, param_distributions = random_grid, n_iter = 10, cv = 3, verbose=2, random_state=42, n_jobs = -1)\n",
    "\n",
    "# Fit the random search model\n",
    "rf_random.fit(X_train,y_train)"
   ]
  },
  {
   "cell_type": "code",
   "execution_count": 41,
   "metadata": {},
   "outputs": [
    {
     "name": "stdout",
     "output_type": "stream",
     "text": [
      "{'n_estimators': 1200, 'min_samples_split': 2, 'min_samples_leaf': 4, 'max_features': 'auto', 'max_depth': 100, 'bootstrap': True}\n"
     ]
    }
   ],
   "source": [
    "print(rf_random.best_params_)"
   ]
  },
  {
   "cell_type": "code",
   "execution_count": 42,
   "metadata": {},
   "outputs": [],
   "source": [
    "best_random = rf_random.best_estimator_"
   ]
  },
  {
   "cell_type": "code",
   "execution_count": 43,
   "metadata": {},
   "outputs": [
    {
     "name": "stdout",
     "output_type": "stream",
     "text": [
      "accuracy_score 0.8756949216065963\n"
     ]
    }
   ],
   "source": [
    "best_random.fit(X_train,y_train)\n",
    "y_pred = best_random.predict(X_test)\n",
    "\n",
    "print(\"accuracy_score\",accuracy_score(y_test,y_pred))"
   ]
  },
  {
   "cell_type": "markdown",
   "metadata": {},
   "source": [
    "**Hyperparameter tunning gives accuracy score of 0.875**"
   ]
  },
  {
   "cell_type": "markdown",
   "metadata": {},
   "source": [
    "****"
   ]
  },
  {
   "cell_type": "markdown",
   "metadata": {},
   "source": [
    "<div class=\"span5 alert alert-info\">\n",
    "<b>\n",
    "Neural Networks\n",
    "</b>\n",
    "</div>"
   ]
  },
  {
   "cell_type": "code",
   "execution_count": 44,
   "metadata": {},
   "outputs": [
    {
     "name": "stderr",
     "output_type": "stream",
     "text": [
      "Using TensorFlow backend.\n",
      "/Users/Anand/anaconda3/lib/python3.7/site-packages/tensorflow/python/framework/dtypes.py:516: FutureWarning: Passing (type, 1) or '1type' as a synonym of type is deprecated; in a future version of numpy, it will be understood as (type, (1,)) / '(1,)type'.\n",
      "  _np_qint8 = np.dtype([(\"qint8\", np.int8, 1)])\n",
      "/Users/Anand/anaconda3/lib/python3.7/site-packages/tensorflow/python/framework/dtypes.py:517: FutureWarning: Passing (type, 1) or '1type' as a synonym of type is deprecated; in a future version of numpy, it will be understood as (type, (1,)) / '(1,)type'.\n",
      "  _np_quint8 = np.dtype([(\"quint8\", np.uint8, 1)])\n",
      "/Users/Anand/anaconda3/lib/python3.7/site-packages/tensorflow/python/framework/dtypes.py:518: FutureWarning: Passing (type, 1) or '1type' as a synonym of type is deprecated; in a future version of numpy, it will be understood as (type, (1,)) / '(1,)type'.\n",
      "  _np_qint16 = np.dtype([(\"qint16\", np.int16, 1)])\n",
      "/Users/Anand/anaconda3/lib/python3.7/site-packages/tensorflow/python/framework/dtypes.py:519: FutureWarning: Passing (type, 1) or '1type' as a synonym of type is deprecated; in a future version of numpy, it will be understood as (type, (1,)) / '(1,)type'.\n",
      "  _np_quint16 = np.dtype([(\"quint16\", np.uint16, 1)])\n",
      "/Users/Anand/anaconda3/lib/python3.7/site-packages/tensorflow/python/framework/dtypes.py:520: FutureWarning: Passing (type, 1) or '1type' as a synonym of type is deprecated; in a future version of numpy, it will be understood as (type, (1,)) / '(1,)type'.\n",
      "  _np_qint32 = np.dtype([(\"qint32\", np.int32, 1)])\n",
      "/Users/Anand/anaconda3/lib/python3.7/site-packages/tensorflow/python/framework/dtypes.py:525: FutureWarning: Passing (type, 1) or '1type' as a synonym of type is deprecated; in a future version of numpy, it will be understood as (type, (1,)) / '(1,)type'.\n",
      "  np_resource = np.dtype([(\"resource\", np.ubyte, 1)])\n",
      "/Users/Anand/anaconda3/lib/python3.7/site-packages/tensorboard/compat/tensorflow_stub/dtypes.py:541: FutureWarning: Passing (type, 1) or '1type' as a synonym of type is deprecated; in a future version of numpy, it will be understood as (type, (1,)) / '(1,)type'.\n",
      "  _np_qint8 = np.dtype([(\"qint8\", np.int8, 1)])\n",
      "/Users/Anand/anaconda3/lib/python3.7/site-packages/tensorboard/compat/tensorflow_stub/dtypes.py:542: FutureWarning: Passing (type, 1) or '1type' as a synonym of type is deprecated; in a future version of numpy, it will be understood as (type, (1,)) / '(1,)type'.\n",
      "  _np_quint8 = np.dtype([(\"quint8\", np.uint8, 1)])\n",
      "/Users/Anand/anaconda3/lib/python3.7/site-packages/tensorboard/compat/tensorflow_stub/dtypes.py:543: FutureWarning: Passing (type, 1) or '1type' as a synonym of type is deprecated; in a future version of numpy, it will be understood as (type, (1,)) / '(1,)type'.\n",
      "  _np_qint16 = np.dtype([(\"qint16\", np.int16, 1)])\n",
      "/Users/Anand/anaconda3/lib/python3.7/site-packages/tensorboard/compat/tensorflow_stub/dtypes.py:544: FutureWarning: Passing (type, 1) or '1type' as a synonym of type is deprecated; in a future version of numpy, it will be understood as (type, (1,)) / '(1,)type'.\n",
      "  _np_quint16 = np.dtype([(\"quint16\", np.uint16, 1)])\n",
      "/Users/Anand/anaconda3/lib/python3.7/site-packages/tensorboard/compat/tensorflow_stub/dtypes.py:545: FutureWarning: Passing (type, 1) or '1type' as a synonym of type is deprecated; in a future version of numpy, it will be understood as (type, (1,)) / '(1,)type'.\n",
      "  _np_qint32 = np.dtype([(\"qint32\", np.int32, 1)])\n",
      "/Users/Anand/anaconda3/lib/python3.7/site-packages/tensorboard/compat/tensorflow_stub/dtypes.py:550: FutureWarning: Passing (type, 1) or '1type' as a synonym of type is deprecated; in a future version of numpy, it will be understood as (type, (1,)) / '(1,)type'.\n",
      "  np_resource = np.dtype([(\"resource\", np.ubyte, 1)])\n"
     ]
    }
   ],
   "source": [
    "# Import necessary modules\n",
    "import keras\n",
    "from keras.layers import Dense\n",
    "from keras.models import Sequential\n",
    "from keras.utils import to_categorical\n"
   ]
  },
  {
   "cell_type": "markdown",
   "metadata": {},
   "source": [
    "**Base model using SGD optimiser**"
   ]
  },
  {
   "cell_type": "code",
   "execution_count": 45,
   "metadata": {},
   "outputs": [],
   "source": [
    "# Convert the target to categorical: target\n",
    "target_class = 12 #total class categories to predict\n",
    "\n",
    "#Setting predictors and target\n",
    "target = to_categorical(y_train)\n",
    "predictors = X_train\n",
    "\n",
    "#input nodes based on number of features\n",
    "n_cols = predictors.shape[1]"
   ]
  },
  {
   "cell_type": "code",
   "execution_count": 46,
   "metadata": {},
   "outputs": [
    {
     "name": "stdout",
     "output_type": "stream",
     "text": [
      "WARNING:tensorflow:From /Users/Anand/anaconda3/lib/python3.7/site-packages/keras/backend/tensorflow_backend.py:422: The name tf.global_variables is deprecated. Please use tf.compat.v1.global_variables instead.\n",
      "\n",
      "Epoch 1/5\n",
      "149415/149415 [==============================] - 8s 57us/step - loss: 1052450.1142 - accuracy: 0.8739\n",
      "Epoch 2/5\n",
      "149415/149415 [==============================] - 8s 51us/step - loss: 0.4988 - accuracy: 0.8757\n",
      "Epoch 3/5\n",
      "149415/149415 [==============================] - 8s 51us/step - loss: 0.4923 - accuracy: 0.8757\n",
      "Epoch 4/5\n",
      "149415/149415 [==============================] - 8s 51us/step - loss: 0.4897 - accuracy: 0.8757\n",
      "Epoch 5/5\n",
      "149415/149415 [==============================] - 8s 51us/step - loss: 0.4883 - accuracy: 0.8757\n"
     ]
    },
    {
     "data": {
      "text/plain": [
       "<keras.callbacks.callbacks.History at 0x15ffe2090>"
      ]
     },
     "execution_count": 46,
     "metadata": {},
     "output_type": "execute_result"
    }
   ],
   "source": [
    "#Set up the model\n",
    "model_bSGD = Sequential() #base model using SGD optimiser\n",
    "\n",
    "# Add the first layer\n",
    "model_bSGD.add(Dense(100, activation='relu', input_shape=(n_cols,)))\n",
    "\n",
    "# Add the output layer\n",
    "model_bSGD.add(Dense(target_class, activation='softmax'))\n",
    "\n",
    "# Compile the model\n",
    "model_bSGD.compile(optimizer='SGD', \n",
    "               loss='categorical_crossentropy', \n",
    "               metrics=['accuracy'])\n",
    "\n",
    "# Fit the model\n",
    "model_bSGD.fit(predictors, target, epochs = 5)"
   ]
  },
  {
   "cell_type": "code",
   "execution_count": 47,
   "metadata": {},
   "outputs": [
    {
     "data": {
      "text/plain": [
       "7     37363\n",
       "10    26673\n",
       "dtype: int64"
      ]
     },
     "execution_count": 47,
     "metadata": {},
     "output_type": "execute_result"
    }
   ],
   "source": [
    "#Calculate predictions: predictions\n",
    "\n",
    "pred_data = X_test\n",
    "predictions = model_bSGD.predict_classes(pred_data) #predicting classes\n",
    "\n",
    "pd.Series(predictions).value_counts()"
   ]
  },
  {
   "cell_type": "code",
   "execution_count": 48,
   "metadata": {},
   "outputs": [
    {
     "data": {
      "text/plain": [
       "Text(0.5, 0, 'predicted destination countries')"
      ]
     },
     "execution_count": 48,
     "metadata": {},
     "output_type": "execute_result"
    },
    {
     "data": {
      "image/png": "[encoded data removed]",
      "text/plain": [
       "<Figure size 1296x576 with 2 Axes>"
      ]
     },
     "metadata": {},
     "output_type": "display_data"
    }
   ],
   "source": [
    "plt.figure(figsize=(18,8))\n",
    "\n",
    "plt.subplot(1, 2, 1)\n",
    "cat_counts = y_test.value_counts()\n",
    "cat_counts.plot.bar()\n",
    "plt.xlabel(\"test destination countries\")\n",
    "\n",
    "plt.subplot(1, 2, 2)\n",
    "cat_counts = pd.Series(predictions).value_counts()\n",
    "cat_counts.plot.bar()\n",
    "plt.xlabel(\"predicted destination countries\")\n"
   ]
  },
  {
   "cell_type": "markdown",
   "metadata": {},
   "source": [
    "**From the above plot, we see the model with SGD optimiser predicts two major classes 7(NDF) and class 10(US) of all the class with an accuracy = 0.875**"
   ]
  },
  {
   "cell_type": "code",
   "execution_count": null,
   "metadata": {},
   "outputs": [],
   "source": []
  },
  {
   "cell_type": "markdown",
   "metadata": {},
   "source": [
    "**Base model using ADAM optimiser**"
   ]
  },
  {
   "cell_type": "code",
   "execution_count": 49,
   "metadata": {},
   "outputs": [
    {
     "name": "stdout",
     "output_type": "stream",
     "text": [
      "Epoch 1/5\n",
      "149415/149415 [==============================] - 11s 75us/step - loss: 21.8985 - accuracy: 0.7962\n",
      "Epoch 2/5\n",
      "149415/149415 [==============================] - 11s 72us/step - loss: 10.4190 - accuracy: 0.7973\n",
      "Epoch 3/5\n",
      "149415/149415 [==============================] - 10s 68us/step - loss: 7.2906 - accuracy: 0.7969\n",
      "Epoch 4/5\n",
      "149415/149415 [==============================] - 11s 72us/step - loss: 4.6942 - accuracy: 0.7984\n",
      "Epoch 5/5\n",
      "149415/149415 [==============================] - 11s 71us/step - loss: 2.6923 - accuracy: 0.8034\n"
     ]
    },
    {
     "data": {
      "text/plain": [
       "<keras.callbacks.callbacks.History at 0x161c2c390>"
      ]
     },
     "execution_count": 49,
     "metadata": {},
     "output_type": "execute_result"
    }
   ],
   "source": [
    "#Set up the model\n",
    "model_bAdam = Sequential() #base model using Adam optimiser\n",
    "\n",
    "# Add the first layer\n",
    "model_bAdam.add(Dense(100, activation='relu', input_shape=(n_cols,)))\n",
    "\n",
    "# Add the output layer\n",
    "model_bAdam.add(Dense(target_class, activation='softmax'))\n",
    "\n",
    "# Compile the model\n",
    "model_bAdam.compile(optimizer='Adam', \n",
    "               loss='categorical_crossentropy', \n",
    "               metrics=['accuracy'])\n",
    "\n",
    "# Fit the model\n",
    "model_bAdam.fit(predictors, target, epochs = 5)"
   ]
  },
  {
   "cell_type": "code",
   "execution_count": 50,
   "metadata": {},
   "outputs": [
    {
     "data": {
      "text/plain": [
       "7     37363\n",
       "10    24799\n",
       "8      1831\n",
       "11       38\n",
       "3         5\n",
       "dtype: int64"
      ]
     },
     "execution_count": 50,
     "metadata": {},
     "output_type": "execute_result"
    }
   ],
   "source": [
    "#Calculate predictions: predictions\n",
    "\n",
    "pred_data = X_test\n",
    "predictions = model_bAdam.predict_classes(pred_data) #predicting classes\n",
    "\n",
    "pd.Series(predictions).value_counts()"
   ]
  },
  {
   "cell_type": "code",
   "execution_count": 51,
   "metadata": {},
   "outputs": [
    {
     "data": {
      "text/plain": [
       "Text(0.5, 0, 'predicted destination countries')"
      ]
     },
     "execution_count": 51,
     "metadata": {},
     "output_type": "execute_result"
    },
    {
     "data": {
      "image/png": "[encoded data removed]",
      "text/plain": [
       "<Figure size 1296x576 with 2 Axes>"
      ]
     },
     "metadata": {},
     "output_type": "display_data"
    }
   ],
   "source": [
    "plt.figure(figsize=(18,8))\n",
    "\n",
    "plt.subplot(1, 2, 1)\n",
    "cat_counts = y_test.value_counts()\n",
    "cat_counts.plot.bar()\n",
    "plt.xlabel(\"test destination countries\")\n",
    "\n",
    "plt.subplot(1, 2, 2)\n",
    "cat_counts = pd.Series(predictions).value_counts()\n",
    "cat_counts.plot.bar()\n",
    "plt.xlabel(\"predicted destination countries\")"
   ]
  },
  {
   "cell_type": "markdown",
   "metadata": {},
   "source": [
    "**From the above plot see the model with Adam optimiser predicts just two major class 7(NDF), 10(US) and a rare class with an accuracy = 0.803**"
   ]
  },
  {
   "cell_type": "markdown",
   "metadata": {},
   "source": [
    "**Parameter optimisation on Learning rate, epoch, nodes, layers, EarlyStopping and Cross validation**"
   ]
  },
  {
   "cell_type": "code",
   "execution_count": 94,
   "metadata": {},
   "outputs": [
    {
     "name": "stdout",
     "output_type": "stream",
     "text": [
      "Train on 104590 samples, validate on 44825 samples\n",
      "Epoch 1/30\n",
      "104590/104590 [==============================] - 15s 143us/step - loss: 20.8765 - accuracy: 0.7912 - val_loss: 5.7181 - val_accuracy: 0.8594\n",
      "Epoch 2/30\n",
      "104590/104590 [==============================] - 14s 135us/step - loss: 2.6804 - accuracy: 0.8044 - val_loss: 1.9610 - val_accuracy: 0.8343\n",
      "Epoch 3/30\n",
      "104590/104590 [==============================] - 14s 136us/step - loss: 2.2742 - accuracy: 0.8052 - val_loss: 1.7498 - val_accuracy: 0.8739\n",
      "Epoch 4/30\n",
      "104590/104590 [==============================] - 14s 137us/step - loss: 2.2302 - accuracy: 0.8055 - val_loss: 2.5489 - val_accuracy: 0.8611\n",
      "Epoch 5/30\n",
      "104590/104590 [==============================] - 14s 137us/step - loss: 2.1985 - accuracy: 0.8064 - val_loss: 1.2788 - val_accuracy: 0.8765\n",
      "Epoch 6/30\n",
      "104590/104590 [==============================] - 14s 138us/step - loss: 2.2404 - accuracy: 0.8062 - val_loss: 1.3608 - val_accuracy: 0.6057\n",
      "Epoch 7/30\n",
      "104590/104590 [==============================] - 14s 138us/step - loss: 1.9662 - accuracy: 0.8081 - val_loss: 1.3406 - val_accuracy: 0.8622\n"
     ]
    },
    {
     "data": {
      "text/plain": [
       "<keras.callbacks.callbacks.History at 0x169612390>"
      ]
     },
     "execution_count": 94,
     "metadata": {},
     "output_type": "execute_result"
    }
   ],
   "source": [
    "# Import EarlyStopping\n",
    "from keras.callbacks import EarlyStopping\n",
    "from keras.optimizers import Adam\n",
    "\n",
    "early_stopping_monitor = EarlyStopping(patience=2)\n",
    "\n",
    "my_opt = Adam(learning_rate=0.0001)\n",
    "\n",
    "model_ = Sequential()\n",
    "\n",
    "model_.add(Dense(140, activation='relu', input_shape=(n_cols,)))\n",
    "model_.add(Dense(100, activation='relu'))\n",
    "\n",
    "model_.add(Dense(target_class, activation='softmax'))\n",
    "\n",
    "model_.compile(optimizer = my_opt, loss='categorical_crossentropy',metrics=['accuracy'])\n",
    "\n",
    "model_.fit(predictors, target, epochs=30, validation_split=0.3,callbacks=[early_stopping_monitor])"
   ]
  },
  {
   "cell_type": "code",
   "execution_count": 95,
   "metadata": {},
   "outputs": [
    {
     "data": {
      "text/plain": [
       "7     37363\n",
       "10    25179\n",
       "2      1440\n",
       "8        53\n",
       "5         1\n",
       "dtype: int64"
      ]
     },
     "execution_count": 95,
     "metadata": {},
     "output_type": "execute_result"
    }
   ],
   "source": [
    "#Calculate predictions: predictions\n",
    "\n",
    "pred_data = X_test\n",
    "predictions = model_.predict_classes(pred_data) #predicting classes\n",
    "\n",
    "pd.Series(predictions).value_counts()"
   ]
  },
  {
   "cell_type": "code",
   "execution_count": 96,
   "metadata": {},
   "outputs": [
    {
     "data": {
      "text/plain": [
       "Text(0.5, 0, 'predicted destination countries')"
      ]
     },
     "execution_count": 96,
     "metadata": {},
     "output_type": "execute_result"
    },
    {
     "data": {
      "image/png": "[encoded data removed]",
      "text/plain": [
       "<Figure size 1296x576 with 2 Axes>"
      ]
     },
     "metadata": {},
     "output_type": "display_data"
    }
   ],
   "source": [
    "plt.figure(figsize=(18,8))\n",
    "\n",
    "plt.subplot(1, 2, 1)\n",
    "cat_counts = y_test.value_counts()\n",
    "cat_counts.plot.bar()\n",
    "plt.xlabel(\"test destination countries\")\n",
    "\n",
    "plt.subplot(1, 2, 2)\n",
    "cat_counts = pd.Series(predictions).value_counts()\n",
    "cat_counts.plot.bar()\n",
    "plt.xlabel(\"predicted destination countries\")"
   ]
  },
  {
   "cell_type": "markdown",
   "metadata": {},
   "source": [
    "**From the above plot see the model with Adam optimiser and parameter tuning predicts some of the rare classes with accuracy = 0.816**"
   ]
  },
  {
   "cell_type": "markdown",
   "metadata": {},
   "source": [
    "<div class=\"span5 alert alert-info\">\n",
    "<b>\n",
    "Consolidating the Results:\n",
    "</b>\n",
    "</div>"
   ]
  },
  {
   "cell_type": "markdown",
   "metadata": {},
   "source": [
    "**1.**"
   ]
  },
  {
   "cell_type": "markdown",
   "metadata": {},
   "source": [
    "**2.** "
   ]
  },
  {
   "cell_type": "code",
   "execution_count": null,
   "metadata": {},
   "outputs": [],
   "source": []
  }
 ],
 "metadata": {
  "kernelspec": {
   "display_name": "Python 3",
   "language": "python",
   "name": "python3"
  },
  "language_info": {
   "codemirror_mode": {
    "name": "ipython",
    "version": 3
   },
   "file_extension": ".py",
   "mimetype": "text/x-python",
   "name": "python",
   "nbconvert_exporter": "python",
   "pygments_lexer": "ipython3",
   "version": "3.7.4"
  }
 },
 "nbformat": 4,
 "nbformat_minor": 2
}
