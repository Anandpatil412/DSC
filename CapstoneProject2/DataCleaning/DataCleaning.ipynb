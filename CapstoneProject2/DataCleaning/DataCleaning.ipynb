{
 "cells": [
  {
   "cell_type": "markdown",
   "metadata": {},
   "source": [
    "# Exploratory Data Analysis"
   ]
  },
  {
   "cell_type": "code",
   "execution_count": 1,
   "metadata": {},
   "outputs": [],
   "source": [
    "import pandas as pd\n",
    "import numpy as np\n",
    "import matplotlib.pyplot as plt\n",
    "import seaborn as sns"
   ]
  },
  {
   "cell_type": "markdown",
   "metadata": {},
   "source": [
    "<div class=\"span5 alert alert-info\">\n",
    "<b>\n",
    "<i>    \n",
    "Business request:\n",
    "</i>    \n",
    "</b>    \n",
    "</div>"
   ]
  },
  {
   "cell_type": "markdown",
   "metadata": {},
   "source": [
    "**Predict destination country of a new user**"
   ]
  },
  {
   "cell_type": "markdown",
   "metadata": {},
   "source": [
    "****"
   ]
  },
  {
   "cell_type": "markdown",
   "metadata": {},
   "source": [
    "<div class=\"span5 alert alert-info\">\n",
    "<b>    \n",
    "Overview of data:\n",
    "</b>    \n",
    "</div>"
   ]
  },
  {
   "cell_type": "markdown",
   "metadata": {},
   "source": [
    "**Destination country: 'US', 'FR', 'CA', 'GB', 'ES', 'IT', 'PT', 'NL','DE', 'AU', 'NDF' (no destination found,no booking),and 'other'.** \n",
    "\n",
    "**All users are from USA.**\n",
    "\n",
    "**The training and test sets are split by dates.** \n",
    "\n",
    "**In the test set, you will predict all the new users with first activities after 7/1/2014 (note: this is updated on 12/5/15 when the competition restarted).** \n",
    "\n",
    "**In the sessions dataset, the data only dates back to 1/1/2014, while the users dataset dates back to 2010.** "
   ]
  },
  {
   "cell_type": "markdown",
   "metadata": {},
   "source": [
    "****"
   ]
  },
  {
   "cell_type": "markdown",
   "metadata": {},
   "source": [
    "<div class=\"span5 alert alert-info\">\n",
    "<b>    \n",
    "Datasets available:\n",
    "</b>    \n",
    "</div>"
   ]
  },
  {
   "cell_type": "markdown",
   "metadata": {},
   "source": [
    "**train_users.csv** \n",
    "\n",
    "**test_users.csv**\n",
    "\n",
    "**sessions.csv**\n",
    "\n",
    "**countries.csv**\n",
    "\n",
    "**age_gender_bkts.csv**\n",
    "\n",
    "**sample_submission.csv**"
   ]
  },
  {
   "cell_type": "markdown",
   "metadata": {},
   "source": [
    "****"
   ]
  },
  {
   "cell_type": "markdown",
   "metadata": {},
   "source": [
    "<div class=\"span5 alert alert-info\">\n",
    "<b>    \n",
    "Train data:\n",
    "</b>    \n",
    "</div>"
   ]
  },
  {
   "cell_type": "code",
   "execution_count": 2,
   "metadata": {},
   "outputs": [],
   "source": [
    "df_train = pd.read_csv(\"../DataFiles/airbnb-recruiting-new-user-bookings/train_users_2.csv\",encoding = \"ISO-8859-1\",na_values=['-unknown-',\"NA\",'-'])"
   ]
  },
  {
   "cell_type": "code",
   "execution_count": 3,
   "metadata": {},
   "outputs": [
    {
     "name": "stdout",
     "output_type": "stream",
     "text": [
      "<class 'pandas.core.frame.DataFrame'>\n",
      "RangeIndex: 213451 entries, 0 to 213450\n",
      "Data columns (total 16 columns):\n",
      "id                         213451 non-null object\n",
      "date_account_created       213451 non-null object\n",
      "timestamp_first_active     213451 non-null int64\n",
      "date_first_booking         88908 non-null object\n",
      "gender                     117763 non-null object\n",
      "age                        125461 non-null float64\n",
      "signup_method              213451 non-null object\n",
      "signup_flow                213451 non-null int64\n",
      "language                   213451 non-null object\n",
      "affiliate_channel          213451 non-null object\n",
      "affiliate_provider         213451 non-null object\n",
      "first_affiliate_tracked    207386 non-null object\n",
      "signup_app                 213451 non-null object\n",
      "first_device_type          213451 non-null object\n",
      "first_browser              186185 non-null object\n",
      "country_destination        213451 non-null object\n",
      "dtypes: float64(1), int64(2), object(13)\n",
      "memory usage: 26.1+ MB\n"
     ]
    }
   ],
   "source": [
    "df_train.info()"
   ]
  },
  {
   "cell_type": "code",
   "execution_count": 4,
   "metadata": {},
   "outputs": [
    {
     "data": {
      "text/html": [
       "<div>\n",
       "<style scoped>\n",
       "    .dataframe tbody tr th:only-of-type {\n",
       "        vertical-align: middle;\n",
       "    }\n",
       "\n",
       "    .dataframe tbody tr th {\n",
       "        vertical-align: top;\n",
       "    }\n",
       "\n",
       "    .dataframe thead th {\n",
       "        text-align: right;\n",
       "    }\n",
       "</style>\n",
       "<table border=\"1\" class=\"dataframe\">\n",
       "  <thead>\n",
       "    <tr style=\"text-align: right;\">\n",
       "      <th></th>\n",
       "      <th>id</th>\n",
       "      <th>date_account_created</th>\n",
       "      <th>timestamp_first_active</th>\n",
       "      <th>date_first_booking</th>\n",
       "      <th>gender</th>\n",
       "      <th>age</th>\n",
       "      <th>signup_method</th>\n",
       "      <th>signup_flow</th>\n",
       "      <th>language</th>\n",
       "      <th>affiliate_channel</th>\n",
       "      <th>affiliate_provider</th>\n",
       "      <th>first_affiliate_tracked</th>\n",
       "      <th>signup_app</th>\n",
       "      <th>first_device_type</th>\n",
       "      <th>first_browser</th>\n",
       "      <th>country_destination</th>\n",
       "    </tr>\n",
       "  </thead>\n",
       "  <tbody>\n",
       "    <tr>\n",
       "      <td>0</td>\n",
       "      <td>gxn3p5htnn</td>\n",
       "      <td>2010-06-28</td>\n",
       "      <td>20090319043255</td>\n",
       "      <td>NaN</td>\n",
       "      <td>NaN</td>\n",
       "      <td>NaN</td>\n",
       "      <td>facebook</td>\n",
       "      <td>0</td>\n",
       "      <td>en</td>\n",
       "      <td>direct</td>\n",
       "      <td>direct</td>\n",
       "      <td>untracked</td>\n",
       "      <td>Web</td>\n",
       "      <td>Mac Desktop</td>\n",
       "      <td>Chrome</td>\n",
       "      <td>NDF</td>\n",
       "    </tr>\n",
       "    <tr>\n",
       "      <td>1</td>\n",
       "      <td>820tgsjxq7</td>\n",
       "      <td>2011-05-25</td>\n",
       "      <td>20090523174809</td>\n",
       "      <td>NaN</td>\n",
       "      <td>MALE</td>\n",
       "      <td>38.0</td>\n",
       "      <td>facebook</td>\n",
       "      <td>0</td>\n",
       "      <td>en</td>\n",
       "      <td>seo</td>\n",
       "      <td>google</td>\n",
       "      <td>untracked</td>\n",
       "      <td>Web</td>\n",
       "      <td>Mac Desktop</td>\n",
       "      <td>Chrome</td>\n",
       "      <td>NDF</td>\n",
       "    </tr>\n",
       "    <tr>\n",
       "      <td>2</td>\n",
       "      <td>4ft3gnwmtx</td>\n",
       "      <td>2010-09-28</td>\n",
       "      <td>20090609231247</td>\n",
       "      <td>2010-08-02</td>\n",
       "      <td>FEMALE</td>\n",
       "      <td>56.0</td>\n",
       "      <td>basic</td>\n",
       "      <td>3</td>\n",
       "      <td>en</td>\n",
       "      <td>direct</td>\n",
       "      <td>direct</td>\n",
       "      <td>untracked</td>\n",
       "      <td>Web</td>\n",
       "      <td>Windows Desktop</td>\n",
       "      <td>IE</td>\n",
       "      <td>US</td>\n",
       "    </tr>\n",
       "    <tr>\n",
       "      <td>3</td>\n",
       "      <td>bjjt8pjhuk</td>\n",
       "      <td>2011-12-05</td>\n",
       "      <td>20091031060129</td>\n",
       "      <td>2012-09-08</td>\n",
       "      <td>FEMALE</td>\n",
       "      <td>42.0</td>\n",
       "      <td>facebook</td>\n",
       "      <td>0</td>\n",
       "      <td>en</td>\n",
       "      <td>direct</td>\n",
       "      <td>direct</td>\n",
       "      <td>untracked</td>\n",
       "      <td>Web</td>\n",
       "      <td>Mac Desktop</td>\n",
       "      <td>Firefox</td>\n",
       "      <td>other</td>\n",
       "    </tr>\n",
       "    <tr>\n",
       "      <td>4</td>\n",
       "      <td>87mebub9p4</td>\n",
       "      <td>2010-09-14</td>\n",
       "      <td>20091208061105</td>\n",
       "      <td>2010-02-18</td>\n",
       "      <td>NaN</td>\n",
       "      <td>41.0</td>\n",
       "      <td>basic</td>\n",
       "      <td>0</td>\n",
       "      <td>en</td>\n",
       "      <td>direct</td>\n",
       "      <td>direct</td>\n",
       "      <td>untracked</td>\n",
       "      <td>Web</td>\n",
       "      <td>Mac Desktop</td>\n",
       "      <td>Chrome</td>\n",
       "      <td>US</td>\n",
       "    </tr>\n",
       "  </tbody>\n",
       "</table>\n",
       "</div>"
      ],
      "text/plain": [
       "           id date_account_created  timestamp_first_active date_first_booking  \\\n",
       "0  gxn3p5htnn           2010-06-28          20090319043255                NaN   \n",
       "1  820tgsjxq7           2011-05-25          20090523174809                NaN   \n",
       "2  4ft3gnwmtx           2010-09-28          20090609231247         2010-08-02   \n",
       "3  bjjt8pjhuk           2011-12-05          20091031060129         2012-09-08   \n",
       "4  87mebub9p4           2010-09-14          20091208061105         2010-02-18   \n",
       "\n",
       "   gender   age signup_method  signup_flow language affiliate_channel  \\\n",
       "0     NaN   NaN      facebook            0       en            direct   \n",
       "1    MALE  38.0      facebook            0       en               seo   \n",
       "2  FEMALE  56.0         basic            3       en            direct   \n",
       "3  FEMALE  42.0      facebook            0       en            direct   \n",
       "4     NaN  41.0         basic            0       en            direct   \n",
       "\n",
       "  affiliate_provider first_affiliate_tracked signup_app first_device_type  \\\n",
       "0             direct               untracked        Web       Mac Desktop   \n",
       "1             google               untracked        Web       Mac Desktop   \n",
       "2             direct               untracked        Web   Windows Desktop   \n",
       "3             direct               untracked        Web       Mac Desktop   \n",
       "4             direct               untracked        Web       Mac Desktop   \n",
       "\n",
       "  first_browser country_destination  \n",
       "0        Chrome                 NDF  \n",
       "1        Chrome                 NDF  \n",
       "2            IE                  US  \n",
       "3       Firefox               other  \n",
       "4        Chrome                  US  "
      ]
     },
     "execution_count": 4,
     "metadata": {},
     "output_type": "execute_result"
    }
   ],
   "source": [
    "df_train.head()"
   ]
  },
  {
   "cell_type": "markdown",
   "metadata": {},
   "source": [
    "**Transformations to datetime format**"
   ]
  },
  {
   "cell_type": "code",
   "execution_count": 5,
   "metadata": {},
   "outputs": [],
   "source": [
    "df_train['timestamp_first_active'] = df_train['timestamp_first_active'].astype(str)\n",
    "df_train['timestamp_first_active'] = pd.to_datetime(df_train['timestamp_first_active'])\n",
    "\n",
    "df_train['date_account_created'] = pd.to_datetime(df_train['date_account_created'])\n",
    "df_train['date_first_booking'] = pd.to_datetime(df_train['date_first_booking'])\n"
   ]
  },
  {
   "cell_type": "markdown",
   "metadata": {},
   "source": [
    "**Adding month of first booking**"
   ]
  },
  {
   "cell_type": "code",
   "execution_count": 6,
   "metadata": {},
   "outputs": [],
   "source": [
    "df_train['month_of_first_booking'] = df_train['date_first_booking'].dt.month"
   ]
  },
  {
   "cell_type": "code",
   "execution_count": 7,
   "metadata": {},
   "outputs": [
    {
     "data": {
      "text/html": [
       "<div>\n",
       "<style scoped>\n",
       "    .dataframe tbody tr th:only-of-type {\n",
       "        vertical-align: middle;\n",
       "    }\n",
       "\n",
       "    .dataframe tbody tr th {\n",
       "        vertical-align: top;\n",
       "    }\n",
       "\n",
       "    .dataframe thead th {\n",
       "        text-align: right;\n",
       "    }\n",
       "</style>\n",
       "<table border=\"1\" class=\"dataframe\">\n",
       "  <thead>\n",
       "    <tr style=\"text-align: right;\">\n",
       "      <th></th>\n",
       "      <th>id</th>\n",
       "      <th>date_account_created</th>\n",
       "      <th>timestamp_first_active</th>\n",
       "      <th>date_first_booking</th>\n",
       "      <th>gender</th>\n",
       "      <th>age</th>\n",
       "      <th>signup_method</th>\n",
       "      <th>signup_flow</th>\n",
       "      <th>language</th>\n",
       "      <th>affiliate_channel</th>\n",
       "      <th>affiliate_provider</th>\n",
       "      <th>first_affiliate_tracked</th>\n",
       "      <th>signup_app</th>\n",
       "      <th>first_device_type</th>\n",
       "      <th>first_browser</th>\n",
       "      <th>country_destination</th>\n",
       "      <th>month_of_first_booking</th>\n",
       "    </tr>\n",
       "  </thead>\n",
       "  <tbody>\n",
       "    <tr>\n",
       "      <td>0</td>\n",
       "      <td>gxn3p5htnn</td>\n",
       "      <td>2010-06-28</td>\n",
       "      <td>2009-03-19 04:32:55</td>\n",
       "      <td>NaT</td>\n",
       "      <td>NaN</td>\n",
       "      <td>NaN</td>\n",
       "      <td>facebook</td>\n",
       "      <td>0</td>\n",
       "      <td>en</td>\n",
       "      <td>direct</td>\n",
       "      <td>direct</td>\n",
       "      <td>untracked</td>\n",
       "      <td>Web</td>\n",
       "      <td>Mac Desktop</td>\n",
       "      <td>Chrome</td>\n",
       "      <td>NDF</td>\n",
       "      <td>NaN</td>\n",
       "    </tr>\n",
       "    <tr>\n",
       "      <td>1</td>\n",
       "      <td>820tgsjxq7</td>\n",
       "      <td>2011-05-25</td>\n",
       "      <td>2009-05-23 17:48:09</td>\n",
       "      <td>NaT</td>\n",
       "      <td>MALE</td>\n",
       "      <td>38.0</td>\n",
       "      <td>facebook</td>\n",
       "      <td>0</td>\n",
       "      <td>en</td>\n",
       "      <td>seo</td>\n",
       "      <td>google</td>\n",
       "      <td>untracked</td>\n",
       "      <td>Web</td>\n",
       "      <td>Mac Desktop</td>\n",
       "      <td>Chrome</td>\n",
       "      <td>NDF</td>\n",
       "      <td>NaN</td>\n",
       "    </tr>\n",
       "    <tr>\n",
       "      <td>2</td>\n",
       "      <td>4ft3gnwmtx</td>\n",
       "      <td>2010-09-28</td>\n",
       "      <td>2009-06-09 23:12:47</td>\n",
       "      <td>2010-08-02</td>\n",
       "      <td>FEMALE</td>\n",
       "      <td>56.0</td>\n",
       "      <td>basic</td>\n",
       "      <td>3</td>\n",
       "      <td>en</td>\n",
       "      <td>direct</td>\n",
       "      <td>direct</td>\n",
       "      <td>untracked</td>\n",
       "      <td>Web</td>\n",
       "      <td>Windows Desktop</td>\n",
       "      <td>IE</td>\n",
       "      <td>US</td>\n",
       "      <td>8.0</td>\n",
       "    </tr>\n",
       "    <tr>\n",
       "      <td>3</td>\n",
       "      <td>bjjt8pjhuk</td>\n",
       "      <td>2011-12-05</td>\n",
       "      <td>2009-10-31 06:01:29</td>\n",
       "      <td>2012-09-08</td>\n",
       "      <td>FEMALE</td>\n",
       "      <td>42.0</td>\n",
       "      <td>facebook</td>\n",
       "      <td>0</td>\n",
       "      <td>en</td>\n",
       "      <td>direct</td>\n",
       "      <td>direct</td>\n",
       "      <td>untracked</td>\n",
       "      <td>Web</td>\n",
       "      <td>Mac Desktop</td>\n",
       "      <td>Firefox</td>\n",
       "      <td>other</td>\n",
       "      <td>9.0</td>\n",
       "    </tr>\n",
       "    <tr>\n",
       "      <td>4</td>\n",
       "      <td>87mebub9p4</td>\n",
       "      <td>2010-09-14</td>\n",
       "      <td>2009-12-08 06:11:05</td>\n",
       "      <td>2010-02-18</td>\n",
       "      <td>NaN</td>\n",
       "      <td>41.0</td>\n",
       "      <td>basic</td>\n",
       "      <td>0</td>\n",
       "      <td>en</td>\n",
       "      <td>direct</td>\n",
       "      <td>direct</td>\n",
       "      <td>untracked</td>\n",
       "      <td>Web</td>\n",
       "      <td>Mac Desktop</td>\n",
       "      <td>Chrome</td>\n",
       "      <td>US</td>\n",
       "      <td>2.0</td>\n",
       "    </tr>\n",
       "  </tbody>\n",
       "</table>\n",
       "</div>"
      ],
      "text/plain": [
       "           id date_account_created timestamp_first_active date_first_booking  \\\n",
       "0  gxn3p5htnn           2010-06-28    2009-03-19 04:32:55                NaT   \n",
       "1  820tgsjxq7           2011-05-25    2009-05-23 17:48:09                NaT   \n",
       "2  4ft3gnwmtx           2010-09-28    2009-06-09 23:12:47         2010-08-02   \n",
       "3  bjjt8pjhuk           2011-12-05    2009-10-31 06:01:29         2012-09-08   \n",
       "4  87mebub9p4           2010-09-14    2009-12-08 06:11:05         2010-02-18   \n",
       "\n",
       "   gender   age signup_method  signup_flow language affiliate_channel  \\\n",
       "0     NaN   NaN      facebook            0       en            direct   \n",
       "1    MALE  38.0      facebook            0       en               seo   \n",
       "2  FEMALE  56.0         basic            3       en            direct   \n",
       "3  FEMALE  42.0      facebook            0       en            direct   \n",
       "4     NaN  41.0         basic            0       en            direct   \n",
       "\n",
       "  affiliate_provider first_affiliate_tracked signup_app first_device_type  \\\n",
       "0             direct               untracked        Web       Mac Desktop   \n",
       "1             google               untracked        Web       Mac Desktop   \n",
       "2             direct               untracked        Web   Windows Desktop   \n",
       "3             direct               untracked        Web       Mac Desktop   \n",
       "4             direct               untracked        Web       Mac Desktop   \n",
       "\n",
       "  first_browser country_destination  month_of_first_booking  \n",
       "0        Chrome                 NDF                     NaN  \n",
       "1        Chrome                 NDF                     NaN  \n",
       "2            IE                  US                     8.0  \n",
       "3       Firefox               other                     9.0  \n",
       "4        Chrome                  US                     2.0  "
      ]
     },
     "execution_count": 7,
     "metadata": {},
     "output_type": "execute_result"
    }
   ],
   "source": [
    "df_train.head()"
   ]
  },
  {
   "cell_type": "code",
   "execution_count": 8,
   "metadata": {},
   "outputs": [
    {
     "name": "stdout",
     "output_type": "stream",
     "text": [
      "<class 'pandas.core.frame.DataFrame'>\n",
      "RangeIndex: 213451 entries, 0 to 213450\n",
      "Data columns (total 17 columns):\n",
      "id                         213451 non-null object\n",
      "date_account_created       213451 non-null datetime64[ns]\n",
      "timestamp_first_active     213451 non-null datetime64[ns]\n",
      "date_first_booking         88908 non-null datetime64[ns]\n",
      "gender                     117763 non-null object\n",
      "age                        125461 non-null float64\n",
      "signup_method              213451 non-null object\n",
      "signup_flow                213451 non-null int64\n",
      "language                   213451 non-null object\n",
      "affiliate_channel          213451 non-null object\n",
      "affiliate_provider         213451 non-null object\n",
      "first_affiliate_tracked    207386 non-null object\n",
      "signup_app                 213451 non-null object\n",
      "first_device_type          213451 non-null object\n",
      "first_browser              186185 non-null object\n",
      "country_destination        213451 non-null object\n",
      "month_of_first_booking     88908 non-null float64\n",
      "dtypes: datetime64[ns](3), float64(2), int64(1), object(11)\n",
      "memory usage: 27.7+ MB\n"
     ]
    }
   ],
   "source": [
    "df_train.info()"
   ]
  },
  {
   "cell_type": "markdown",
   "metadata": {},
   "source": [
    "****"
   ]
  },
  {
   "cell_type": "markdown",
   "metadata": {},
   "source": [
    "<div class=\"span5 alert alert-info\">\n",
    "<b>    \n",
    "Session data\n",
    "</b>    \n",
    "</div>"
   ]
  },
  {
   "cell_type": "code",
   "execution_count": 9,
   "metadata": {},
   "outputs": [],
   "source": [
    "df_sessions = pd.read_csv(\"../DataFiles/airbnb-recruiting-new-user-bookings/sessions.csv\",encoding = \"ISO-8859-1\",na_values=['-unknown-',\"NA\",'-'])"
   ]
  },
  {
   "cell_type": "code",
   "execution_count": 10,
   "metadata": {},
   "outputs": [
    {
     "name": "stdout",
     "output_type": "stream",
     "text": [
      "<class 'pandas.core.frame.DataFrame'>\n",
      "RangeIndex: 10567737 entries, 0 to 10567736\n",
      "Data columns (total 6 columns):\n",
      "user_id          object\n",
      "action           object\n",
      "action_type      object\n",
      "action_detail    object\n",
      "device_type      object\n",
      "secs_elapsed     float64\n",
      "dtypes: float64(1), object(5)\n",
      "memory usage: 483.8+ MB\n"
     ]
    }
   ],
   "source": [
    "df_sessions.info()"
   ]
  },
  {
   "cell_type": "code",
   "execution_count": 11,
   "metadata": {},
   "outputs": [
    {
     "data": {
      "text/html": [
       "<div>\n",
       "<style scoped>\n",
       "    .dataframe tbody tr th:only-of-type {\n",
       "        vertical-align: middle;\n",
       "    }\n",
       "\n",
       "    .dataframe tbody tr th {\n",
       "        vertical-align: top;\n",
       "    }\n",
       "\n",
       "    .dataframe thead th {\n",
       "        text-align: right;\n",
       "    }\n",
       "</style>\n",
       "<table border=\"1\" class=\"dataframe\">\n",
       "  <thead>\n",
       "    <tr style=\"text-align: right;\">\n",
       "      <th></th>\n",
       "      <th>user_id</th>\n",
       "      <th>action</th>\n",
       "      <th>action_type</th>\n",
       "      <th>action_detail</th>\n",
       "      <th>device_type</th>\n",
       "      <th>secs_elapsed</th>\n",
       "    </tr>\n",
       "  </thead>\n",
       "  <tbody>\n",
       "    <tr>\n",
       "      <td>0</td>\n",
       "      <td>d1mm9tcy42</td>\n",
       "      <td>lookup</td>\n",
       "      <td>NaN</td>\n",
       "      <td>NaN</td>\n",
       "      <td>Windows Desktop</td>\n",
       "      <td>319.0</td>\n",
       "    </tr>\n",
       "    <tr>\n",
       "      <td>1</td>\n",
       "      <td>d1mm9tcy42</td>\n",
       "      <td>search_results</td>\n",
       "      <td>click</td>\n",
       "      <td>view_search_results</td>\n",
       "      <td>Windows Desktop</td>\n",
       "      <td>67753.0</td>\n",
       "    </tr>\n",
       "    <tr>\n",
       "      <td>2</td>\n",
       "      <td>d1mm9tcy42</td>\n",
       "      <td>lookup</td>\n",
       "      <td>NaN</td>\n",
       "      <td>NaN</td>\n",
       "      <td>Windows Desktop</td>\n",
       "      <td>301.0</td>\n",
       "    </tr>\n",
       "    <tr>\n",
       "      <td>3</td>\n",
       "      <td>d1mm9tcy42</td>\n",
       "      <td>search_results</td>\n",
       "      <td>click</td>\n",
       "      <td>view_search_results</td>\n",
       "      <td>Windows Desktop</td>\n",
       "      <td>22141.0</td>\n",
       "    </tr>\n",
       "    <tr>\n",
       "      <td>4</td>\n",
       "      <td>d1mm9tcy42</td>\n",
       "      <td>lookup</td>\n",
       "      <td>NaN</td>\n",
       "      <td>NaN</td>\n",
       "      <td>Windows Desktop</td>\n",
       "      <td>435.0</td>\n",
       "    </tr>\n",
       "  </tbody>\n",
       "</table>\n",
       "</div>"
      ],
      "text/plain": [
       "      user_id          action action_type        action_detail  \\\n",
       "0  d1mm9tcy42          lookup         NaN                  NaN   \n",
       "1  d1mm9tcy42  search_results       click  view_search_results   \n",
       "2  d1mm9tcy42          lookup         NaN                  NaN   \n",
       "3  d1mm9tcy42  search_results       click  view_search_results   \n",
       "4  d1mm9tcy42          lookup         NaN                  NaN   \n",
       "\n",
       "       device_type  secs_elapsed  \n",
       "0  Windows Desktop         319.0  \n",
       "1  Windows Desktop       67753.0  \n",
       "2  Windows Desktop         301.0  \n",
       "3  Windows Desktop       22141.0  \n",
       "4  Windows Desktop         435.0  "
      ]
     },
     "execution_count": 11,
     "metadata": {},
     "output_type": "execute_result"
    }
   ],
   "source": [
    "df_sessions.head()"
   ]
  },
  {
   "cell_type": "markdown",
   "metadata": {},
   "source": [
    "**Categorising less frequent 'action' to 'Others' ,keeping a threshold of 24000**"
   ]
  },
  {
   "cell_type": "code",
   "execution_count": 12,
   "metadata": {},
   "outputs": [
    {
     "data": {
      "text/plain": [
       "show              2768278\n",
       "index              843699\n",
       "search_results     725226\n",
       "personalize        706824\n",
       "search             536057\n",
       "                   ...   \n",
       "nyan                    1\n",
       "wishlists               1\n",
       "deactivate              1\n",
       "events                  1\n",
       "host_cancel             1\n",
       "Name: action, Length: 359, dtype: int64"
      ]
     },
     "execution_count": 12,
     "metadata": {},
     "output_type": "execute_result"
    }
   ],
   "source": [
    "df_sessions['action'].value_counts()"
   ]
  },
  {
   "cell_type": "markdown",
   "metadata": {},
   "source": [
    "**Appending 'action' to action col for simplicity after pivoting**"
   ]
  },
  {
   "cell_type": "code",
   "execution_count": 13,
   "metadata": {},
   "outputs": [],
   "source": [
    "df_sessions['action'] = 'action_' + df_sessions['action']"
   ]
  },
  {
   "cell_type": "code",
   "execution_count": 14,
   "metadata": {},
   "outputs": [],
   "source": [
    "df_sessions['action'] = df_sessions['action'].mask(df_sessions['action'].map(df_sessions['action'].value_counts()) < 24000,'Others')"
   ]
  },
  {
   "cell_type": "markdown",
   "metadata": {},
   "source": [
    "**Grouping and getting aggregated mean value of sec_elapsed**"
   ]
  },
  {
   "cell_type": "code",
   "execution_count": 15,
   "metadata": {},
   "outputs": [],
   "source": [
    "df_sessions_grp = df_sessions.groupby(['user_id','action']).agg({'secs_elapsed':'mean'}).reset_index()"
   ]
  },
  {
   "cell_type": "markdown",
   "metadata": {},
   "source": [
    "**Just keeping action and ignoring action_type, action_detail which seem redundant. Devicetype can also be ignored \n",
    "considering train data already has a first_device_type.**"
   ]
  },
  {
   "cell_type": "code",
   "execution_count": 16,
   "metadata": {},
   "outputs": [
    {
     "data": {
      "text/html": [
       "<div>\n",
       "<style scoped>\n",
       "    .dataframe tbody tr th:only-of-type {\n",
       "        vertical-align: middle;\n",
       "    }\n",
       "\n",
       "    .dataframe tbody tr th {\n",
       "        vertical-align: top;\n",
       "    }\n",
       "\n",
       "    .dataframe thead th {\n",
       "        text-align: right;\n",
       "    }\n",
       "</style>\n",
       "<table border=\"1\" class=\"dataframe\">\n",
       "  <thead>\n",
       "    <tr style=\"text-align: right;\">\n",
       "      <th></th>\n",
       "      <th>user_id</th>\n",
       "      <th>action</th>\n",
       "      <th>secs_elapsed</th>\n",
       "    </tr>\n",
       "  </thead>\n",
       "  <tbody>\n",
       "    <tr>\n",
       "      <td>0</td>\n",
       "      <td>00023iyk9l</td>\n",
       "      <td>Others</td>\n",
       "      <td>0.0</td>\n",
       "    </tr>\n",
       "    <tr>\n",
       "      <td>1</td>\n",
       "      <td>00023iyk9l</td>\n",
       "      <td>action_ajax_refresh_subtotal</td>\n",
       "      <td>723.5</td>\n",
       "    </tr>\n",
       "    <tr>\n",
       "      <td>2</td>\n",
       "      <td>00023iyk9l</td>\n",
       "      <td>action_confirm_email</td>\n",
       "      <td>567165.0</td>\n",
       "    </tr>\n",
       "    <tr>\n",
       "      <td>3</td>\n",
       "      <td>00023iyk9l</td>\n",
       "      <td>action_dashboard</td>\n",
       "      <td>1115.5</td>\n",
       "    </tr>\n",
       "    <tr>\n",
       "      <td>4</td>\n",
       "      <td>00023iyk9l</td>\n",
       "      <td>action_header_userpic</td>\n",
       "      <td>1599.0</td>\n",
       "    </tr>\n",
       "  </tbody>\n",
       "</table>\n",
       "</div>"
      ],
      "text/plain": [
       "      user_id                        action  secs_elapsed\n",
       "0  00023iyk9l                        Others           0.0\n",
       "1  00023iyk9l  action_ajax_refresh_subtotal         723.5\n",
       "2  00023iyk9l          action_confirm_email      567165.0\n",
       "3  00023iyk9l              action_dashboard        1115.5\n",
       "4  00023iyk9l         action_header_userpic        1599.0"
      ]
     },
     "execution_count": 16,
     "metadata": {},
     "output_type": "execute_result"
    }
   ],
   "source": [
    "df_sessions_grp.head()"
   ]
  },
  {
   "cell_type": "code",
   "execution_count": 17,
   "metadata": {},
   "outputs": [
    {
     "data": {
      "text/plain": [
       "<matplotlib.axes._subplots.AxesSubplot at 0x19eb37ed0>"
      ]
     },
     "execution_count": 17,
     "metadata": {},
     "output_type": "execute_result"
    },
    {
     "data": {
      "image/png": "[encoded data removed]",
      "text/plain": [
       "<Figure size 864x288 with 1 Axes>"
      ]
     },
     "metadata": {
      "needs_background": "light"
     },
     "output_type": "display_data"
    }
   ],
   "source": [
    "plt.figure(figsize=(12,4))\n",
    "\n",
    "action_ser = df_sessions_grp.groupby('action')['secs_elapsed'].agg('mean')\n",
    "action_ser.plot.bar('action','secs_elapsed')"
   ]
  },
  {
   "cell_type": "markdown",
   "metadata": {},
   "source": [
    "**From above plot, Action 'confirm_email' and 'authenticate' has highest mean secsElapsed in a session.**"
   ]
  },
  {
   "cell_type": "code",
   "execution_count": 18,
   "metadata": {},
   "outputs": [
    {
     "name": "stdout",
     "output_type": "stream",
     "text": [
      "<class 'pandas.core.frame.DataFrame'>\n",
      "RangeIndex: 1429842 entries, 0 to 1429841\n",
      "Data columns (total 3 columns):\n",
      "user_id         1429842 non-null object\n",
      "action          1429842 non-null object\n",
      "secs_elapsed    1359218 non-null float64\n",
      "dtypes: float64(1), object(2)\n",
      "memory usage: 32.7+ MB\n"
     ]
    }
   ],
   "source": [
    "df_sessions_grp.info()"
   ]
  },
  {
   "cell_type": "markdown",
   "metadata": {},
   "source": [
    "**Pivoting and adding action as columns**"
   ]
  },
  {
   "cell_type": "code",
   "execution_count": 19,
   "metadata": {},
   "outputs": [],
   "source": [
    "df_sessions_expanded = df_sessions_grp.pivot(index='user_id', columns='action', values='secs_elapsed').reset_index()"
   ]
  },
  {
   "cell_type": "code",
   "execution_count": 20,
   "metadata": {},
   "outputs": [
    {
     "data": {
      "text/plain": [
       "Index(['user_id', 'Others', 'action_active', 'action_ajax_check_dates',\n",
       "       'action_ajax_lwlb_contact', 'action_ajax_photo_widget_form_iframe',\n",
       "       'action_ajax_refresh_subtotal', 'action_ask_question',\n",
       "       'action_authenticate', 'action_calendar_tab_inner2', 'action_campaigns',\n",
       "       'action_click', 'action_collections', 'action_complete_status',\n",
       "       'action_confirm_email', 'action_create', 'action_dashboard',\n",
       "       'action_edit', 'action_edit_verification', 'action_header_userpic',\n",
       "       'action_identity', 'action_impressions', 'action_index',\n",
       "       'action_listings', 'action_lookup', 'action_manage_listing',\n",
       "       'action_notifications', 'action_other_hosting_reviews_first',\n",
       "       'action_personalize', 'action_qt2', 'action_recommendations',\n",
       "       'action_requested', 'action_reviews', 'action_search',\n",
       "       'action_search_results', 'action_show', 'action_show_personalize',\n",
       "       'action_similar_listings', 'action_similar_listings_v2',\n",
       "       'action_social_connections', 'action_track_page_view',\n",
       "       'action_travel_plans_current', 'action_unavailabilities',\n",
       "       'action_update'],\n",
       "      dtype='object', name='action')"
      ]
     },
     "execution_count": 20,
     "metadata": {},
     "output_type": "execute_result"
    }
   ],
   "source": [
    "df_sessions_expanded.columns"
   ]
  },
  {
   "cell_type": "markdown",
   "metadata": {},
   "source": [
    "**Joining session and train**"
   ]
  },
  {
   "cell_type": "code",
   "execution_count": 21,
   "metadata": {},
   "outputs": [],
   "source": [
    "df_train_join = df_train.join(df_sessions_expanded.set_index('user_id'), on='id')"
   ]
  },
  {
   "cell_type": "code",
   "execution_count": 22,
   "metadata": {},
   "outputs": [
    {
     "name": "stdout",
     "output_type": "stream",
     "text": [
      "<class 'pandas.core.frame.DataFrame'>\n",
      "RangeIndex: 213451 entries, 0 to 213450\n",
      "Data columns (total 60 columns):\n",
      "id                                      213451 non-null object\n",
      "date_account_created                    213451 non-null datetime64[ns]\n",
      "timestamp_first_active                  213451 non-null datetime64[ns]\n",
      "date_first_booking                      88908 non-null datetime64[ns]\n",
      "gender                                  117763 non-null object\n",
      "age                                     125461 non-null float64\n",
      "signup_method                           213451 non-null object\n",
      "signup_flow                             213451 non-null int64\n",
      "language                                213451 non-null object\n",
      "affiliate_channel                       213451 non-null object\n",
      "affiliate_provider                      213451 non-null object\n",
      "first_affiliate_tracked                 207386 non-null object\n",
      "signup_app                              213451 non-null object\n",
      "first_device_type                       213451 non-null object\n",
      "first_browser                           186185 non-null object\n",
      "country_destination                     213451 non-null object\n",
      "month_of_first_booking                  88908 non-null float64\n",
      "Others                                  48610 non-null float64\n",
      "action_active                           19427 non-null float64\n",
      "action_ajax_check_dates                 11315 non-null float64\n",
      "action_ajax_lwlb_contact                10737 non-null float64\n",
      "action_ajax_photo_widget_form_iframe    2169 non-null float64\n",
      "action_ajax_refresh_subtotal            34522 non-null float64\n",
      "action_ask_question                     17210 non-null float64\n",
      "action_authenticate                     10761 non-null float64\n",
      "action_calendar_tab_inner2              7449 non-null float64\n",
      "action_campaigns                        12849 non-null float64\n",
      "action_click                            2856 non-null float64\n",
      "action_collections                      6774 non-null float64\n",
      "action_complete_status                  3904 non-null float64\n",
      "action_confirm_email                    30905 non-null float64\n",
      "action_create                           23500 non-null float64\n",
      "action_dashboard                        29490 non-null float64\n",
      "action_edit                             11518 non-null float64\n",
      "action_edit_verification                6054 non-null float64\n",
      "action_header_userpic                   56603 non-null float64\n",
      "action_identity                         7241 non-null float64\n",
      "action_impressions                      2853 non-null float64\n",
      "action_index                            47770 non-null float64\n",
      "action_listings                         9980 non-null float64\n",
      "action_lookup                           20380 non-null float64\n",
      "action_manage_listing                   4082 non-null float64\n",
      "action_notifications                    13748 non-null float64\n",
      "action_other_hosting_reviews_first      10491 non-null float64\n",
      "action_personalize                      42549 non-null float64\n",
      "action_qt2                              7924 non-null float64\n",
      "action_recommendations                  1059 non-null float64\n",
      "action_requested                        7090 non-null float64\n",
      "action_reviews                          9442 non-null float64\n",
      "action_search                           11915 non-null float64\n",
      "action_search_results                   27929 non-null float64\n",
      "action_show                             57358 non-null float64\n",
      "action_show_personalize                 13121 non-null float64\n",
      "action_similar_listings                 34932 non-null float64\n",
      "action_similar_listings_v2              1376 non-null float64\n",
      "action_social_connections               10301 non-null float64\n",
      "action_track_page_view                  5604 non-null float64\n",
      "action_travel_plans_current             8659 non-null float64\n",
      "action_unavailabilities                 7137 non-null float64\n",
      "action_update                           30386 non-null float64\n",
      "dtypes: datetime64[ns](3), float64(45), int64(1), object(11)\n",
      "memory usage: 97.7+ MB\n"
     ]
    }
   ],
   "source": [
    "df_train_join.info()"
   ]
  },
  {
   "cell_type": "code",
   "execution_count": 23,
   "metadata": {},
   "outputs": [
    {
     "data": {
      "text/plain": [
       "30.0      6124\n",
       "31.0      6016\n",
       "29.0      5963\n",
       "28.0      5939\n",
       "32.0      5855\n",
       "          ... \n",
       "1933.0       1\n",
       "1942.0       1\n",
       "112.0        1\n",
       "1938.0       1\n",
       "1952.0       1\n",
       "Name: age, Length: 127, dtype: int64"
      ]
     },
     "execution_count": 23,
     "metadata": {},
     "output_type": "execute_result"
    }
   ],
   "source": [
    "df_train_join['age'].value_counts()"
   ]
  },
  {
   "cell_type": "markdown",
   "metadata": {},
   "source": [
    "**From above we see some outliers like 1938..which we replace with mean age.**"
   ]
  },
  {
   "cell_type": "code",
   "execution_count": 24,
   "metadata": {},
   "outputs": [],
   "source": [
    "mean_age = df_train_join[df_train_join['age'] <= 100].age.mean()\n",
    "df_train_join.loc[(df_train_join['age'] >= 100),'age'] = mean_age"
   ]
  },
  {
   "cell_type": "code",
   "execution_count": 25,
   "metadata": {},
   "outputs": [],
   "source": [
    "mean_age = df_train_join['age'].mean()\n",
    "df_train_join['age'].fillna(mean_age,inplace=True)"
   ]
  },
  {
   "cell_type": "code",
   "execution_count": 26,
   "metadata": {},
   "outputs": [],
   "source": [
    "#Coverts age to age groups\n",
    "def AgeToAgeGroup(age,interval):    \n",
    "    age_grp = (age/interval).astype(int)\n",
    "    age_grp = (age_grp*interval).astype(str) + '-' + ((age_grp*interval)+(interval-1)).astype(str)\n",
    "    return age_grp\n"
   ]
  },
  {
   "cell_type": "code",
   "execution_count": 27,
   "metadata": {},
   "outputs": [],
   "source": [
    "#replace age with age grp\n",
    "df_train_join['age'] = AgeToAgeGroup(df_train_join['age'],5)"
   ]
  },
  {
   "cell_type": "code",
   "execution_count": 28,
   "metadata": {},
   "outputs": [],
   "source": [
    "df_train_join = df_train_join.rename(columns={\"age\": \"age_bucket\"})"
   ]
  },
  {
   "cell_type": "code",
   "execution_count": 29,
   "metadata": {},
   "outputs": [
    {
     "data": {
      "text/html": [
       "<div>\n",
       "<style scoped>\n",
       "    .dataframe tbody tr th:only-of-type {\n",
       "        vertical-align: middle;\n",
       "    }\n",
       "\n",
       "    .dataframe tbody tr th {\n",
       "        vertical-align: top;\n",
       "    }\n",
       "\n",
       "    .dataframe thead th {\n",
       "        text-align: right;\n",
       "    }\n",
       "</style>\n",
       "<table border=\"1\" class=\"dataframe\">\n",
       "  <thead>\n",
       "    <tr style=\"text-align: right;\">\n",
       "      <th></th>\n",
       "      <th>id</th>\n",
       "      <th>date_account_created</th>\n",
       "      <th>timestamp_first_active</th>\n",
       "      <th>date_first_booking</th>\n",
       "      <th>gender</th>\n",
       "      <th>age_bucket</th>\n",
       "      <th>signup_method</th>\n",
       "      <th>signup_flow</th>\n",
       "      <th>language</th>\n",
       "      <th>affiliate_channel</th>\n",
       "      <th>...</th>\n",
       "      <th>action_search_results</th>\n",
       "      <th>action_show</th>\n",
       "      <th>action_show_personalize</th>\n",
       "      <th>action_similar_listings</th>\n",
       "      <th>action_similar_listings_v2</th>\n",
       "      <th>action_social_connections</th>\n",
       "      <th>action_track_page_view</th>\n",
       "      <th>action_travel_plans_current</th>\n",
       "      <th>action_unavailabilities</th>\n",
       "      <th>action_update</th>\n",
       "    </tr>\n",
       "  </thead>\n",
       "  <tbody>\n",
       "    <tr>\n",
       "      <td>0</td>\n",
       "      <td>gxn3p5htnn</td>\n",
       "      <td>2010-06-28</td>\n",
       "      <td>2009-03-19 04:32:55</td>\n",
       "      <td>NaT</td>\n",
       "      <td>NaN</td>\n",
       "      <td>35-39</td>\n",
       "      <td>facebook</td>\n",
       "      <td>0</td>\n",
       "      <td>en</td>\n",
       "      <td>direct</td>\n",
       "      <td>...</td>\n",
       "      <td>NaN</td>\n",
       "      <td>NaN</td>\n",
       "      <td>NaN</td>\n",
       "      <td>NaN</td>\n",
       "      <td>NaN</td>\n",
       "      <td>NaN</td>\n",
       "      <td>NaN</td>\n",
       "      <td>NaN</td>\n",
       "      <td>NaN</td>\n",
       "      <td>NaN</td>\n",
       "    </tr>\n",
       "    <tr>\n",
       "      <td>1</td>\n",
       "      <td>820tgsjxq7</td>\n",
       "      <td>2011-05-25</td>\n",
       "      <td>2009-05-23 17:48:09</td>\n",
       "      <td>NaT</td>\n",
       "      <td>MALE</td>\n",
       "      <td>35-39</td>\n",
       "      <td>facebook</td>\n",
       "      <td>0</td>\n",
       "      <td>en</td>\n",
       "      <td>seo</td>\n",
       "      <td>...</td>\n",
       "      <td>NaN</td>\n",
       "      <td>NaN</td>\n",
       "      <td>NaN</td>\n",
       "      <td>NaN</td>\n",
       "      <td>NaN</td>\n",
       "      <td>NaN</td>\n",
       "      <td>NaN</td>\n",
       "      <td>NaN</td>\n",
       "      <td>NaN</td>\n",
       "      <td>NaN</td>\n",
       "    </tr>\n",
       "    <tr>\n",
       "      <td>2</td>\n",
       "      <td>4ft3gnwmtx</td>\n",
       "      <td>2010-09-28</td>\n",
       "      <td>2009-06-09 23:12:47</td>\n",
       "      <td>2010-08-02</td>\n",
       "      <td>FEMALE</td>\n",
       "      <td>55-59</td>\n",
       "      <td>basic</td>\n",
       "      <td>3</td>\n",
       "      <td>en</td>\n",
       "      <td>direct</td>\n",
       "      <td>...</td>\n",
       "      <td>NaN</td>\n",
       "      <td>NaN</td>\n",
       "      <td>NaN</td>\n",
       "      <td>NaN</td>\n",
       "      <td>NaN</td>\n",
       "      <td>NaN</td>\n",
       "      <td>NaN</td>\n",
       "      <td>NaN</td>\n",
       "      <td>NaN</td>\n",
       "      <td>NaN</td>\n",
       "    </tr>\n",
       "    <tr>\n",
       "      <td>3</td>\n",
       "      <td>bjjt8pjhuk</td>\n",
       "      <td>2011-12-05</td>\n",
       "      <td>2009-10-31 06:01:29</td>\n",
       "      <td>2012-09-08</td>\n",
       "      <td>FEMALE</td>\n",
       "      <td>40-44</td>\n",
       "      <td>facebook</td>\n",
       "      <td>0</td>\n",
       "      <td>en</td>\n",
       "      <td>direct</td>\n",
       "      <td>...</td>\n",
       "      <td>NaN</td>\n",
       "      <td>NaN</td>\n",
       "      <td>NaN</td>\n",
       "      <td>NaN</td>\n",
       "      <td>NaN</td>\n",
       "      <td>NaN</td>\n",
       "      <td>NaN</td>\n",
       "      <td>NaN</td>\n",
       "      <td>NaN</td>\n",
       "      <td>NaN</td>\n",
       "    </tr>\n",
       "    <tr>\n",
       "      <td>4</td>\n",
       "      <td>87mebub9p4</td>\n",
       "      <td>2010-09-14</td>\n",
       "      <td>2009-12-08 06:11:05</td>\n",
       "      <td>2010-02-18</td>\n",
       "      <td>NaN</td>\n",
       "      <td>40-44</td>\n",
       "      <td>basic</td>\n",
       "      <td>0</td>\n",
       "      <td>en</td>\n",
       "      <td>direct</td>\n",
       "      <td>...</td>\n",
       "      <td>NaN</td>\n",
       "      <td>NaN</td>\n",
       "      <td>NaN</td>\n",
       "      <td>NaN</td>\n",
       "      <td>NaN</td>\n",
       "      <td>NaN</td>\n",
       "      <td>NaN</td>\n",
       "      <td>NaN</td>\n",
       "      <td>NaN</td>\n",
       "      <td>NaN</td>\n",
       "    </tr>\n",
       "  </tbody>\n",
       "</table>\n",
       "<p>5 rows × 60 columns</p>\n",
       "</div>"
      ],
      "text/plain": [
       "           id date_account_created timestamp_first_active date_first_booking  \\\n",
       "0  gxn3p5htnn           2010-06-28    2009-03-19 04:32:55                NaT   \n",
       "1  820tgsjxq7           2011-05-25    2009-05-23 17:48:09                NaT   \n",
       "2  4ft3gnwmtx           2010-09-28    2009-06-09 23:12:47         2010-08-02   \n",
       "3  bjjt8pjhuk           2011-12-05    2009-10-31 06:01:29         2012-09-08   \n",
       "4  87mebub9p4           2010-09-14    2009-12-08 06:11:05         2010-02-18   \n",
       "\n",
       "   gender age_bucket signup_method  signup_flow language affiliate_channel  \\\n",
       "0     NaN      35-39      facebook            0       en            direct   \n",
       "1    MALE      35-39      facebook            0       en               seo   \n",
       "2  FEMALE      55-59         basic            3       en            direct   \n",
       "3  FEMALE      40-44      facebook            0       en            direct   \n",
       "4     NaN      40-44         basic            0       en            direct   \n",
       "\n",
       "   ... action_search_results action_show action_show_personalize  \\\n",
       "0  ...                   NaN         NaN                     NaN   \n",
       "1  ...                   NaN         NaN                     NaN   \n",
       "2  ...                   NaN         NaN                     NaN   \n",
       "3  ...                   NaN         NaN                     NaN   \n",
       "4  ...                   NaN         NaN                     NaN   \n",
       "\n",
       "  action_similar_listings action_similar_listings_v2  \\\n",
       "0                     NaN                        NaN   \n",
       "1                     NaN                        NaN   \n",
       "2                     NaN                        NaN   \n",
       "3                     NaN                        NaN   \n",
       "4                     NaN                        NaN   \n",
       "\n",
       "  action_social_connections  action_track_page_view  \\\n",
       "0                       NaN                     NaN   \n",
       "1                       NaN                     NaN   \n",
       "2                       NaN                     NaN   \n",
       "3                       NaN                     NaN   \n",
       "4                       NaN                     NaN   \n",
       "\n",
       "   action_travel_plans_current  action_unavailabilities  action_update  \n",
       "0                          NaN                      NaN            NaN  \n",
       "1                          NaN                      NaN            NaN  \n",
       "2                          NaN                      NaN            NaN  \n",
       "3                          NaN                      NaN            NaN  \n",
       "4                          NaN                      NaN            NaN  \n",
       "\n",
       "[5 rows x 60 columns]"
      ]
     },
     "execution_count": 29,
     "metadata": {},
     "output_type": "execute_result"
    }
   ],
   "source": [
    "df_train_join.head()"
   ]
  },
  {
   "cell_type": "code",
   "execution_count": 30,
   "metadata": {},
   "outputs": [
    {
     "data": {
      "text/plain": [
       "<matplotlib.axes._subplots.AxesSubplot at 0x19ebe3d90>"
      ]
     },
     "execution_count": 30,
     "metadata": {},
     "output_type": "execute_result"
    },
    {
     "data": {
      "image/png": "[encoded data removed]",
      "text/plain": [
       "<Figure size 576x432 with 1 Axes>"
      ]
     },
     "metadata": {
      "needs_background": "light"
     },
     "output_type": "display_data"
    }
   ],
   "source": [
    "plt.figure(figsize=(8,6))\n",
    "age_bucket_counts = df_train_join['age_bucket'].value_counts()\n",
    "age_bucket_counts.plot.bar()\n"
   ]
  },
  {
   "cell_type": "markdown",
   "metadata": {},
   "source": [
    "**Most users are from age bucket 35-40.Also,there is a lot of variance in count as age bucket varies**"
   ]
  },
  {
   "cell_type": "code",
   "execution_count": null,
   "metadata": {},
   "outputs": [],
   "source": []
  },
  {
   "cell_type": "code",
   "execution_count": 31,
   "metadata": {},
   "outputs": [
    {
     "name": "stdout",
     "output_type": "stream",
     "text": [
      "<class 'pandas.core.frame.DataFrame'>\n",
      "RangeIndex: 213451 entries, 0 to 213450\n",
      "Data columns (total 60 columns):\n",
      "id                                      213451 non-null object\n",
      "date_account_created                    213451 non-null datetime64[ns]\n",
      "timestamp_first_active                  213451 non-null datetime64[ns]\n",
      "date_first_booking                      88908 non-null datetime64[ns]\n",
      "gender                                  117763 non-null object\n",
      "age_bucket                              213451 non-null object\n",
      "signup_method                           213451 non-null object\n",
      "signup_flow                             213451 non-null int64\n",
      "language                                213451 non-null object\n",
      "affiliate_channel                       213451 non-null object\n",
      "affiliate_provider                      213451 non-null object\n",
      "first_affiliate_tracked                 207386 non-null object\n",
      "signup_app                              213451 non-null object\n",
      "first_device_type                       213451 non-null object\n",
      "first_browser                           186185 non-null object\n",
      "country_destination                     213451 non-null object\n",
      "month_of_first_booking                  88908 non-null float64\n",
      "Others                                  48610 non-null float64\n",
      "action_active                           19427 non-null float64\n",
      "action_ajax_check_dates                 11315 non-null float64\n",
      "action_ajax_lwlb_contact                10737 non-null float64\n",
      "action_ajax_photo_widget_form_iframe    2169 non-null float64\n",
      "action_ajax_refresh_subtotal            34522 non-null float64\n",
      "action_ask_question                     17210 non-null float64\n",
      "action_authenticate                     10761 non-null float64\n",
      "action_calendar_tab_inner2              7449 non-null float64\n",
      "action_campaigns                        12849 non-null float64\n",
      "action_click                            2856 non-null float64\n",
      "action_collections                      6774 non-null float64\n",
      "action_complete_status                  3904 non-null float64\n",
      "action_confirm_email                    30905 non-null float64\n",
      "action_create                           23500 non-null float64\n",
      "action_dashboard                        29490 non-null float64\n",
      "action_edit                             11518 non-null float64\n",
      "action_edit_verification                6054 non-null float64\n",
      "action_header_userpic                   56603 non-null float64\n",
      "action_identity                         7241 non-null float64\n",
      "action_impressions                      2853 non-null float64\n",
      "action_index                            47770 non-null float64\n",
      "action_listings                         9980 non-null float64\n",
      "action_lookup                           20380 non-null float64\n",
      "action_manage_listing                   4082 non-null float64\n",
      "action_notifications                    13748 non-null float64\n",
      "action_other_hosting_reviews_first      10491 non-null float64\n",
      "action_personalize                      42549 non-null float64\n",
      "action_qt2                              7924 non-null float64\n",
      "action_recommendations                  1059 non-null float64\n",
      "action_requested                        7090 non-null float64\n",
      "action_reviews                          9442 non-null float64\n",
      "action_search                           11915 non-null float64\n",
      "action_search_results                   27929 non-null float64\n",
      "action_show                             57358 non-null float64\n",
      "action_show_personalize                 13121 non-null float64\n",
      "action_similar_listings                 34932 non-null float64\n",
      "action_similar_listings_v2              1376 non-null float64\n",
      "action_social_connections               10301 non-null float64\n",
      "action_track_page_view                  5604 non-null float64\n",
      "action_travel_plans_current             8659 non-null float64\n",
      "action_unavailabilities                 7137 non-null float64\n",
      "action_update                           30386 non-null float64\n",
      "dtypes: datetime64[ns](3), float64(44), int64(1), object(12)\n",
      "memory usage: 97.7+ MB\n"
     ]
    }
   ],
   "source": [
    "df_train_join.info()"
   ]
  },
  {
   "cell_type": "markdown",
   "metadata": {},
   "source": [
    "****"
   ]
  },
  {
   "cell_type": "markdown",
   "metadata": {},
   "source": [
    "<div class=\"span5 alert alert-info\">\n",
    "<b>    \n",
    "Countries data\n",
    "</b>    \n",
    "</div>"
   ]
  },
  {
   "cell_type": "code",
   "execution_count": 32,
   "metadata": {},
   "outputs": [],
   "source": [
    "df_countries = pd.read_csv(\"../DataFiles/airbnb-recruiting-new-user-bookings/countries.csv\",encoding = \"ISO-8859-1\",na_values=[\"NA\",'-'])"
   ]
  },
  {
   "cell_type": "code",
   "execution_count": 33,
   "metadata": {},
   "outputs": [
    {
     "name": "stdout",
     "output_type": "stream",
     "text": [
      "<class 'pandas.core.frame.DataFrame'>\n",
      "RangeIndex: 10 entries, 0 to 9\n",
      "Data columns (total 7 columns):\n",
      "country_destination              10 non-null object\n",
      "lat_destination                  10 non-null float64\n",
      "lng_destination                  10 non-null float64\n",
      "distance_km                      10 non-null float64\n",
      "destination_km2                  10 non-null int64\n",
      "destination_language             10 non-null object\n",
      "language_levenshtein_distance    10 non-null float64\n",
      "dtypes: float64(4), int64(1), object(2)\n",
      "memory usage: 688.0+ bytes\n"
     ]
    }
   ],
   "source": [
    "df_countries.info()"
   ]
  },
  {
   "cell_type": "code",
   "execution_count": 34,
   "metadata": {},
   "outputs": [
    {
     "data": {
      "text/html": [
       "<div>\n",
       "<style scoped>\n",
       "    .dataframe tbody tr th:only-of-type {\n",
       "        vertical-align: middle;\n",
       "    }\n",
       "\n",
       "    .dataframe tbody tr th {\n",
       "        vertical-align: top;\n",
       "    }\n",
       "\n",
       "    .dataframe thead th {\n",
       "        text-align: right;\n",
       "    }\n",
       "</style>\n",
       "<table border=\"1\" class=\"dataframe\">\n",
       "  <thead>\n",
       "    <tr style=\"text-align: right;\">\n",
       "      <th></th>\n",
       "      <th>country_destination</th>\n",
       "      <th>lat_destination</th>\n",
       "      <th>lng_destination</th>\n",
       "      <th>distance_km</th>\n",
       "      <th>destination_km2</th>\n",
       "      <th>destination_language</th>\n",
       "      <th>language_levenshtein_distance</th>\n",
       "    </tr>\n",
       "  </thead>\n",
       "  <tbody>\n",
       "    <tr>\n",
       "      <td>0</td>\n",
       "      <td>AU</td>\n",
       "      <td>-26.853388</td>\n",
       "      <td>133.275160</td>\n",
       "      <td>15297.7440</td>\n",
       "      <td>7741220</td>\n",
       "      <td>eng</td>\n",
       "      <td>0.00</td>\n",
       "    </tr>\n",
       "    <tr>\n",
       "      <td>1</td>\n",
       "      <td>CA</td>\n",
       "      <td>62.393303</td>\n",
       "      <td>-96.818146</td>\n",
       "      <td>2828.1333</td>\n",
       "      <td>9984670</td>\n",
       "      <td>eng</td>\n",
       "      <td>0.00</td>\n",
       "    </tr>\n",
       "    <tr>\n",
       "      <td>2</td>\n",
       "      <td>DE</td>\n",
       "      <td>51.165707</td>\n",
       "      <td>10.452764</td>\n",
       "      <td>7879.5680</td>\n",
       "      <td>357022</td>\n",
       "      <td>deu</td>\n",
       "      <td>72.61</td>\n",
       "    </tr>\n",
       "    <tr>\n",
       "      <td>3</td>\n",
       "      <td>ES</td>\n",
       "      <td>39.896027</td>\n",
       "      <td>-2.487694</td>\n",
       "      <td>7730.7240</td>\n",
       "      <td>505370</td>\n",
       "      <td>spa</td>\n",
       "      <td>92.25</td>\n",
       "    </tr>\n",
       "    <tr>\n",
       "      <td>4</td>\n",
       "      <td>FR</td>\n",
       "      <td>46.232193</td>\n",
       "      <td>2.209667</td>\n",
       "      <td>7682.9450</td>\n",
       "      <td>643801</td>\n",
       "      <td>fra</td>\n",
       "      <td>92.06</td>\n",
       "    </tr>\n",
       "  </tbody>\n",
       "</table>\n",
       "</div>"
      ],
      "text/plain": [
       "  country_destination  lat_destination  lng_destination  distance_km  \\\n",
       "0                  AU       -26.853388       133.275160   15297.7440   \n",
       "1                  CA        62.393303       -96.818146    2828.1333   \n",
       "2                  DE        51.165707        10.452764    7879.5680   \n",
       "3                  ES        39.896027        -2.487694    7730.7240   \n",
       "4                  FR        46.232193         2.209667    7682.9450   \n",
       "\n",
       "   destination_km2 destination_language  language_levenshtein_distance  \n",
       "0          7741220                  eng                           0.00  \n",
       "1          9984670                  eng                           0.00  \n",
       "2           357022                  deu                          72.61  \n",
       "3           505370                  spa                          92.25  \n",
       "4           643801                  fra                          92.06  "
      ]
     },
     "execution_count": 34,
     "metadata": {},
     "output_type": "execute_result"
    }
   ],
   "source": [
    "df_countries.head()"
   ]
  },
  {
   "cell_type": "markdown",
   "metadata": {},
   "source": [
    "**Keeping standard language abbreviations**"
   ]
  },
  {
   "cell_type": "code",
   "execution_count": 35,
   "metadata": {},
   "outputs": [],
   "source": [
    "df_countries['destination_language'] = df_countries['destination_language'].map({'eng':'en','deu':'de',\n",
    "                                                                                 'spa':'es','fra':'fr','nld':'nl',\n",
    "                                                                                 'por': 'pt','ita':'it'})\n",
    "                                                                    "
   ]
  },
  {
   "cell_type": "code",
   "execution_count": 36,
   "metadata": {},
   "outputs": [
    {
     "data": {
      "text/html": [
       "<div>\n",
       "<style scoped>\n",
       "    .dataframe tbody tr th:only-of-type {\n",
       "        vertical-align: middle;\n",
       "    }\n",
       "\n",
       "    .dataframe tbody tr th {\n",
       "        vertical-align: top;\n",
       "    }\n",
       "\n",
       "    .dataframe thead th {\n",
       "        text-align: right;\n",
       "    }\n",
       "</style>\n",
       "<table border=\"1\" class=\"dataframe\">\n",
       "  <thead>\n",
       "    <tr style=\"text-align: right;\">\n",
       "      <th></th>\n",
       "      <th>country_destination</th>\n",
       "      <th>lat_destination</th>\n",
       "      <th>lng_destination</th>\n",
       "      <th>distance_km</th>\n",
       "      <th>destination_km2</th>\n",
       "      <th>destination_language</th>\n",
       "      <th>language_levenshtein_distance</th>\n",
       "    </tr>\n",
       "  </thead>\n",
       "  <tbody>\n",
       "    <tr>\n",
       "      <td>0</td>\n",
       "      <td>AU</td>\n",
       "      <td>-26.853388</td>\n",
       "      <td>133.275160</td>\n",
       "      <td>15297.7440</td>\n",
       "      <td>7741220</td>\n",
       "      <td>en</td>\n",
       "      <td>0.00</td>\n",
       "    </tr>\n",
       "    <tr>\n",
       "      <td>1</td>\n",
       "      <td>CA</td>\n",
       "      <td>62.393303</td>\n",
       "      <td>-96.818146</td>\n",
       "      <td>2828.1333</td>\n",
       "      <td>9984670</td>\n",
       "      <td>en</td>\n",
       "      <td>0.00</td>\n",
       "    </tr>\n",
       "    <tr>\n",
       "      <td>2</td>\n",
       "      <td>DE</td>\n",
       "      <td>51.165707</td>\n",
       "      <td>10.452764</td>\n",
       "      <td>7879.5680</td>\n",
       "      <td>357022</td>\n",
       "      <td>de</td>\n",
       "      <td>72.61</td>\n",
       "    </tr>\n",
       "    <tr>\n",
       "      <td>3</td>\n",
       "      <td>ES</td>\n",
       "      <td>39.896027</td>\n",
       "      <td>-2.487694</td>\n",
       "      <td>7730.7240</td>\n",
       "      <td>505370</td>\n",
       "      <td>es</td>\n",
       "      <td>92.25</td>\n",
       "    </tr>\n",
       "    <tr>\n",
       "      <td>4</td>\n",
       "      <td>FR</td>\n",
       "      <td>46.232193</td>\n",
       "      <td>2.209667</td>\n",
       "      <td>7682.9450</td>\n",
       "      <td>643801</td>\n",
       "      <td>fr</td>\n",
       "      <td>92.06</td>\n",
       "    </tr>\n",
       "  </tbody>\n",
       "</table>\n",
       "</div>"
      ],
      "text/plain": [
       "  country_destination  lat_destination  lng_destination  distance_km  \\\n",
       "0                  AU       -26.853388       133.275160   15297.7440   \n",
       "1                  CA        62.393303       -96.818146    2828.1333   \n",
       "2                  DE        51.165707        10.452764    7879.5680   \n",
       "3                  ES        39.896027        -2.487694    7730.7240   \n",
       "4                  FR        46.232193         2.209667    7682.9450   \n",
       "\n",
       "   destination_km2 destination_language  language_levenshtein_distance  \n",
       "0          7741220                   en                           0.00  \n",
       "1          9984670                   en                           0.00  \n",
       "2           357022                   de                          72.61  \n",
       "3           505370                   es                          92.25  \n",
       "4           643801                   fr                          92.06  "
      ]
     },
     "execution_count": 36,
     "metadata": {},
     "output_type": "execute_result"
    }
   ],
   "source": [
    "df_countries.head()"
   ]
  },
  {
   "cell_type": "code",
   "execution_count": 37,
   "metadata": {},
   "outputs": [
    {
     "data": {
      "text/plain": [
       "Text(0, 0.5, 'language_levenshtein_distance from US lang')"
      ]
     },
     "execution_count": 37,
     "metadata": {},
     "output_type": "execute_result"
    },
    {
     "data": {
      "image/png": "[encoded data removed]",
      "text/plain": [
       "<Figure size 864x288 with 2 Axes>"
      ]
     },
     "metadata": {
      "needs_background": "light"
     },
     "output_type": "display_data"
    }
   ],
   "source": [
    "plt.figure(figsize=(12,4))\n",
    "\n",
    "plt.subplot(1, 2, 1)\n",
    "plt.plot(df_countries['country_destination'],df_countries['distance_km'],'o')\n",
    "plt.xlabel(\"country_destination\")\n",
    "plt.ylabel(\"distance_km from US\")\n",
    "\n",
    "\n",
    "plt.subplot(1, 2, 2)\n",
    "plt.plot(df_countries['country_destination'],df_countries['language_levenshtein_distance'],'o')\n",
    "plt.xlabel(\"country_destination\")\n",
    "plt.ylabel(\"language_levenshtein_distance from US lang\")\n"
   ]
  },
  {
   "cell_type": "markdown",
   "metadata": {},
   "source": [
    "**AU looks farest from US**\n",
    "\n",
    "**ES, FR, PT have highest language_levenshtein_distance i.e these languages have highest difference score from US english.**"
   ]
  },
  {
   "cell_type": "code",
   "execution_count": null,
   "metadata": {},
   "outputs": [],
   "source": []
  },
  {
   "cell_type": "markdown",
   "metadata": {},
   "source": [
    "**Dropping data from countries and joining with train data**"
   ]
  },
  {
   "cell_type": "code",
   "execution_count": 38,
   "metadata": {},
   "outputs": [],
   "source": [
    "df_countries_ = df_countries[['country_destination','distance_km','destination_km2','destination_language','language_levenshtein_distance']] "
   ]
  },
  {
   "cell_type": "markdown",
   "metadata": {},
   "source": [
    "**Adding destination language preference or likeliness to user in train data**"
   ]
  },
  {
   "cell_type": "code",
   "execution_count": 39,
   "metadata": {},
   "outputs": [],
   "source": [
    "lang_df_countries = df_countries_.groupby(['destination_language','country_destination'])['country_destination'].agg(count = 'count').reset_index()\n",
    "lang_df_countries['country_destination'] = 'des_lang_' + lang_df_countries['country_destination']"
   ]
  },
  {
   "cell_type": "code",
   "execution_count": 40,
   "metadata": {},
   "outputs": [
    {
     "data": {
      "text/html": [
       "<div>\n",
       "<style scoped>\n",
       "    .dataframe tbody tr th:only-of-type {\n",
       "        vertical-align: middle;\n",
       "    }\n",
       "\n",
       "    .dataframe tbody tr th {\n",
       "        vertical-align: top;\n",
       "    }\n",
       "\n",
       "    .dataframe thead th {\n",
       "        text-align: right;\n",
       "    }\n",
       "</style>\n",
       "<table border=\"1\" class=\"dataframe\">\n",
       "  <thead>\n",
       "    <tr style=\"text-align: right;\">\n",
       "      <th>country_destination</th>\n",
       "      <th>destination_language</th>\n",
       "      <th>des_lang_AU</th>\n",
       "      <th>des_lang_CA</th>\n",
       "      <th>des_lang_DE</th>\n",
       "      <th>des_lang_ES</th>\n",
       "      <th>des_lang_FR</th>\n",
       "      <th>des_lang_GB</th>\n",
       "      <th>des_lang_IT</th>\n",
       "      <th>des_lang_NL</th>\n",
       "      <th>des_lang_PT</th>\n",
       "      <th>des_lang_US</th>\n",
       "    </tr>\n",
       "  </thead>\n",
       "  <tbody>\n",
       "    <tr>\n",
       "      <td>0</td>\n",
       "      <td>de</td>\n",
       "      <td>NaN</td>\n",
       "      <td>NaN</td>\n",
       "      <td>1.0</td>\n",
       "      <td>NaN</td>\n",
       "      <td>NaN</td>\n",
       "      <td>NaN</td>\n",
       "      <td>NaN</td>\n",
       "      <td>NaN</td>\n",
       "      <td>NaN</td>\n",
       "      <td>NaN</td>\n",
       "    </tr>\n",
       "    <tr>\n",
       "      <td>1</td>\n",
       "      <td>en</td>\n",
       "      <td>1.0</td>\n",
       "      <td>1.0</td>\n",
       "      <td>NaN</td>\n",
       "      <td>NaN</td>\n",
       "      <td>NaN</td>\n",
       "      <td>1.0</td>\n",
       "      <td>NaN</td>\n",
       "      <td>NaN</td>\n",
       "      <td>NaN</td>\n",
       "      <td>1.0</td>\n",
       "    </tr>\n",
       "    <tr>\n",
       "      <td>2</td>\n",
       "      <td>es</td>\n",
       "      <td>NaN</td>\n",
       "      <td>NaN</td>\n",
       "      <td>NaN</td>\n",
       "      <td>1.0</td>\n",
       "      <td>NaN</td>\n",
       "      <td>NaN</td>\n",
       "      <td>NaN</td>\n",
       "      <td>NaN</td>\n",
       "      <td>NaN</td>\n",
       "      <td>NaN</td>\n",
       "    </tr>\n",
       "    <tr>\n",
       "      <td>3</td>\n",
       "      <td>fr</td>\n",
       "      <td>NaN</td>\n",
       "      <td>NaN</td>\n",
       "      <td>NaN</td>\n",
       "      <td>NaN</td>\n",
       "      <td>1.0</td>\n",
       "      <td>NaN</td>\n",
       "      <td>NaN</td>\n",
       "      <td>NaN</td>\n",
       "      <td>NaN</td>\n",
       "      <td>NaN</td>\n",
       "    </tr>\n",
       "    <tr>\n",
       "      <td>4</td>\n",
       "      <td>it</td>\n",
       "      <td>NaN</td>\n",
       "      <td>NaN</td>\n",
       "      <td>NaN</td>\n",
       "      <td>NaN</td>\n",
       "      <td>NaN</td>\n",
       "      <td>NaN</td>\n",
       "      <td>1.0</td>\n",
       "      <td>NaN</td>\n",
       "      <td>NaN</td>\n",
       "      <td>NaN</td>\n",
       "    </tr>\n",
       "    <tr>\n",
       "      <td>5</td>\n",
       "      <td>nl</td>\n",
       "      <td>NaN</td>\n",
       "      <td>NaN</td>\n",
       "      <td>NaN</td>\n",
       "      <td>NaN</td>\n",
       "      <td>NaN</td>\n",
       "      <td>NaN</td>\n",
       "      <td>NaN</td>\n",
       "      <td>1.0</td>\n",
       "      <td>NaN</td>\n",
       "      <td>NaN</td>\n",
       "    </tr>\n",
       "    <tr>\n",
       "      <td>6</td>\n",
       "      <td>pt</td>\n",
       "      <td>NaN</td>\n",
       "      <td>NaN</td>\n",
       "      <td>NaN</td>\n",
       "      <td>NaN</td>\n",
       "      <td>NaN</td>\n",
       "      <td>NaN</td>\n",
       "      <td>NaN</td>\n",
       "      <td>NaN</td>\n",
       "      <td>1.0</td>\n",
       "      <td>NaN</td>\n",
       "    </tr>\n",
       "  </tbody>\n",
       "</table>\n",
       "</div>"
      ],
      "text/plain": [
       "country_destination destination_language  des_lang_AU  des_lang_CA  \\\n",
       "0                                     de          NaN          NaN   \n",
       "1                                     en          1.0          1.0   \n",
       "2                                     es          NaN          NaN   \n",
       "3                                     fr          NaN          NaN   \n",
       "4                                     it          NaN          NaN   \n",
       "5                                     nl          NaN          NaN   \n",
       "6                                     pt          NaN          NaN   \n",
       "\n",
       "country_destination  des_lang_DE  des_lang_ES  des_lang_FR  des_lang_GB  \\\n",
       "0                            1.0          NaN          NaN          NaN   \n",
       "1                            NaN          NaN          NaN          1.0   \n",
       "2                            NaN          1.0          NaN          NaN   \n",
       "3                            NaN          NaN          1.0          NaN   \n",
       "4                            NaN          NaN          NaN          NaN   \n",
       "5                            NaN          NaN          NaN          NaN   \n",
       "6                            NaN          NaN          NaN          NaN   \n",
       "\n",
       "country_destination  des_lang_IT  des_lang_NL  des_lang_PT  des_lang_US  \n",
       "0                            NaN          NaN          NaN          NaN  \n",
       "1                            NaN          NaN          NaN          1.0  \n",
       "2                            NaN          NaN          NaN          NaN  \n",
       "3                            NaN          NaN          NaN          NaN  \n",
       "4                            1.0          NaN          NaN          NaN  \n",
       "5                            NaN          1.0          NaN          NaN  \n",
       "6                            NaN          NaN          1.0          NaN  "
      ]
     },
     "execution_count": 40,
     "metadata": {},
     "output_type": "execute_result"
    }
   ],
   "source": [
    "lang_df_countries = lang_df_countries.pivot(index='destination_language', columns='country_destination', values='count').reset_index()\n",
    "lang_df_countries"
   ]
  },
  {
   "cell_type": "code",
   "execution_count": 41,
   "metadata": {},
   "outputs": [
    {
     "data": {
      "text/plain": [
       "Index(['id', 'date_account_created', 'timestamp_first_active',\n",
       "       'date_first_booking', 'gender', 'age_bucket', 'signup_method',\n",
       "       'signup_flow', 'language', 'affiliate_channel', 'affiliate_provider',\n",
       "       'first_affiliate_tracked', 'signup_app', 'first_device_type',\n",
       "       'first_browser', 'country_destination', 'month_of_first_booking',\n",
       "       'Others', 'action_active', 'action_ajax_check_dates',\n",
       "       'action_ajax_lwlb_contact', 'action_ajax_photo_widget_form_iframe',\n",
       "       'action_ajax_refresh_subtotal', 'action_ask_question',\n",
       "       'action_authenticate', 'action_calendar_tab_inner2', 'action_campaigns',\n",
       "       'action_click', 'action_collections', 'action_complete_status',\n",
       "       'action_confirm_email', 'action_create', 'action_dashboard',\n",
       "       'action_edit', 'action_edit_verification', 'action_header_userpic',\n",
       "       'action_identity', 'action_impressions', 'action_index',\n",
       "       'action_listings', 'action_lookup', 'action_manage_listing',\n",
       "       'action_notifications', 'action_other_hosting_reviews_first',\n",
       "       'action_personalize', 'action_qt2', 'action_recommendations',\n",
       "       'action_requested', 'action_reviews', 'action_search',\n",
       "       'action_search_results', 'action_show', 'action_show_personalize',\n",
       "       'action_similar_listings', 'action_similar_listings_v2',\n",
       "       'action_social_connections', 'action_track_page_view',\n",
       "       'action_travel_plans_current', 'action_unavailabilities',\n",
       "       'action_update'],\n",
       "      dtype='object')"
      ]
     },
     "execution_count": 41,
     "metadata": {},
     "output_type": "execute_result"
    }
   ],
   "source": [
    "df_train_join.columns"
   ]
  },
  {
   "cell_type": "code",
   "execution_count": 42,
   "metadata": {},
   "outputs": [
    {
     "data": {
      "text/plain": [
       "en    206314\n",
       "zh      1632\n",
       "fr      1172\n",
       "es       915\n",
       "ko       747\n",
       "de       732\n",
       "it       514\n",
       "ru       389\n",
       "pt       240\n",
       "ja       225\n",
       "sv       122\n",
       "nl        97\n",
       "tr        64\n",
       "da        58\n",
       "pl        54\n",
       "cs        32\n",
       "no        30\n",
       "th        24\n",
       "el        24\n",
       "id        22\n",
       "hu        18\n",
       "fi        14\n",
       "is         5\n",
       "ca         5\n",
       "hr         2\n",
       "Name: language, dtype: int64"
      ]
     },
     "execution_count": 42,
     "metadata": {},
     "output_type": "execute_result"
    }
   ],
   "source": [
    "df_train_join['language'].value_counts()"
   ]
  },
  {
   "cell_type": "code",
   "execution_count": 43,
   "metadata": {},
   "outputs": [
    {
     "data": {
      "text/html": [
       "<div>\n",
       "<style scoped>\n",
       "    .dataframe tbody tr th:only-of-type {\n",
       "        vertical-align: middle;\n",
       "    }\n",
       "\n",
       "    .dataframe tbody tr th {\n",
       "        vertical-align: top;\n",
       "    }\n",
       "\n",
       "    .dataframe thead th {\n",
       "        text-align: right;\n",
       "    }\n",
       "</style>\n",
       "<table border=\"1\" class=\"dataframe\">\n",
       "  <thead>\n",
       "    <tr style=\"text-align: right;\">\n",
       "      <th></th>\n",
       "      <th>id</th>\n",
       "      <th>date_account_created</th>\n",
       "      <th>timestamp_first_active</th>\n",
       "      <th>date_first_booking</th>\n",
       "      <th>gender</th>\n",
       "      <th>age_bucket</th>\n",
       "      <th>signup_method</th>\n",
       "      <th>signup_flow</th>\n",
       "      <th>language</th>\n",
       "      <th>affiliate_channel</th>\n",
       "      <th>...</th>\n",
       "      <th>des_lang_AU</th>\n",
       "      <th>des_lang_CA</th>\n",
       "      <th>des_lang_DE</th>\n",
       "      <th>des_lang_ES</th>\n",
       "      <th>des_lang_FR</th>\n",
       "      <th>des_lang_GB</th>\n",
       "      <th>des_lang_IT</th>\n",
       "      <th>des_lang_NL</th>\n",
       "      <th>des_lang_PT</th>\n",
       "      <th>des_lang_US</th>\n",
       "    </tr>\n",
       "  </thead>\n",
       "  <tbody>\n",
       "    <tr>\n",
       "      <td>0</td>\n",
       "      <td>gxn3p5htnn</td>\n",
       "      <td>2010-06-28</td>\n",
       "      <td>2009-03-19 04:32:55</td>\n",
       "      <td>NaT</td>\n",
       "      <td>NaN</td>\n",
       "      <td>35-39</td>\n",
       "      <td>facebook</td>\n",
       "      <td>0</td>\n",
       "      <td>en</td>\n",
       "      <td>direct</td>\n",
       "      <td>...</td>\n",
       "      <td>1.0</td>\n",
       "      <td>1.0</td>\n",
       "      <td>NaN</td>\n",
       "      <td>NaN</td>\n",
       "      <td>NaN</td>\n",
       "      <td>1.0</td>\n",
       "      <td>NaN</td>\n",
       "      <td>NaN</td>\n",
       "      <td>NaN</td>\n",
       "      <td>1.0</td>\n",
       "    </tr>\n",
       "    <tr>\n",
       "      <td>1</td>\n",
       "      <td>820tgsjxq7</td>\n",
       "      <td>2011-05-25</td>\n",
       "      <td>2009-05-23 17:48:09</td>\n",
       "      <td>NaT</td>\n",
       "      <td>MALE</td>\n",
       "      <td>35-39</td>\n",
       "      <td>facebook</td>\n",
       "      <td>0</td>\n",
       "      <td>en</td>\n",
       "      <td>seo</td>\n",
       "      <td>...</td>\n",
       "      <td>1.0</td>\n",
       "      <td>1.0</td>\n",
       "      <td>NaN</td>\n",
       "      <td>NaN</td>\n",
       "      <td>NaN</td>\n",
       "      <td>1.0</td>\n",
       "      <td>NaN</td>\n",
       "      <td>NaN</td>\n",
       "      <td>NaN</td>\n",
       "      <td>1.0</td>\n",
       "    </tr>\n",
       "    <tr>\n",
       "      <td>2</td>\n",
       "      <td>4ft3gnwmtx</td>\n",
       "      <td>2010-09-28</td>\n",
       "      <td>2009-06-09 23:12:47</td>\n",
       "      <td>2010-08-02</td>\n",
       "      <td>FEMALE</td>\n",
       "      <td>55-59</td>\n",
       "      <td>basic</td>\n",
       "      <td>3</td>\n",
       "      <td>en</td>\n",
       "      <td>direct</td>\n",
       "      <td>...</td>\n",
       "      <td>1.0</td>\n",
       "      <td>1.0</td>\n",
       "      <td>NaN</td>\n",
       "      <td>NaN</td>\n",
       "      <td>NaN</td>\n",
       "      <td>1.0</td>\n",
       "      <td>NaN</td>\n",
       "      <td>NaN</td>\n",
       "      <td>NaN</td>\n",
       "      <td>1.0</td>\n",
       "    </tr>\n",
       "    <tr>\n",
       "      <td>3</td>\n",
       "      <td>bjjt8pjhuk</td>\n",
       "      <td>2011-12-05</td>\n",
       "      <td>2009-10-31 06:01:29</td>\n",
       "      <td>2012-09-08</td>\n",
       "      <td>FEMALE</td>\n",
       "      <td>40-44</td>\n",
       "      <td>facebook</td>\n",
       "      <td>0</td>\n",
       "      <td>en</td>\n",
       "      <td>direct</td>\n",
       "      <td>...</td>\n",
       "      <td>1.0</td>\n",
       "      <td>1.0</td>\n",
       "      <td>NaN</td>\n",
       "      <td>NaN</td>\n",
       "      <td>NaN</td>\n",
       "      <td>1.0</td>\n",
       "      <td>NaN</td>\n",
       "      <td>NaN</td>\n",
       "      <td>NaN</td>\n",
       "      <td>1.0</td>\n",
       "    </tr>\n",
       "    <tr>\n",
       "      <td>4</td>\n",
       "      <td>87mebub9p4</td>\n",
       "      <td>2010-09-14</td>\n",
       "      <td>2009-12-08 06:11:05</td>\n",
       "      <td>2010-02-18</td>\n",
       "      <td>NaN</td>\n",
       "      <td>40-44</td>\n",
       "      <td>basic</td>\n",
       "      <td>0</td>\n",
       "      <td>en</td>\n",
       "      <td>direct</td>\n",
       "      <td>...</td>\n",
       "      <td>1.0</td>\n",
       "      <td>1.0</td>\n",
       "      <td>NaN</td>\n",
       "      <td>NaN</td>\n",
       "      <td>NaN</td>\n",
       "      <td>1.0</td>\n",
       "      <td>NaN</td>\n",
       "      <td>NaN</td>\n",
       "      <td>NaN</td>\n",
       "      <td>1.0</td>\n",
       "    </tr>\n",
       "  </tbody>\n",
       "</table>\n",
       "<p>5 rows × 70 columns</p>\n",
       "</div>"
      ],
      "text/plain": [
       "           id date_account_created timestamp_first_active date_first_booking  \\\n",
       "0  gxn3p5htnn           2010-06-28    2009-03-19 04:32:55                NaT   \n",
       "1  820tgsjxq7           2011-05-25    2009-05-23 17:48:09                NaT   \n",
       "2  4ft3gnwmtx           2010-09-28    2009-06-09 23:12:47         2010-08-02   \n",
       "3  bjjt8pjhuk           2011-12-05    2009-10-31 06:01:29         2012-09-08   \n",
       "4  87mebub9p4           2010-09-14    2009-12-08 06:11:05         2010-02-18   \n",
       "\n",
       "   gender age_bucket signup_method  signup_flow language affiliate_channel  \\\n",
       "0     NaN      35-39      facebook            0       en            direct   \n",
       "1    MALE      35-39      facebook            0       en               seo   \n",
       "2  FEMALE      55-59         basic            3       en            direct   \n",
       "3  FEMALE      40-44      facebook            0       en            direct   \n",
       "4     NaN      40-44         basic            0       en            direct   \n",
       "\n",
       "   ... des_lang_AU des_lang_CA des_lang_DE des_lang_ES des_lang_FR  \\\n",
       "0  ...         1.0         1.0         NaN         NaN         NaN   \n",
       "1  ...         1.0         1.0         NaN         NaN         NaN   \n",
       "2  ...         1.0         1.0         NaN         NaN         NaN   \n",
       "3  ...         1.0         1.0         NaN         NaN         NaN   \n",
       "4  ...         1.0         1.0         NaN         NaN         NaN   \n",
       "\n",
       "  des_lang_GB  des_lang_IT  des_lang_NL  des_lang_PT  des_lang_US  \n",
       "0         1.0          NaN          NaN          NaN          1.0  \n",
       "1         1.0          NaN          NaN          NaN          1.0  \n",
       "2         1.0          NaN          NaN          NaN          1.0  \n",
       "3         1.0          NaN          NaN          NaN          1.0  \n",
       "4         1.0          NaN          NaN          NaN          1.0  \n",
       "\n",
       "[5 rows x 70 columns]"
      ]
     },
     "execution_count": 43,
     "metadata": {},
     "output_type": "execute_result"
    }
   ],
   "source": [
    "df_train_join = df_train_join.join(lang_df_countries.set_index('destination_language'), on='language')\n",
    "df_train_join.head()"
   ]
  },
  {
   "cell_type": "code",
   "execution_count": 44,
   "metadata": {},
   "outputs": [],
   "source": [
    "#moving target to End\n",
    "target_col_at_end = ['country_destination']\n",
    "    \n",
    "df_train_join = df_train_join[[c for c in df_train_join if c not in target_col_at_end] \n",
    "    + [c for c in target_col_at_end if c in df_train_join]]"
   ]
  },
  {
   "cell_type": "code",
   "execution_count": 45,
   "metadata": {},
   "outputs": [
    {
     "name": "stdout",
     "output_type": "stream",
     "text": [
      "<class 'pandas.core.frame.DataFrame'>\n",
      "RangeIndex: 213451 entries, 0 to 213450\n",
      "Data columns (total 70 columns):\n",
      "id                                      213451 non-null object\n",
      "date_account_created                    213451 non-null datetime64[ns]\n",
      "timestamp_first_active                  213451 non-null datetime64[ns]\n",
      "date_first_booking                      88908 non-null datetime64[ns]\n",
      "gender                                  117763 non-null object\n",
      "age_bucket                              213451 non-null object\n",
      "signup_method                           213451 non-null object\n",
      "signup_flow                             213451 non-null int64\n",
      "language                                213451 non-null object\n",
      "affiliate_channel                       213451 non-null object\n",
      "affiliate_provider                      213451 non-null object\n",
      "first_affiliate_tracked                 207386 non-null object\n",
      "signup_app                              213451 non-null object\n",
      "first_device_type                       213451 non-null object\n",
      "first_browser                           186185 non-null object\n",
      "month_of_first_booking                  88908 non-null float64\n",
      "Others                                  48610 non-null float64\n",
      "action_active                           19427 non-null float64\n",
      "action_ajax_check_dates                 11315 non-null float64\n",
      "action_ajax_lwlb_contact                10737 non-null float64\n",
      "action_ajax_photo_widget_form_iframe    2169 non-null float64\n",
      "action_ajax_refresh_subtotal            34522 non-null float64\n",
      "action_ask_question                     17210 non-null float64\n",
      "action_authenticate                     10761 non-null float64\n",
      "action_calendar_tab_inner2              7449 non-null float64\n",
      "action_campaigns                        12849 non-null float64\n",
      "action_click                            2856 non-null float64\n",
      "action_collections                      6774 non-null float64\n",
      "action_complete_status                  3904 non-null float64\n",
      "action_confirm_email                    30905 non-null float64\n",
      "action_create                           23500 non-null float64\n",
      "action_dashboard                        29490 non-null float64\n",
      "action_edit                             11518 non-null float64\n",
      "action_edit_verification                6054 non-null float64\n",
      "action_header_userpic                   56603 non-null float64\n",
      "action_identity                         7241 non-null float64\n",
      "action_impressions                      2853 non-null float64\n",
      "action_index                            47770 non-null float64\n",
      "action_listings                         9980 non-null float64\n",
      "action_lookup                           20380 non-null float64\n",
      "action_manage_listing                   4082 non-null float64\n",
      "action_notifications                    13748 non-null float64\n",
      "action_other_hosting_reviews_first      10491 non-null float64\n",
      "action_personalize                      42549 non-null float64\n",
      "action_qt2                              7924 non-null float64\n",
      "action_recommendations                  1059 non-null float64\n",
      "action_requested                        7090 non-null float64\n",
      "action_reviews                          9442 non-null float64\n",
      "action_search                           11915 non-null float64\n",
      "action_search_results                   27929 non-null float64\n",
      "action_show                             57358 non-null float64\n",
      "action_show_personalize                 13121 non-null float64\n",
      "action_similar_listings                 34932 non-null float64\n",
      "action_similar_listings_v2              1376 non-null float64\n",
      "action_social_connections               10301 non-null float64\n",
      "action_track_page_view                  5604 non-null float64\n",
      "action_travel_plans_current             8659 non-null float64\n",
      "action_unavailabilities                 7137 non-null float64\n",
      "action_update                           30386 non-null float64\n",
      "des_lang_AU                             206314 non-null float64\n",
      "des_lang_CA                             206314 non-null float64\n",
      "des_lang_DE                             732 non-null float64\n",
      "des_lang_ES                             915 non-null float64\n",
      "des_lang_FR                             1172 non-null float64\n",
      "des_lang_GB                             206314 non-null float64\n",
      "des_lang_IT                             514 non-null float64\n",
      "des_lang_NL                             97 non-null float64\n",
      "des_lang_PT                             240 non-null float64\n",
      "des_lang_US                             206314 non-null float64\n",
      "country_destination                     213451 non-null object\n",
      "dtypes: datetime64[ns](3), float64(54), int64(1), object(12)\n",
      "memory usage: 114.0+ MB\n"
     ]
    }
   ],
   "source": [
    "df_train_join.info()"
   ]
  },
  {
   "cell_type": "code",
   "execution_count": 46,
   "metadata": {},
   "outputs": [
    {
     "data": {
      "text/html": [
       "<div>\n",
       "<style scoped>\n",
       "    .dataframe tbody tr th:only-of-type {\n",
       "        vertical-align: middle;\n",
       "    }\n",
       "\n",
       "    .dataframe tbody tr th {\n",
       "        vertical-align: top;\n",
       "    }\n",
       "\n",
       "    .dataframe thead th {\n",
       "        text-align: right;\n",
       "    }\n",
       "</style>\n",
       "<table border=\"1\" class=\"dataframe\">\n",
       "  <thead>\n",
       "    <tr style=\"text-align: right;\">\n",
       "      <th></th>\n",
       "      <th>id</th>\n",
       "      <th>date_account_created</th>\n",
       "      <th>timestamp_first_active</th>\n",
       "      <th>date_first_booking</th>\n",
       "      <th>gender</th>\n",
       "      <th>age_bucket</th>\n",
       "      <th>signup_method</th>\n",
       "      <th>signup_flow</th>\n",
       "      <th>language</th>\n",
       "      <th>affiliate_channel</th>\n",
       "      <th>...</th>\n",
       "      <th>des_lang_CA</th>\n",
       "      <th>des_lang_DE</th>\n",
       "      <th>des_lang_ES</th>\n",
       "      <th>des_lang_FR</th>\n",
       "      <th>des_lang_GB</th>\n",
       "      <th>des_lang_IT</th>\n",
       "      <th>des_lang_NL</th>\n",
       "      <th>des_lang_PT</th>\n",
       "      <th>des_lang_US</th>\n",
       "      <th>country_destination</th>\n",
       "    </tr>\n",
       "  </thead>\n",
       "  <tbody>\n",
       "    <tr>\n",
       "      <td>0</td>\n",
       "      <td>gxn3p5htnn</td>\n",
       "      <td>2010-06-28</td>\n",
       "      <td>2009-03-19 04:32:55</td>\n",
       "      <td>NaT</td>\n",
       "      <td>NaN</td>\n",
       "      <td>35-39</td>\n",
       "      <td>facebook</td>\n",
       "      <td>0</td>\n",
       "      <td>en</td>\n",
       "      <td>direct</td>\n",
       "      <td>...</td>\n",
       "      <td>1.0</td>\n",
       "      <td>NaN</td>\n",
       "      <td>NaN</td>\n",
       "      <td>NaN</td>\n",
       "      <td>1.0</td>\n",
       "      <td>NaN</td>\n",
       "      <td>NaN</td>\n",
       "      <td>NaN</td>\n",
       "      <td>1.0</td>\n",
       "      <td>NDF</td>\n",
       "    </tr>\n",
       "    <tr>\n",
       "      <td>1</td>\n",
       "      <td>820tgsjxq7</td>\n",
       "      <td>2011-05-25</td>\n",
       "      <td>2009-05-23 17:48:09</td>\n",
       "      <td>NaT</td>\n",
       "      <td>MALE</td>\n",
       "      <td>35-39</td>\n",
       "      <td>facebook</td>\n",
       "      <td>0</td>\n",
       "      <td>en</td>\n",
       "      <td>seo</td>\n",
       "      <td>...</td>\n",
       "      <td>1.0</td>\n",
       "      <td>NaN</td>\n",
       "      <td>NaN</td>\n",
       "      <td>NaN</td>\n",
       "      <td>1.0</td>\n",
       "      <td>NaN</td>\n",
       "      <td>NaN</td>\n",
       "      <td>NaN</td>\n",
       "      <td>1.0</td>\n",
       "      <td>NDF</td>\n",
       "    </tr>\n",
       "    <tr>\n",
       "      <td>2</td>\n",
       "      <td>4ft3gnwmtx</td>\n",
       "      <td>2010-09-28</td>\n",
       "      <td>2009-06-09 23:12:47</td>\n",
       "      <td>2010-08-02</td>\n",
       "      <td>FEMALE</td>\n",
       "      <td>55-59</td>\n",
       "      <td>basic</td>\n",
       "      <td>3</td>\n",
       "      <td>en</td>\n",
       "      <td>direct</td>\n",
       "      <td>...</td>\n",
       "      <td>1.0</td>\n",
       "      <td>NaN</td>\n",
       "      <td>NaN</td>\n",
       "      <td>NaN</td>\n",
       "      <td>1.0</td>\n",
       "      <td>NaN</td>\n",
       "      <td>NaN</td>\n",
       "      <td>NaN</td>\n",
       "      <td>1.0</td>\n",
       "      <td>US</td>\n",
       "    </tr>\n",
       "    <tr>\n",
       "      <td>3</td>\n",
       "      <td>bjjt8pjhuk</td>\n",
       "      <td>2011-12-05</td>\n",
       "      <td>2009-10-31 06:01:29</td>\n",
       "      <td>2012-09-08</td>\n",
       "      <td>FEMALE</td>\n",
       "      <td>40-44</td>\n",
       "      <td>facebook</td>\n",
       "      <td>0</td>\n",
       "      <td>en</td>\n",
       "      <td>direct</td>\n",
       "      <td>...</td>\n",
       "      <td>1.0</td>\n",
       "      <td>NaN</td>\n",
       "      <td>NaN</td>\n",
       "      <td>NaN</td>\n",
       "      <td>1.0</td>\n",
       "      <td>NaN</td>\n",
       "      <td>NaN</td>\n",
       "      <td>NaN</td>\n",
       "      <td>1.0</td>\n",
       "      <td>other</td>\n",
       "    </tr>\n",
       "    <tr>\n",
       "      <td>4</td>\n",
       "      <td>87mebub9p4</td>\n",
       "      <td>2010-09-14</td>\n",
       "      <td>2009-12-08 06:11:05</td>\n",
       "      <td>2010-02-18</td>\n",
       "      <td>NaN</td>\n",
       "      <td>40-44</td>\n",
       "      <td>basic</td>\n",
       "      <td>0</td>\n",
       "      <td>en</td>\n",
       "      <td>direct</td>\n",
       "      <td>...</td>\n",
       "      <td>1.0</td>\n",
       "      <td>NaN</td>\n",
       "      <td>NaN</td>\n",
       "      <td>NaN</td>\n",
       "      <td>1.0</td>\n",
       "      <td>NaN</td>\n",
       "      <td>NaN</td>\n",
       "      <td>NaN</td>\n",
       "      <td>1.0</td>\n",
       "      <td>US</td>\n",
       "    </tr>\n",
       "  </tbody>\n",
       "</table>\n",
       "<p>5 rows × 70 columns</p>\n",
       "</div>"
      ],
      "text/plain": [
       "           id date_account_created timestamp_first_active date_first_booking  \\\n",
       "0  gxn3p5htnn           2010-06-28    2009-03-19 04:32:55                NaT   \n",
       "1  820tgsjxq7           2011-05-25    2009-05-23 17:48:09                NaT   \n",
       "2  4ft3gnwmtx           2010-09-28    2009-06-09 23:12:47         2010-08-02   \n",
       "3  bjjt8pjhuk           2011-12-05    2009-10-31 06:01:29         2012-09-08   \n",
       "4  87mebub9p4           2010-09-14    2009-12-08 06:11:05         2010-02-18   \n",
       "\n",
       "   gender age_bucket signup_method  signup_flow language affiliate_channel  \\\n",
       "0     NaN      35-39      facebook            0       en            direct   \n",
       "1    MALE      35-39      facebook            0       en               seo   \n",
       "2  FEMALE      55-59         basic            3       en            direct   \n",
       "3  FEMALE      40-44      facebook            0       en            direct   \n",
       "4     NaN      40-44         basic            0       en            direct   \n",
       "\n",
       "   ... des_lang_CA des_lang_DE des_lang_ES des_lang_FR des_lang_GB  \\\n",
       "0  ...         1.0         NaN         NaN         NaN         1.0   \n",
       "1  ...         1.0         NaN         NaN         NaN         1.0   \n",
       "2  ...         1.0         NaN         NaN         NaN         1.0   \n",
       "3  ...         1.0         NaN         NaN         NaN         1.0   \n",
       "4  ...         1.0         NaN         NaN         NaN         1.0   \n",
       "\n",
       "   des_lang_IT  des_lang_NL  des_lang_PT  des_lang_US  country_destination  \n",
       "0          NaN          NaN          NaN          1.0                  NDF  \n",
       "1          NaN          NaN          NaN          1.0                  NDF  \n",
       "2          NaN          NaN          NaN          1.0                   US  \n",
       "3          NaN          NaN          NaN          1.0                other  \n",
       "4          NaN          NaN          NaN          1.0                   US  \n",
       "\n",
       "[5 rows x 70 columns]"
      ]
     },
     "execution_count": 46,
     "metadata": {},
     "output_type": "execute_result"
    }
   ],
   "source": [
    "df_train_join.head()"
   ]
  },
  {
   "cell_type": "markdown",
   "metadata": {},
   "source": [
    "****"
   ]
  },
  {
   "cell_type": "markdown",
   "metadata": {},
   "source": [
    "<div class=\"span5 alert alert-info\">\n",
    "<b>    \n",
    "Gender data\n",
    "</b>    \n",
    "</div>"
   ]
  },
  {
   "cell_type": "code",
   "execution_count": 47,
   "metadata": {},
   "outputs": [],
   "source": [
    "df_gender = pd.read_csv(\"../DataFiles/airbnb-recruiting-new-user-bookings/age_gender_bkts.csv\",encoding = \"ISO-8859-1\",na_values=[\"NA\",'-'])"
   ]
  },
  {
   "cell_type": "code",
   "execution_count": 48,
   "metadata": {},
   "outputs": [
    {
     "name": "stdout",
     "output_type": "stream",
     "text": [
      "<class 'pandas.core.frame.DataFrame'>\n",
      "RangeIndex: 420 entries, 0 to 419\n",
      "Data columns (total 5 columns):\n",
      "age_bucket                 420 non-null object\n",
      "country_destination        420 non-null object\n",
      "gender                     420 non-null object\n",
      "population_in_thousands    420 non-null float64\n",
      "year                       420 non-null float64\n",
      "dtypes: float64(2), object(3)\n",
      "memory usage: 16.5+ KB\n"
     ]
    }
   ],
   "source": [
    "df_gender.info()"
   ]
  },
  {
   "cell_type": "code",
   "execution_count": 49,
   "metadata": {},
   "outputs": [
    {
     "data": {
      "text/html": [
       "<div>\n",
       "<style scoped>\n",
       "    .dataframe tbody tr th:only-of-type {\n",
       "        vertical-align: middle;\n",
       "    }\n",
       "\n",
       "    .dataframe tbody tr th {\n",
       "        vertical-align: top;\n",
       "    }\n",
       "\n",
       "    .dataframe thead th {\n",
       "        text-align: right;\n",
       "    }\n",
       "</style>\n",
       "<table border=\"1\" class=\"dataframe\">\n",
       "  <thead>\n",
       "    <tr style=\"text-align: right;\">\n",
       "      <th></th>\n",
       "      <th>age_bucket</th>\n",
       "      <th>country_destination</th>\n",
       "      <th>gender</th>\n",
       "      <th>population_in_thousands</th>\n",
       "      <th>year</th>\n",
       "    </tr>\n",
       "  </thead>\n",
       "  <tbody>\n",
       "    <tr>\n",
       "      <td>0</td>\n",
       "      <td>100+</td>\n",
       "      <td>AU</td>\n",
       "      <td>male</td>\n",
       "      <td>1.0</td>\n",
       "      <td>2015.0</td>\n",
       "    </tr>\n",
       "    <tr>\n",
       "      <td>1</td>\n",
       "      <td>95-99</td>\n",
       "      <td>AU</td>\n",
       "      <td>male</td>\n",
       "      <td>9.0</td>\n",
       "      <td>2015.0</td>\n",
       "    </tr>\n",
       "    <tr>\n",
       "      <td>2</td>\n",
       "      <td>90-94</td>\n",
       "      <td>AU</td>\n",
       "      <td>male</td>\n",
       "      <td>47.0</td>\n",
       "      <td>2015.0</td>\n",
       "    </tr>\n",
       "    <tr>\n",
       "      <td>3</td>\n",
       "      <td>85-89</td>\n",
       "      <td>AU</td>\n",
       "      <td>male</td>\n",
       "      <td>118.0</td>\n",
       "      <td>2015.0</td>\n",
       "    </tr>\n",
       "    <tr>\n",
       "      <td>4</td>\n",
       "      <td>80-84</td>\n",
       "      <td>AU</td>\n",
       "      <td>male</td>\n",
       "      <td>199.0</td>\n",
       "      <td>2015.0</td>\n",
       "    </tr>\n",
       "  </tbody>\n",
       "</table>\n",
       "</div>"
      ],
      "text/plain": [
       "  age_bucket country_destination gender  population_in_thousands    year\n",
       "0       100+                  AU   male                      1.0  2015.0\n",
       "1      95-99                  AU   male                      9.0  2015.0\n",
       "2      90-94                  AU   male                     47.0  2015.0\n",
       "3      85-89                  AU   male                    118.0  2015.0\n",
       "4      80-84                  AU   male                    199.0  2015.0"
      ]
     },
     "execution_count": 49,
     "metadata": {},
     "output_type": "execute_result"
    }
   ],
   "source": [
    "df_gender.head()"
   ]
  },
  {
   "cell_type": "markdown",
   "metadata": {},
   "source": [
    "**Adding average age bucket population of destination countries with respect to user age bucket** "
   ]
  },
  {
   "cell_type": "code",
   "execution_count": 50,
   "metadata": {},
   "outputs": [
    {
     "data": {
      "text/html": [
       "<div>\n",
       "<style scoped>\n",
       "    .dataframe tbody tr th:only-of-type {\n",
       "        vertical-align: middle;\n",
       "    }\n",
       "\n",
       "    .dataframe tbody tr th {\n",
       "        vertical-align: top;\n",
       "    }\n",
       "\n",
       "    .dataframe thead th {\n",
       "        text-align: right;\n",
       "    }\n",
       "</style>\n",
       "<table border=\"1\" class=\"dataframe\">\n",
       "  <thead>\n",
       "    <tr style=\"text-align: right;\">\n",
       "      <th></th>\n",
       "      <th>age_bucket</th>\n",
       "      <th>country_destination</th>\n",
       "      <th>mean</th>\n",
       "    </tr>\n",
       "  </thead>\n",
       "  <tbody>\n",
       "    <tr>\n",
       "      <td>0</td>\n",
       "      <td>0-4</td>\n",
       "      <td>age_grp_AU</td>\n",
       "      <td>802.5</td>\n",
       "    </tr>\n",
       "    <tr>\n",
       "      <td>1</td>\n",
       "      <td>0-4</td>\n",
       "      <td>age_grp_CA</td>\n",
       "      <td>1018.0</td>\n",
       "    </tr>\n",
       "    <tr>\n",
       "      <td>2</td>\n",
       "      <td>0-4</td>\n",
       "      <td>age_grp_DE</td>\n",
       "      <td>1762.0</td>\n",
       "    </tr>\n",
       "    <tr>\n",
       "      <td>3</td>\n",
       "      <td>0-4</td>\n",
       "      <td>age_grp_ES</td>\n",
       "      <td>1235.0</td>\n",
       "    </tr>\n",
       "    <tr>\n",
       "      <td>4</td>\n",
       "      <td>0-4</td>\n",
       "      <td>age_grp_FR</td>\n",
       "      <td>1986.5</td>\n",
       "    </tr>\n",
       "  </tbody>\n",
       "</table>\n",
       "</div>"
      ],
      "text/plain": [
       "  age_bucket country_destination    mean\n",
       "0        0-4          age_grp_AU   802.5\n",
       "1        0-4          age_grp_CA  1018.0\n",
       "2        0-4          age_grp_DE  1762.0\n",
       "3        0-4          age_grp_ES  1235.0\n",
       "4        0-4          age_grp_FR  1986.5"
      ]
     },
     "execution_count": 50,
     "metadata": {},
     "output_type": "execute_result"
    }
   ],
   "source": [
    "pop_age_grp = df_gender.groupby(['age_bucket','country_destination'])['population_in_thousands'].agg(mean = np.mean).reset_index()\n",
    "pop_age_grp['country_destination'] = 'age_grp_' + pop_age_grp['country_destination']\n",
    "\n",
    "pop_age_grp.head()"
   ]
  },
  {
   "cell_type": "code",
   "execution_count": 51,
   "metadata": {},
   "outputs": [
    {
     "data": {
      "text/html": [
       "<div>\n",
       "<style scoped>\n",
       "    .dataframe tbody tr th:only-of-type {\n",
       "        vertical-align: middle;\n",
       "    }\n",
       "\n",
       "    .dataframe tbody tr th {\n",
       "        vertical-align: top;\n",
       "    }\n",
       "\n",
       "    .dataframe thead th {\n",
       "        text-align: right;\n",
       "    }\n",
       "</style>\n",
       "<table border=\"1\" class=\"dataframe\">\n",
       "  <thead>\n",
       "    <tr style=\"text-align: right;\">\n",
       "      <th>country_destination</th>\n",
       "      <th>age_bucket</th>\n",
       "      <th>age_grp_AU</th>\n",
       "      <th>age_grp_CA</th>\n",
       "      <th>age_grp_DE</th>\n",
       "      <th>age_grp_ES</th>\n",
       "      <th>age_grp_FR</th>\n",
       "      <th>age_grp_GB</th>\n",
       "      <th>age_grp_IT</th>\n",
       "      <th>age_grp_NL</th>\n",
       "      <th>age_grp_PT</th>\n",
       "      <th>age_grp_US</th>\n",
       "    </tr>\n",
       "  </thead>\n",
       "  <tbody>\n",
       "    <tr>\n",
       "      <td>0</td>\n",
       "      <td>0-4</td>\n",
       "      <td>802.5</td>\n",
       "      <td>1018.0</td>\n",
       "      <td>1762.0</td>\n",
       "      <td>1235.0</td>\n",
       "      <td>1986.5</td>\n",
       "      <td>1934.5</td>\n",
       "      <td>1425.5</td>\n",
       "      <td>450.0</td>\n",
       "      <td>232.0</td>\n",
       "      <td>10547.0</td>\n",
       "    </tr>\n",
       "    <tr>\n",
       "      <td>1</td>\n",
       "      <td>10-14</td>\n",
       "      <td>725.0</td>\n",
       "      <td>956.0</td>\n",
       "      <td>1846.0</td>\n",
       "      <td>1156.5</td>\n",
       "      <td>1939.5</td>\n",
       "      <td>1730.5</td>\n",
       "      <td>1428.0</td>\n",
       "      <td>505.0</td>\n",
       "      <td>277.0</td>\n",
       "      <td>10558.5</td>\n",
       "    </tr>\n",
       "    <tr>\n",
       "      <td>2</td>\n",
       "      <td>100+</td>\n",
       "      <td>2.5</td>\n",
       "      <td>4.0</td>\n",
       "      <td>8.5</td>\n",
       "      <td>6.0</td>\n",
       "      <td>11.0</td>\n",
       "      <td>8.0</td>\n",
       "      <td>9.0</td>\n",
       "      <td>1.0</td>\n",
       "      <td>0.5</td>\n",
       "      <td>37.0</td>\n",
       "    </tr>\n",
       "    <tr>\n",
       "      <td>3</td>\n",
       "      <td>15-19</td>\n",
       "      <td>752.5</td>\n",
       "      <td>1031.5</td>\n",
       "      <td>2025.0</td>\n",
       "      <td>1057.0</td>\n",
       "      <td>1966.0</td>\n",
       "      <td>1823.5</td>\n",
       "      <td>1452.0</td>\n",
       "      <td>497.0</td>\n",
       "      <td>271.5</td>\n",
       "      <td>10797.5</td>\n",
       "    </tr>\n",
       "    <tr>\n",
       "      <td>4</td>\n",
       "      <td>20-24</td>\n",
       "      <td>803.5</td>\n",
       "      <td>1181.0</td>\n",
       "      <td>2213.5</td>\n",
       "      <td>1140.5</td>\n",
       "      <td>1993.5</td>\n",
       "      <td>2009.0</td>\n",
       "      <td>1557.5</td>\n",
       "      <td>515.5</td>\n",
       "      <td>280.0</td>\n",
       "      <td>11347.5</td>\n",
       "    </tr>\n",
       "  </tbody>\n",
       "</table>\n",
       "</div>"
      ],
      "text/plain": [
       "country_destination age_bucket  age_grp_AU  age_grp_CA  age_grp_DE  \\\n",
       "0                          0-4       802.5      1018.0      1762.0   \n",
       "1                        10-14       725.0       956.0      1846.0   \n",
       "2                         100+         2.5         4.0         8.5   \n",
       "3                        15-19       752.5      1031.5      2025.0   \n",
       "4                        20-24       803.5      1181.0      2213.5   \n",
       "\n",
       "country_destination  age_grp_ES  age_grp_FR  age_grp_GB  age_grp_IT  \\\n",
       "0                        1235.0      1986.5      1934.5      1425.5   \n",
       "1                        1156.5      1939.5      1730.5      1428.0   \n",
       "2                           6.0        11.0         8.0         9.0   \n",
       "3                        1057.0      1966.0      1823.5      1452.0   \n",
       "4                        1140.5      1993.5      2009.0      1557.5   \n",
       "\n",
       "country_destination  age_grp_NL  age_grp_PT  age_grp_US  \n",
       "0                         450.0       232.0     10547.0  \n",
       "1                         505.0       277.0     10558.5  \n",
       "2                           1.0         0.5        37.0  \n",
       "3                         497.0       271.5     10797.5  \n",
       "4                         515.5       280.0     11347.5  "
      ]
     },
     "execution_count": 51,
     "metadata": {},
     "output_type": "execute_result"
    }
   ],
   "source": [
    "age_grp_countries = pop_age_grp.pivot(index='age_bucket', columns='country_destination', values='mean').reset_index()\n",
    "age_grp_countries.head()"
   ]
  },
  {
   "cell_type": "code",
   "execution_count": 52,
   "metadata": {},
   "outputs": [
    {
     "data": {
      "text/html": [
       "<div>\n",
       "<style scoped>\n",
       "    .dataframe tbody tr th:only-of-type {\n",
       "        vertical-align: middle;\n",
       "    }\n",
       "\n",
       "    .dataframe tbody tr th {\n",
       "        vertical-align: top;\n",
       "    }\n",
       "\n",
       "    .dataframe thead th {\n",
       "        text-align: right;\n",
       "    }\n",
       "</style>\n",
       "<table border=\"1\" class=\"dataframe\">\n",
       "  <thead>\n",
       "    <tr style=\"text-align: right;\">\n",
       "      <th></th>\n",
       "      <th>id</th>\n",
       "      <th>date_account_created</th>\n",
       "      <th>timestamp_first_active</th>\n",
       "      <th>date_first_booking</th>\n",
       "      <th>gender</th>\n",
       "      <th>age_bucket</th>\n",
       "      <th>signup_method</th>\n",
       "      <th>signup_flow</th>\n",
       "      <th>language</th>\n",
       "      <th>affiliate_channel</th>\n",
       "      <th>...</th>\n",
       "      <th>age_grp_AU</th>\n",
       "      <th>age_grp_CA</th>\n",
       "      <th>age_grp_DE</th>\n",
       "      <th>age_grp_ES</th>\n",
       "      <th>age_grp_FR</th>\n",
       "      <th>age_grp_GB</th>\n",
       "      <th>age_grp_IT</th>\n",
       "      <th>age_grp_NL</th>\n",
       "      <th>age_grp_PT</th>\n",
       "      <th>age_grp_US</th>\n",
       "    </tr>\n",
       "  </thead>\n",
       "  <tbody>\n",
       "    <tr>\n",
       "      <td>0</td>\n",
       "      <td>gxn3p5htnn</td>\n",
       "      <td>2010-06-28</td>\n",
       "      <td>2009-03-19 04:32:55</td>\n",
       "      <td>NaT</td>\n",
       "      <td>NaN</td>\n",
       "      <td>35-39</td>\n",
       "      <td>facebook</td>\n",
       "      <td>0</td>\n",
       "      <td>en</td>\n",
       "      <td>direct</td>\n",
       "      <td>...</td>\n",
       "      <td>799.0</td>\n",
       "      <td>1190.5</td>\n",
       "      <td>2425.0</td>\n",
       "      <td>2041.5</td>\n",
       "      <td>1849.0</td>\n",
       "      <td>1971.5</td>\n",
       "      <td>2103.5</td>\n",
       "      <td>490.0</td>\n",
       "      <td>416.5</td>\n",
       "      <td>10340.5</td>\n",
       "    </tr>\n",
       "    <tr>\n",
       "      <td>1</td>\n",
       "      <td>820tgsjxq7</td>\n",
       "      <td>2011-05-25</td>\n",
       "      <td>2009-05-23 17:48:09</td>\n",
       "      <td>NaT</td>\n",
       "      <td>MALE</td>\n",
       "      <td>35-39</td>\n",
       "      <td>facebook</td>\n",
       "      <td>0</td>\n",
       "      <td>en</td>\n",
       "      <td>seo</td>\n",
       "      <td>...</td>\n",
       "      <td>799.0</td>\n",
       "      <td>1190.5</td>\n",
       "      <td>2425.0</td>\n",
       "      <td>2041.5</td>\n",
       "      <td>1849.0</td>\n",
       "      <td>1971.5</td>\n",
       "      <td>2103.5</td>\n",
       "      <td>490.0</td>\n",
       "      <td>416.5</td>\n",
       "      <td>10340.5</td>\n",
       "    </tr>\n",
       "    <tr>\n",
       "      <td>2</td>\n",
       "      <td>4ft3gnwmtx</td>\n",
       "      <td>2010-09-28</td>\n",
       "      <td>2009-06-09 23:12:47</td>\n",
       "      <td>2010-08-02</td>\n",
       "      <td>FEMALE</td>\n",
       "      <td>55-59</td>\n",
       "      <td>basic</td>\n",
       "      <td>3</td>\n",
       "      <td>en</td>\n",
       "      <td>direct</td>\n",
       "      <td>...</td>\n",
       "      <td>726.5</td>\n",
       "      <td>1296.0</td>\n",
       "      <td>2989.5</td>\n",
       "      <td>1505.0</td>\n",
       "      <td>2032.0</td>\n",
       "      <td>1958.0</td>\n",
       "      <td>2022.5</td>\n",
       "      <td>580.5</td>\n",
       "      <td>354.5</td>\n",
       "      <td>10976.5</td>\n",
       "    </tr>\n",
       "    <tr>\n",
       "      <td>3</td>\n",
       "      <td>bjjt8pjhuk</td>\n",
       "      <td>2011-12-05</td>\n",
       "      <td>2009-10-31 06:01:29</td>\n",
       "      <td>2012-09-08</td>\n",
       "      <td>FEMALE</td>\n",
       "      <td>40-44</td>\n",
       "      <td>facebook</td>\n",
       "      <td>0</td>\n",
       "      <td>en</td>\n",
       "      <td>direct</td>\n",
       "      <td>...</td>\n",
       "      <td>829.0</td>\n",
       "      <td>1174.0</td>\n",
       "      <td>2596.0</td>\n",
       "      <td>1988.0</td>\n",
       "      <td>2221.5</td>\n",
       "      <td>2124.0</td>\n",
       "      <td>2419.5</td>\n",
       "      <td>582.5</td>\n",
       "      <td>417.0</td>\n",
       "      <td>10233.5</td>\n",
       "    </tr>\n",
       "    <tr>\n",
       "      <td>4</td>\n",
       "      <td>87mebub9p4</td>\n",
       "      <td>2010-09-14</td>\n",
       "      <td>2009-12-08 06:11:05</td>\n",
       "      <td>2010-02-18</td>\n",
       "      <td>NaN</td>\n",
       "      <td>40-44</td>\n",
       "      <td>basic</td>\n",
       "      <td>0</td>\n",
       "      <td>en</td>\n",
       "      <td>direct</td>\n",
       "      <td>...</td>\n",
       "      <td>829.0</td>\n",
       "      <td>1174.0</td>\n",
       "      <td>2596.0</td>\n",
       "      <td>1988.0</td>\n",
       "      <td>2221.5</td>\n",
       "      <td>2124.0</td>\n",
       "      <td>2419.5</td>\n",
       "      <td>582.5</td>\n",
       "      <td>417.0</td>\n",
       "      <td>10233.5</td>\n",
       "    </tr>\n",
       "  </tbody>\n",
       "</table>\n",
       "<p>5 rows × 80 columns</p>\n",
       "</div>"
      ],
      "text/plain": [
       "           id date_account_created timestamp_first_active date_first_booking  \\\n",
       "0  gxn3p5htnn           2010-06-28    2009-03-19 04:32:55                NaT   \n",
       "1  820tgsjxq7           2011-05-25    2009-05-23 17:48:09                NaT   \n",
       "2  4ft3gnwmtx           2010-09-28    2009-06-09 23:12:47         2010-08-02   \n",
       "3  bjjt8pjhuk           2011-12-05    2009-10-31 06:01:29         2012-09-08   \n",
       "4  87mebub9p4           2010-09-14    2009-12-08 06:11:05         2010-02-18   \n",
       "\n",
       "   gender age_bucket signup_method  signup_flow language affiliate_channel  \\\n",
       "0     NaN      35-39      facebook            0       en            direct   \n",
       "1    MALE      35-39      facebook            0       en               seo   \n",
       "2  FEMALE      55-59         basic            3       en            direct   \n",
       "3  FEMALE      40-44      facebook            0       en            direct   \n",
       "4     NaN      40-44         basic            0       en            direct   \n",
       "\n",
       "   ... age_grp_AU age_grp_CA age_grp_DE age_grp_ES age_grp_FR  age_grp_GB  \\\n",
       "0  ...      799.0     1190.5     2425.0     2041.5     1849.0      1971.5   \n",
       "1  ...      799.0     1190.5     2425.0     2041.5     1849.0      1971.5   \n",
       "2  ...      726.5     1296.0     2989.5     1505.0     2032.0      1958.0   \n",
       "3  ...      829.0     1174.0     2596.0     1988.0     2221.5      2124.0   \n",
       "4  ...      829.0     1174.0     2596.0     1988.0     2221.5      2124.0   \n",
       "\n",
       "   age_grp_IT  age_grp_NL  age_grp_PT  age_grp_US  \n",
       "0      2103.5       490.0       416.5     10340.5  \n",
       "1      2103.5       490.0       416.5     10340.5  \n",
       "2      2022.5       580.5       354.5     10976.5  \n",
       "3      2419.5       582.5       417.0     10233.5  \n",
       "4      2419.5       582.5       417.0     10233.5  \n",
       "\n",
       "[5 rows x 80 columns]"
      ]
     },
     "execution_count": 52,
     "metadata": {},
     "output_type": "execute_result"
    }
   ],
   "source": [
    "df_train_join = df_train_join.join(age_grp_countries.set_index('age_bucket'), on='age_bucket')\n",
    "df_train_join.head()"
   ]
  },
  {
   "cell_type": "code",
   "execution_count": null,
   "metadata": {},
   "outputs": [],
   "source": []
  },
  {
   "cell_type": "code",
   "execution_count": 53,
   "metadata": {},
   "outputs": [
    {
     "data": {
      "text/plain": [
       "<matplotlib.axes._subplots.AxesSubplot at 0x19d853990>"
      ]
     },
     "execution_count": 53,
     "metadata": {},
     "output_type": "execute_result"
    },
    {
     "data": {
      "image/png": "[encoded data removed]",
      "text/plain": [
       "<Figure size 1296x576 with 2 Axes>"
      ]
     },
     "metadata": {
      "needs_background": "light"
     },
     "output_type": "display_data"
    }
   ],
   "source": [
    "fig, (ax, ax2) = plt.subplots(figsize=(18,8),ncols=2)\n",
    "\n",
    "df_gender.groupby(['country_destination','gender'])['population_in_thousands'].agg('sum').unstack().plot(kind='bar',ax=ax)\n",
    "pd.pivot_table(df_gender, values=\"population_in_thousands\", index=\"age_bucket\", columns=\"country_destination\", aggfunc=np.sum).plot.bar(stacked=True,ax=ax2)\n"
   ]
  },
  {
   "cell_type": "markdown",
   "metadata": {},
   "source": [
    "**US seem to have highest population, also female population is higher compared to male for all destination countries.** "
   ]
  },
  {
   "cell_type": "code",
   "execution_count": null,
   "metadata": {},
   "outputs": [],
   "source": []
  },
  {
   "cell_type": "code",
   "execution_count": 54,
   "metadata": {},
   "outputs": [
    {
     "data": {
      "text/plain": [
       "<matplotlib.axes._subplots.AxesSubplot at 0x19cb5b350>"
      ]
     },
     "execution_count": 54,
     "metadata": {},
     "output_type": "execute_result"
    },
    {
     "data": {
      "image/png": "[encoded data removed]",
      "text/plain": [
       "<Figure size 1296x576 with 1 Axes>"
      ]
     },
     "metadata": {
      "needs_background": "light"
     },
     "output_type": "display_data"
    }
   ],
   "source": [
    "plt.figure(figsize=(18,8))\n",
    "plt.subplot(1, 2, 1)\n",
    "\n",
    "cat_counts = df_train_join[\"country_destination\"].value_counts()\n",
    "cat_counts.plot.bar()"
   ]
  },
  {
   "cell_type": "markdown",
   "metadata": {},
   "source": [
    "**Most of the users land up doing no bookings.**\n",
    "\n",
    "**US is the destination country for most of the users, could be because all user data are from people of US which also implies that most users do bookings within the country.** "
   ]
  },
  {
   "cell_type": "markdown",
   "metadata": {},
   "source": [
    "**Dataset seem imbalanced with NDF and US contributing max to the data** "
   ]
  },
  {
   "cell_type": "code",
   "execution_count": 55,
   "metadata": {},
   "outputs": [
    {
     "data": {
      "text/plain": [
       "Text(0, 0.5, 'count')"
      ]
     },
     "execution_count": 55,
     "metadata": {},
     "output_type": "execute_result"
    },
    {
     "data": {
      "image/png": "[encoded data removed]",
      "text/plain": [
       "<Figure size 576x288 with 1 Axes>"
      ]
     },
     "metadata": {
      "needs_background": "light"
     },
     "output_type": "display_data"
    }
   ],
   "source": [
    "plt.figure(figsize=(8,4))\n",
    "\n",
    "df_train_join['date_account_created'].dt.month.hist()\n",
    "df_train_join['date_first_booking'].dt.month.hist()\n",
    "\n",
    "plt.xlabel('month')\n",
    "plt.ylabel('count')"
   ]
  },
  {
   "cell_type": "markdown",
   "metadata": {},
   "source": [
    "**First half of the year and December has the max accounts created and first bookings**\n",
    "\n",
    "**January has highest accounts created and first bookings**"
   ]
  },
  {
   "cell_type": "code",
   "execution_count": 56,
   "metadata": {},
   "outputs": [
    {
     "name": "stdout",
     "output_type": "stream",
     "text": [
      "<class 'pandas.core.frame.DataFrame'>\n",
      "RangeIndex: 213451 entries, 0 to 213450\n",
      "Data columns (total 80 columns):\n",
      "id                                      213451 non-null object\n",
      "date_account_created                    213451 non-null datetime64[ns]\n",
      "timestamp_first_active                  213451 non-null datetime64[ns]\n",
      "date_first_booking                      88908 non-null datetime64[ns]\n",
      "gender                                  117763 non-null object\n",
      "age_bucket                              213451 non-null object\n",
      "signup_method                           213451 non-null object\n",
      "signup_flow                             213451 non-null int64\n",
      "language                                213451 non-null object\n",
      "affiliate_channel                       213451 non-null object\n",
      "affiliate_provider                      213451 non-null object\n",
      "first_affiliate_tracked                 207386 non-null object\n",
      "signup_app                              213451 non-null object\n",
      "first_device_type                       213451 non-null object\n",
      "first_browser                           186185 non-null object\n",
      "month_of_first_booking                  88908 non-null float64\n",
      "Others                                  48610 non-null float64\n",
      "action_active                           19427 non-null float64\n",
      "action_ajax_check_dates                 11315 non-null float64\n",
      "action_ajax_lwlb_contact                10737 non-null float64\n",
      "action_ajax_photo_widget_form_iframe    2169 non-null float64\n",
      "action_ajax_refresh_subtotal            34522 non-null float64\n",
      "action_ask_question                     17210 non-null float64\n",
      "action_authenticate                     10761 non-null float64\n",
      "action_calendar_tab_inner2              7449 non-null float64\n",
      "action_campaigns                        12849 non-null float64\n",
      "action_click                            2856 non-null float64\n",
      "action_collections                      6774 non-null float64\n",
      "action_complete_status                  3904 non-null float64\n",
      "action_confirm_email                    30905 non-null float64\n",
      "action_create                           23500 non-null float64\n",
      "action_dashboard                        29490 non-null float64\n",
      "action_edit                             11518 non-null float64\n",
      "action_edit_verification                6054 non-null float64\n",
      "action_header_userpic                   56603 non-null float64\n",
      "action_identity                         7241 non-null float64\n",
      "action_impressions                      2853 non-null float64\n",
      "action_index                            47770 non-null float64\n",
      "action_listings                         9980 non-null float64\n",
      "action_lookup                           20380 non-null float64\n",
      "action_manage_listing                   4082 non-null float64\n",
      "action_notifications                    13748 non-null float64\n",
      "action_other_hosting_reviews_first      10491 non-null float64\n",
      "action_personalize                      42549 non-null float64\n",
      "action_qt2                              7924 non-null float64\n",
      "action_recommendations                  1059 non-null float64\n",
      "action_requested                        7090 non-null float64\n",
      "action_reviews                          9442 non-null float64\n",
      "action_search                           11915 non-null float64\n",
      "action_search_results                   27929 non-null float64\n",
      "action_show                             57358 non-null float64\n",
      "action_show_personalize                 13121 non-null float64\n",
      "action_similar_listings                 34932 non-null float64\n",
      "action_similar_listings_v2              1376 non-null float64\n",
      "action_social_connections               10301 non-null float64\n",
      "action_track_page_view                  5604 non-null float64\n",
      "action_travel_plans_current             8659 non-null float64\n",
      "action_unavailabilities                 7137 non-null float64\n",
      "action_update                           30386 non-null float64\n",
      "des_lang_AU                             206314 non-null float64\n",
      "des_lang_CA                             206314 non-null float64\n",
      "des_lang_DE                             732 non-null float64\n",
      "des_lang_ES                             915 non-null float64\n",
      "des_lang_FR                             1172 non-null float64\n",
      "des_lang_GB                             206314 non-null float64\n",
      "des_lang_IT                             514 non-null float64\n",
      "des_lang_NL                             97 non-null float64\n",
      "des_lang_PT                             240 non-null float64\n",
      "des_lang_US                             206314 non-null float64\n",
      "country_destination                     213451 non-null object\n",
      "age_grp_AU                              213451 non-null float64\n",
      "age_grp_CA                              213451 non-null float64\n",
      "age_grp_DE                              213451 non-null float64\n",
      "age_grp_ES                              213451 non-null float64\n",
      "age_grp_FR                              213451 non-null float64\n",
      "age_grp_GB                              213451 non-null float64\n",
      "age_grp_IT                              213451 non-null float64\n",
      "age_grp_NL                              213451 non-null float64\n",
      "age_grp_PT                              213451 non-null float64\n",
      "age_grp_US                              213451 non-null float64\n",
      "dtypes: datetime64[ns](3), float64(64), int64(1), object(12)\n",
      "memory usage: 130.3+ MB\n"
     ]
    }
   ],
   "source": [
    "df_train_join.info()"
   ]
  },
  {
   "cell_type": "code",
   "execution_count": null,
   "metadata": {},
   "outputs": [],
   "source": []
  },
  {
   "cell_type": "markdown",
   "metadata": {},
   "source": [
    "<div class=\"span5 alert alert-info\">\n",
    "<b>    \n",
    "Encodings\n",
    "</b>    \n",
    "</div>"
   ]
  },
  {
   "cell_type": "code",
   "execution_count": 57,
   "metadata": {},
   "outputs": [],
   "source": [
    "from sklearn import preprocessing\n",
    "\n",
    "class Categorical_encoding:\n",
    "    def __init__(self, df, categorical_features):\n",
    "        self.df = df\n",
    "        self.output_df = self.df.copy(deep=True)\n",
    "        self.cat_features = categorical_features\n",
    "        \n",
    "        for c in self.cat_features:\n",
    "            self.df.loc[:,c] = self.df.loc[:,c].astype(str).fillna(-1)\n",
    "    \n",
    "    def label_encoding(self):\n",
    "        for c in self.cat_features:\n",
    "            lbl = preprocessing.LabelEncoder()\n",
    "            lbl.fit(self.df[c].values)\n",
    "            self.output_df.loc[:,c] = lbl.transform(self.df[c].values)\n",
    "        \n",
    "        return self.output_df\n",
    "    "
   ]
  },
  {
   "cell_type": "code",
   "execution_count": 58,
   "metadata": {},
   "outputs": [],
   "source": [
    "#label encoding\n",
    "cols = ['gender','age_bucket','signup_method','language','affiliate_channel','affiliate_provider','first_affiliate_tracked','signup_app','first_device_type','first_browser','country_destination']        \n",
    "en_df = Categorical_encoding(df_train_join,cols)  \n",
    "df_train_join = en_df.label_encoding()"
   ]
  },
  {
   "cell_type": "code",
   "execution_count": 59,
   "metadata": {},
   "outputs": [
    {
     "name": "stdout",
     "output_type": "stream",
     "text": [
      "<class 'pandas.core.frame.DataFrame'>\n",
      "RangeIndex: 213451 entries, 0 to 213450\n",
      "Data columns (total 80 columns):\n",
      "id                                      213451 non-null object\n",
      "date_account_created                    213451 non-null datetime64[ns]\n",
      "timestamp_first_active                  213451 non-null datetime64[ns]\n",
      "date_first_booking                      88908 non-null datetime64[ns]\n",
      "gender                                  213451 non-null int64\n",
      "age_bucket                              213451 non-null int64\n",
      "signup_method                           213451 non-null int64\n",
      "signup_flow                             213451 non-null int64\n",
      "language                                213451 non-null int64\n",
      "affiliate_channel                       213451 non-null int64\n",
      "affiliate_provider                      213451 non-null int64\n",
      "first_affiliate_tracked                 213451 non-null int64\n",
      "signup_app                              213451 non-null int64\n",
      "first_device_type                       213451 non-null int64\n",
      "first_browser                           213451 non-null int64\n",
      "month_of_first_booking                  88908 non-null float64\n",
      "Others                                  48610 non-null float64\n",
      "action_active                           19427 non-null float64\n",
      "action_ajax_check_dates                 11315 non-null float64\n",
      "action_ajax_lwlb_contact                10737 non-null float64\n",
      "action_ajax_photo_widget_form_iframe    2169 non-null float64\n",
      "action_ajax_refresh_subtotal            34522 non-null float64\n",
      "action_ask_question                     17210 non-null float64\n",
      "action_authenticate                     10761 non-null float64\n",
      "action_calendar_tab_inner2              7449 non-null float64\n",
      "action_campaigns                        12849 non-null float64\n",
      "action_click                            2856 non-null float64\n",
      "action_collections                      6774 non-null float64\n",
      "action_complete_status                  3904 non-null float64\n",
      "action_confirm_email                    30905 non-null float64\n",
      "action_create                           23500 non-null float64\n",
      "action_dashboard                        29490 non-null float64\n",
      "action_edit                             11518 non-null float64\n",
      "action_edit_verification                6054 non-null float64\n",
      "action_header_userpic                   56603 non-null float64\n",
      "action_identity                         7241 non-null float64\n",
      "action_impressions                      2853 non-null float64\n",
      "action_index                            47770 non-null float64\n",
      "action_listings                         9980 non-null float64\n",
      "action_lookup                           20380 non-null float64\n",
      "action_manage_listing                   4082 non-null float64\n",
      "action_notifications                    13748 non-null float64\n",
      "action_other_hosting_reviews_first      10491 non-null float64\n",
      "action_personalize                      42549 non-null float64\n",
      "action_qt2                              7924 non-null float64\n",
      "action_recommendations                  1059 non-null float64\n",
      "action_requested                        7090 non-null float64\n",
      "action_reviews                          9442 non-null float64\n",
      "action_search                           11915 non-null float64\n",
      "action_search_results                   27929 non-null float64\n",
      "action_show                             57358 non-null float64\n",
      "action_show_personalize                 13121 non-null float64\n",
      "action_similar_listings                 34932 non-null float64\n",
      "action_similar_listings_v2              1376 non-null float64\n",
      "action_social_connections               10301 non-null float64\n",
      "action_track_page_view                  5604 non-null float64\n",
      "action_travel_plans_current             8659 non-null float64\n",
      "action_unavailabilities                 7137 non-null float64\n",
      "action_update                           30386 non-null float64\n",
      "des_lang_AU                             206314 non-null float64\n",
      "des_lang_CA                             206314 non-null float64\n",
      "des_lang_DE                             732 non-null float64\n",
      "des_lang_ES                             915 non-null float64\n",
      "des_lang_FR                             1172 non-null float64\n",
      "des_lang_GB                             206314 non-null float64\n",
      "des_lang_IT                             514 non-null float64\n",
      "des_lang_NL                             97 non-null float64\n",
      "des_lang_PT                             240 non-null float64\n",
      "des_lang_US                             206314 non-null float64\n",
      "country_destination                     213451 non-null int64\n",
      "age_grp_AU                              213451 non-null float64\n",
      "age_grp_CA                              213451 non-null float64\n",
      "age_grp_DE                              213451 non-null float64\n",
      "age_grp_ES                              213451 non-null float64\n",
      "age_grp_FR                              213451 non-null float64\n",
      "age_grp_GB                              213451 non-null float64\n",
      "age_grp_IT                              213451 non-null float64\n",
      "age_grp_NL                              213451 non-null float64\n",
      "age_grp_PT                              213451 non-null float64\n",
      "age_grp_US                              213451 non-null float64\n",
      "dtypes: datetime64[ns](3), float64(64), int64(12), object(1)\n",
      "memory usage: 130.3+ MB\n"
     ]
    }
   ],
   "source": [
    "df_train_join.info()"
   ]
  },
  {
   "cell_type": "code",
   "execution_count": 433,
   "metadata": {},
   "outputs": [],
   "source": []
  },
  {
   "cell_type": "markdown",
   "metadata": {},
   "source": [
    "<div class=\"span5 alert alert-info\">\n",
    "<b>    \n",
    "Feature Selection\n",
    "</b>    \n",
    "</div>"
   ]
  },
  {
   "cell_type": "code",
   "execution_count": 81,
   "metadata": {},
   "outputs": [],
   "source": [
    "df_train_copy = df_train_join\n",
    "df_train_copy.fillna(9999, inplace=True)"
   ]
  },
  {
   "cell_type": "code",
   "execution_count": 82,
   "metadata": {},
   "outputs": [],
   "source": [
    "from sklearn.model_selection import train_test_split\n",
    "from sklearn.ensemble import RandomForestClassifier\n",
    "from sklearn.metrics import accuracy_score"
   ]
  },
  {
   "cell_type": "code",
   "execution_count": 83,
   "metadata": {},
   "outputs": [],
   "source": [
    "from sklearn.feature_selection import VarianceThreshold, mutual_info_classif\n",
    "from sklearn.feature_selection import SelectKBest, SelectPercentile"
   ]
  },
  {
   "cell_type": "code",
   "execution_count": 84,
   "metadata": {},
   "outputs": [
    {
     "data": {
      "text/plain": [
       "((213451, 75), (213451,))"
      ]
     },
     "execution_count": 84,
     "metadata": {},
     "output_type": "execute_result"
    }
   ],
   "source": [
    "X = df_train_copy.drop(['id','date_account_created','timestamp_first_active','date_first_booking','country_destination'],axis=1)\n",
    "y = df_train_copy['country_destination']\n",
    "\n",
    "X.shape, y.shape"
   ]
  },
  {
   "cell_type": "code",
   "execution_count": null,
   "metadata": {},
   "outputs": [],
   "source": [
    "#Split"
   ]
  },
  {
   "cell_type": "code",
   "execution_count": 85,
   "metadata": {},
   "outputs": [],
   "source": [
    "X_train,X_test,y_train,y_test = train_test_split(X, y, test_size = 0.3, random_state = 0, stratify = y)"
   ]
  },
  {
   "cell_type": "code",
   "execution_count": 86,
   "metadata": {},
   "outputs": [
    {
     "data": {
      "text/plain": [
       "((149415, 75), (64036, 75))"
      ]
     },
     "execution_count": 86,
     "metadata": {},
     "output_type": "execute_result"
    }
   ],
   "source": [
    "X_train.shape, X_test.shape"
   ]
  },
  {
   "cell_type": "markdown",
   "metadata": {},
   "source": [
    "**Remove constant quasi constant**"
   ]
  },
  {
   "cell_type": "code",
   "execution_count": 88,
   "metadata": {},
   "outputs": [],
   "source": [
    "constant_filter = VarianceThreshold(threshold = 0.01)\n",
    "constant_filter.fit(X_train)\n",
    "\n",
    "X_train_filter = constant_filter.transform(X_train)\n",
    "X_test_filter = constant_filter.transform(X_test)"
   ]
  },
  {
   "cell_type": "markdown",
   "metadata": {},
   "source": [
    "**Removing duplicate features**"
   ]
  },
  {
   "cell_type": "code",
   "execution_count": 89,
   "metadata": {},
   "outputs": [],
   "source": [
    "X_train_T = X_train_filter.T\n",
    "X_test_T = X_test_filter.T"
   ]
  },
  {
   "cell_type": "code",
   "execution_count": 90,
   "metadata": {},
   "outputs": [],
   "source": [
    "X_train_T = pd.DataFrame(X_train_T) \n",
    "X_test_T = pd.DataFrame(X_test_T) "
   ]
  },
  {
   "cell_type": "code",
   "execution_count": 91,
   "metadata": {},
   "outputs": [
    {
     "name": "stdout",
     "output_type": "stream",
     "text": [
      "total duplicate features 3\n"
     ]
    }
   ],
   "source": [
    "print(\"total duplicate features\",X_train_T.duplicated().sum()) "
   ]
  },
  {
   "cell_type": "code",
   "execution_count": 92,
   "metadata": {},
   "outputs": [],
   "source": [
    "dupicated_features = X_train_T.duplicated()"
   ]
  },
  {
   "cell_type": "code",
   "execution_count": 93,
   "metadata": {},
   "outputs": [],
   "source": [
    "features_to_keep = [not index for index in dupicated_features]"
   ]
  },
  {
   "cell_type": "code",
   "execution_count": 94,
   "metadata": {},
   "outputs": [],
   "source": [
    "X_train_unique = X_train_T[features_to_keep].T\n",
    "X_test_unique = X_test_T[features_to_keep].T"
   ]
  },
  {
   "cell_type": "code",
   "execution_count": 95,
   "metadata": {},
   "outputs": [
    {
     "data": {
      "text/plain": [
       "((149415, 72), (64036, 72))"
      ]
     },
     "execution_count": 95,
     "metadata": {},
     "output_type": "execute_result"
    }
   ],
   "source": [
    "X_train_unique.shape, X_test_unique.shape"
   ]
  },
  {
   "cell_type": "markdown",
   "metadata": {},
   "source": [
    "**Calculating Mutual Information**"
   ]
  },
  {
   "cell_type": "code",
   "execution_count": 96,
   "metadata": {},
   "outputs": [],
   "source": [
    "mi = mutual_info_classif(X_train_unique, y_train)"
   ]
  },
  {
   "cell_type": "code",
   "execution_count": 97,
   "metadata": {},
   "outputs": [
    {
     "data": {
      "text/plain": [
       "72"
      ]
     },
     "execution_count": 97,
     "metadata": {},
     "output_type": "execute_result"
    }
   ],
   "source": [
    "len(mi)"
   ]
  },
  {
   "cell_type": "code",
   "execution_count": 98,
   "metadata": {},
   "outputs": [
    {
     "data": {
      "text/plain": [
       "array([0.02771744, 0.04147485, 0.00205522, 0.01118978, 0.0146704 ,\n",
       "       0.01192948, 0.00937704, 0.0085591 , 0.01683082, 0.0130222 ,\n",
       "       0.01245973, 0.70493754, 0.01221171, 0.01099636, 0.01577438,\n",
       "       0.01273463, 0.01750831, 0.01521196, 0.01685804, 0.00966229,\n",
       "       0.01326471, 0.01510367, 0.01589606, 0.01550064, 0.01886468,\n",
       "       0.0097773 , 0.01542717, 0.01451357, 0.01617916, 0.01791632,\n",
       "       0.01644572, 0.0199246 , 0.01879187, 0.00849856, 0.01615063,\n",
       "       0.01440269, 0.02118305, 0.01374517, 0.01495393, 0.01384951,\n",
       "       0.01927636, 0.01828901, 0.03173147, 0.01902427, 0.01732742,\n",
       "       0.01174736, 0.00971622, 0.01707928, 0.01435812, 0.0181264 ,\n",
       "       0.01776874, 0.01477892, 0.02306466, 0.01599517, 0.00905203,\n",
       "       0.00265786, 0.01754818, 0.01969025, 0.01561103, 0.01568763,\n",
       "       0.01486906, 0.01732051, 0.03972961, 0.0400715 , 0.04191877,\n",
       "       0.03968148, 0.03843302, 0.03982717, 0.04189799, 0.03903408,\n",
       "       0.03916714, 0.04110686])"
      ]
     },
     "execution_count": 98,
     "metadata": {},
     "output_type": "execute_result"
    }
   ],
   "source": [
    "mi"
   ]
  },
  {
   "cell_type": "code",
   "execution_count": 99,
   "metadata": {},
   "outputs": [],
   "source": [
    "mi = pd.Series(mi)\n",
    "mi.index = X_train_unique.columns"
   ]
  },
  {
   "cell_type": "code",
   "execution_count": 100,
   "metadata": {},
   "outputs": [],
   "source": [
    "mi.sort_values(ascending=False,inplace=True)"
   ]
  },
  {
   "cell_type": "code",
   "execution_count": 105,
   "metadata": {},
   "outputs": [
    {
     "data": {
      "text/plain": [
       "<matplotlib.axes._subplots.AxesSubplot at 0x16dce4f50>"
      ]
     },
     "execution_count": 105,
     "metadata": {},
     "output_type": "execute_result"
    },
    {
     "data": {
      "image/png": "[encoded data removed]",
      "text/plain": [
       "<Figure size 576x288 with 1 Axes>"
      ]
     },
     "metadata": {
      "needs_background": "light"
     },
     "output_type": "display_data"
    }
   ],
   "source": [
    "mi.plot.bar(figsize=(8,4))"
   ]
  },
  {
   "cell_type": "markdown",
   "metadata": {},
   "source": [
    "**Selecting the best features**"
   ]
  },
  {
   "cell_type": "code",
   "execution_count": 109,
   "metadata": {},
   "outputs": [
    {
     "data": {
      "text/plain": [
       "Int64Index([11, 65, 66, 67, 70, 71, 73, 74], dtype='int64')"
      ]
     },
     "execution_count": 109,
     "metadata": {},
     "output_type": "execute_result"
    }
   ],
   "source": [
    "sel = SelectPercentile(mutual_info_classif,percentile=10).fit(X_train_unique,y_train)\n",
    "X_train_unique.columns[sel.get_support()]"
   ]
  },
  {
   "cell_type": "code",
   "execution_count": 110,
   "metadata": {},
   "outputs": [
    {
     "data": {
      "text/plain": [
       "8"
      ]
     },
     "execution_count": 110,
     "metadata": {},
     "output_type": "execute_result"
    }
   ],
   "source": [
    "len(X_train_unique.columns[sel.get_support()])"
   ]
  },
  {
   "cell_type": "code",
   "execution_count": null,
   "metadata": {},
   "outputs": [],
   "source": [
    "#Keeping only these feaures for further analysis"
   ]
  },
  {
   "cell_type": "code",
   "execution_count": 113,
   "metadata": {},
   "outputs": [
    {
     "data": {
      "text/plain": [
       "((149415, 8), (64036, 8))"
      ]
     },
     "execution_count": 113,
     "metadata": {},
     "output_type": "execute_result"
    }
   ],
   "source": [
    "X_train_mi = sel.transform(X_train_unique)\n",
    "X_test_mi = sel.transform(X_test_unique)\n",
    "\n",
    "X_train_mi.shape,X_test_mi.shape"
   ]
  },
  {
   "cell_type": "markdown",
   "metadata": {},
   "source": [
    "**Predictive model and performance**"
   ]
  },
  {
   "cell_type": "code",
   "execution_count": 115,
   "metadata": {},
   "outputs": [
    {
     "name": "stdout",
     "output_type": "stream",
     "text": [
      "0.8756480729589606\n"
     ]
    }
   ],
   "source": [
    "clf = RandomForestClassifier(n_estimators=100,random_state=0,n_jobs=1)\n",
    "clf.fit(X_train_mi,y_train)\n",
    "y_pred = clf.predict(X_test_mi)\n",
    "print(accuracy_score(y_test,y_pred))"
   ]
  },
  {
   "cell_type": "code",
   "execution_count": null,
   "metadata": {},
   "outputs": [],
   "source": []
  },
  {
   "cell_type": "code",
   "execution_count": null,
   "metadata": {},
   "outputs": [],
   "source": []
  },
  {
   "cell_type": "code",
   "execution_count": null,
   "metadata": {},
   "outputs": [],
   "source": []
  },
  {
   "cell_type": "code",
   "execution_count": null,
   "metadata": {},
   "outputs": [],
   "source": []
  },
  {
   "cell_type": "code",
   "execution_count": null,
   "metadata": {},
   "outputs": [],
   "source": []
  },
  {
   "cell_type": "code",
   "execution_count": null,
   "metadata": {},
   "outputs": [],
   "source": []
  },
  {
   "cell_type": "code",
   "execution_count": null,
   "metadata": {},
   "outputs": [],
   "source": []
  }
 ],
 "metadata": {
  "kernelspec": {
   "display_name": "Python 3",
   "language": "python",
   "name": "python3"
  },
  "language_info": {
   "codemirror_mode": {
    "name": "ipython",
    "version": 3
   },
   "file_extension": ".py",
   "mimetype": "text/x-python",
   "name": "python",
   "nbconvert_exporter": "python",
   "pygments_lexer": "ipython3",
   "version": "3.7.4"
  }
 },
 "nbformat": 4,
 "nbformat_minor": 2
}
