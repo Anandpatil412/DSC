{
 "cells": [
  {
   "cell_type": "code",
   "execution_count": 2,
   "metadata": {},
   "outputs": [],
   "source": [
    "import pandas as pd\n",
    "import numpy as np\n",
    "import matplotlib.pyplot as plt"
   ]
  },
  {
   "cell_type": "code",
   "execution_count": 3,
   "metadata": {},
   "outputs": [
    {
     "data": {
      "text/plain": [
       "Index(['id', 'date_account_created', 'timestamp_first_active',\n",
       "       'date_first_booking', 'gender', 'age_bucket', 'signup_method',\n",
       "       'signup_flow', 'language', 'affiliate_channel', 'affiliate_provider',\n",
       "       'first_affiliate_tracked', 'signup_app', 'first_device_type',\n",
       "       'first_browser', 'month_of_first_booking', 'Others', 'action_active',\n",
       "       'action_ajax_check_dates', 'action_ajax_lwlb_contact',\n",
       "       'action_ajax_photo_widget_form_iframe', 'action_ajax_refresh_subtotal',\n",
       "       'action_ask_question', 'action_authenticate',\n",
       "       'action_calendar_tab_inner2', 'action_campaigns', 'action_click',\n",
       "       'action_collections', 'action_complete_status', 'action_confirm_email',\n",
       "       'action_create', 'action_dashboard', 'action_edit',\n",
       "       'action_edit_verification', 'action_header_userpic', 'action_identity',\n",
       "       'action_impressions', 'action_index', 'action_listings',\n",
       "       'action_lookup', 'action_manage_listing', 'action_notifications',\n",
       "       'action_other_hosting_reviews_first', 'action_personalize',\n",
       "       'action_qt2', 'action_recommendations', 'action_requested',\n",
       "       'action_reviews', 'action_search', 'action_search_results',\n",
       "       'action_show', 'action_show_personalize', 'action_similar_listings',\n",
       "       'action_similar_listings_v2', 'action_social_connections',\n",
       "       'action_track_page_view', 'action_travel_plans_current',\n",
       "       'action_unavailabilities', 'action_update', 'des_lang_AU',\n",
       "       'des_lang_CA', 'des_lang_DE', 'des_lang_ES', 'des_lang_FR',\n",
       "       'des_lang_GB', 'des_lang_IT', 'des_lang_NL', 'des_lang_PT',\n",
       "       'des_lang_US', 'country_destination', 'age_grp_AU', 'age_grp_CA',\n",
       "       'age_grp_DE', 'age_grp_ES', 'age_grp_FR', 'age_grp_GB', 'age_grp_IT',\n",
       "       'age_grp_NL', 'age_grp_PT', 'age_grp_US'],\n",
       "      dtype='object')"
      ]
     },
     "execution_count": 3,
     "metadata": {},
     "output_type": "execute_result"
    }
   ],
   "source": [
    "df_train_join = pd.read_csv(\"../DataFiles/air_bnb_clean_data/air_bnb_reduced_data.csv\")\n",
    "df_train_join.columns"
   ]
  },
  {
   "cell_type": "markdown",
   "metadata": {},
   "source": [
    "<div class=\"span5 alert alert-info\">\n",
    "<b>    \n",
    "Feature Selection\n",
    "</b>    \n",
    "</div>"
   ]
  },
  {
   "cell_type": "code",
   "execution_count": 4,
   "metadata": {},
   "outputs": [],
   "source": [
    "df_train_copy = df_train_join\n",
    "df_train_copy.fillna(9999, inplace=True)"
   ]
  },
  {
   "cell_type": "code",
   "execution_count": 5,
   "metadata": {},
   "outputs": [],
   "source": [
    "from sklearn.model_selection import train_test_split\n",
    "from sklearn.ensemble import RandomForestClassifier\n",
    "from sklearn.metrics import accuracy_score,classification_report,confusion_matrix"
   ]
  },
  {
   "cell_type": "code",
   "execution_count": 6,
   "metadata": {},
   "outputs": [],
   "source": [
    "from sklearn.feature_selection import VarianceThreshold, mutual_info_classif\n",
    "from sklearn.feature_selection import SelectKBest, SelectPercentile"
   ]
  },
  {
   "cell_type": "code",
   "execution_count": 7,
   "metadata": {},
   "outputs": [
    {
     "data": {
      "text/plain": [
       "((213451, 75), (213451,))"
      ]
     },
     "execution_count": 7,
     "metadata": {},
     "output_type": "execute_result"
    }
   ],
   "source": [
    "X = df_train_copy.drop(['id','date_account_created','timestamp_first_active','date_first_booking','country_destination'],axis=1)\n",
    "y = df_train_copy['country_destination']\n",
    "\n",
    "X.shape, y.shape"
   ]
  },
  {
   "cell_type": "code",
   "execution_count": null,
   "metadata": {},
   "outputs": [],
   "source": []
  },
  {
   "cell_type": "code",
   "execution_count": 8,
   "metadata": {},
   "outputs": [],
   "source": [
    "#Split"
   ]
  },
  {
   "cell_type": "code",
   "execution_count": 9,
   "metadata": {},
   "outputs": [],
   "source": [
    "X_train,X_test,y_train,y_test = train_test_split(X, y, test_size = 0.3, random_state = 0, stratify = y)"
   ]
  },
  {
   "cell_type": "code",
   "execution_count": 10,
   "metadata": {},
   "outputs": [
    {
     "data": {
      "text/plain": [
       "((149415, 75), (64036, 75))"
      ]
     },
     "execution_count": 10,
     "metadata": {},
     "output_type": "execute_result"
    }
   ],
   "source": [
    "X_train.shape, X_test.shape"
   ]
  },
  {
   "cell_type": "markdown",
   "metadata": {},
   "source": [
    "**Remove constant quasi constant**"
   ]
  },
  {
   "cell_type": "code",
   "execution_count": 11,
   "metadata": {},
   "outputs": [],
   "source": [
    "constant_filter = VarianceThreshold(threshold = 0.01)\n",
    "constant_filter.fit(X_train)\n",
    "\n",
    "X_train_filter = constant_filter.transform(X_train)\n",
    "X_test_filter = constant_filter.transform(X_test)"
   ]
  },
  {
   "cell_type": "markdown",
   "metadata": {},
   "source": [
    "**Removing duplicate features**"
   ]
  },
  {
   "cell_type": "code",
   "execution_count": 13,
   "metadata": {},
   "outputs": [],
   "source": [
    "X_train_T = X_train_filter.T\n",
    "X_test_T = X_test_filter.T"
   ]
  },
  {
   "cell_type": "code",
   "execution_count": 14,
   "metadata": {},
   "outputs": [],
   "source": [
    "X_train_T = pd.DataFrame(X_train_T) \n",
    "X_test_T = pd.DataFrame(X_test_T) "
   ]
  },
  {
   "cell_type": "code",
   "execution_count": 15,
   "metadata": {},
   "outputs": [],
   "source": [
    "dupicated_features = X_train_T.duplicated()"
   ]
  },
  {
   "cell_type": "code",
   "execution_count": 16,
   "metadata": {},
   "outputs": [
    {
     "name": "stdout",
     "output_type": "stream",
     "text": [
      "total duplicate features 3\n"
     ]
    }
   ],
   "source": [
    "print(\"total duplicate features\",dupicated_features.sum())"
   ]
  },
  {
   "cell_type": "code",
   "execution_count": 17,
   "metadata": {},
   "outputs": [
    {
     "name": "stdout",
     "output_type": "stream",
     "text": [
      "duplicate columns Index(['des_lang_CA', 'des_lang_GB', 'des_lang_US'], dtype='object')\n"
     ]
    }
   ],
   "source": [
    "dup_index = [i for i, val in enumerate(dupicated_features) if val] \n",
    "print('duplicate columns',X_train.columns[dup_index])"
   ]
  },
  {
   "cell_type": "code",
   "execution_count": 18,
   "metadata": {},
   "outputs": [],
   "source": [
    "features_to_keep = [not index for index in dupicated_features]"
   ]
  },
  {
   "cell_type": "code",
   "execution_count": 19,
   "metadata": {},
   "outputs": [],
   "source": [
    "X_train_unique = X_train_T[features_to_keep].T\n",
    "X_test_unique = X_test_T[features_to_keep].T"
   ]
  },
  {
   "cell_type": "code",
   "execution_count": 20,
   "metadata": {},
   "outputs": [
    {
     "data": {
      "text/plain": [
       "((149415, 72), (64036, 72))"
      ]
     },
     "execution_count": 20,
     "metadata": {},
     "output_type": "execute_result"
    }
   ],
   "source": [
    "X_train_unique.shape, X_test_unique.shape"
   ]
  },
  {
   "cell_type": "markdown",
   "metadata": {},
   "source": [
    "**Calculating Mutual Information**"
   ]
  },
  {
   "cell_type": "code",
   "execution_count": 21,
   "metadata": {},
   "outputs": [],
   "source": [
    "mi = mutual_info_classif(X_train_unique, y_train)"
   ]
  },
  {
   "cell_type": "code",
   "execution_count": 22,
   "metadata": {},
   "outputs": [
    {
     "data": {
      "text/plain": [
       "72"
      ]
     },
     "execution_count": 22,
     "metadata": {},
     "output_type": "execute_result"
    }
   ],
   "source": [
    "len(mi)"
   ]
  },
  {
   "cell_type": "code",
   "execution_count": 23,
   "metadata": {},
   "outputs": [
    {
     "data": {
      "text/plain": [
       "array([0.0307614 , 0.03752017, 0.00117799, 0.01315175, 0.0144945 ,\n",
       "       0.01057492, 0.01060503, 0.01032328, 0.01863312, 0.01324349,\n",
       "       0.00978737, 0.70494865, 0.0113162 , 0.0137316 , 0.01744647,\n",
       "       0.01239544, 0.0191083 , 0.01681325, 0.0181336 , 0.01035344,\n",
       "       0.01391515, 0.01285033, 0.01751546, 0.01581237, 0.02286324,\n",
       "       0.005892  , 0.01572795, 0.01395418, 0.01581861, 0.01845679,\n",
       "       0.01515755, 0.01713257, 0.01261209, 0.00606583, 0.01810164,\n",
       "       0.01676668, 0.01912025, 0.01269394, 0.01407463, 0.01276787,\n",
       "       0.01688886, 0.01684317, 0.03164897, 0.01787118, 0.01585725,\n",
       "       0.01146229, 0.0087077 , 0.01660376, 0.01351876, 0.01926887,\n",
       "       0.01771014, 0.01591793, 0.02301542, 0.0171271 , 0.00677163,\n",
       "       0.00305507, 0.01843958, 0.01669113, 0.01666589, 0.01813463,\n",
       "       0.01781108, 0.01812012, 0.03871908, 0.03919575, 0.04003435,\n",
       "       0.0376122 , 0.03633378, 0.03861007, 0.04052908, 0.03649132,\n",
       "       0.03801015, 0.04140851])"
      ]
     },
     "execution_count": 23,
     "metadata": {},
     "output_type": "execute_result"
    }
   ],
   "source": [
    "mi"
   ]
  },
  {
   "cell_type": "code",
   "execution_count": 24,
   "metadata": {},
   "outputs": [],
   "source": [
    "mi = pd.Series(mi)\n",
    "mi.index = X_train.columns[X_train_unique.columns]"
   ]
  },
  {
   "cell_type": "code",
   "execution_count": 25,
   "metadata": {},
   "outputs": [
    {
     "data": {
      "text/plain": [
       "Index(['gender', 'age_bucket', 'signup_method', 'signup_flow', 'language',\n",
       "       'affiliate_channel', 'affiliate_provider', 'first_affiliate_tracked',\n",
       "       'signup_app', 'first_device_type', 'first_browser',\n",
       "       'month_of_first_booking', 'Others', 'action_active',\n",
       "       'action_ajax_check_dates', 'action_ajax_lwlb_contact',\n",
       "       'action_ajax_photo_widget_form_iframe', 'action_ajax_refresh_subtotal',\n",
       "       'action_ask_question', 'action_authenticate',\n",
       "       'action_calendar_tab_inner2', 'action_campaigns', 'action_click',\n",
       "       'action_collections', 'action_complete_status', 'action_confirm_email',\n",
       "       'action_create', 'action_dashboard', 'action_edit',\n",
       "       'action_edit_verification', 'action_header_userpic', 'action_identity',\n",
       "       'action_impressions', 'action_index', 'action_listings',\n",
       "       'action_lookup', 'action_manage_listing', 'action_notifications',\n",
       "       'action_other_hosting_reviews_first', 'action_personalize',\n",
       "       'action_qt2', 'action_recommendations', 'action_requested',\n",
       "       'action_reviews', 'action_search', 'action_search_results',\n",
       "       'action_show', 'action_show_personalize', 'action_similar_listings',\n",
       "       'action_similar_listings_v2', 'action_social_connections',\n",
       "       'action_track_page_view', 'action_travel_plans_current',\n",
       "       'action_unavailabilities', 'action_update', 'des_lang_AU',\n",
       "       'des_lang_DE', 'des_lang_ES', 'des_lang_FR', 'des_lang_IT',\n",
       "       'des_lang_NL', 'des_lang_PT', 'age_grp_AU', 'age_grp_CA', 'age_grp_DE',\n",
       "       'age_grp_ES', 'age_grp_FR', 'age_grp_GB', 'age_grp_IT', 'age_grp_NL',\n",
       "       'age_grp_PT', 'age_grp_US'],\n",
       "      dtype='object')"
      ]
     },
     "execution_count": 25,
     "metadata": {},
     "output_type": "execute_result"
    }
   ],
   "source": [
    "mi.index"
   ]
  },
  {
   "cell_type": "code",
   "execution_count": 26,
   "metadata": {},
   "outputs": [
    {
     "data": {
      "text/plain": [
       "signup_method             0.001178\n",
       "des_lang_AU               0.003055\n",
       "action_confirm_email      0.005892\n",
       "action_index              0.006066\n",
       "action_update             0.006772\n",
       "                            ...   \n",
       "age_grp_CA                0.039196\n",
       "age_grp_DE                0.040034\n",
       "age_grp_IT                0.040529\n",
       "age_grp_US                0.041409\n",
       "month_of_first_booking    0.704949\n",
       "Length: 72, dtype: float64"
      ]
     },
     "execution_count": 26,
     "metadata": {},
     "output_type": "execute_result"
    }
   ],
   "source": [
    "values = mi.sort_values(ascending=True)\n",
    "values"
   ]
  },
  {
   "cell_type": "code",
   "execution_count": 27,
   "metadata": {},
   "outputs": [
    {
     "data": {
      "text/plain": [
       "<matplotlib.axes._subplots.AxesSubplot at 0x14d596f10>"
      ]
     },
     "execution_count": 27,
     "metadata": {},
     "output_type": "execute_result"
    },
    {
     "data": {
      "image/png": "[encoded data removed]",
      "text/plain": [
       "<Figure size 1152x1152 with 1 Axes>"
      ]
     },
     "metadata": {
      "needs_background": "light"
     },
     "output_type": "display_data"
    }
   ],
   "source": [
    "values.plot(kind='barh',figsize=(16,16))"
   ]
  },
  {
   "cell_type": "markdown",
   "metadata": {},
   "source": [
    "**Selecting the best features**"
   ]
  },
  {
   "cell_type": "code",
   "execution_count": 28,
   "metadata": {},
   "outputs": [
    {
     "data": {
      "text/plain": [
       "Int64Index([1, 11, 65, 67, 69, 70, 71, 73], dtype='int64')"
      ]
     },
     "execution_count": 28,
     "metadata": {},
     "output_type": "execute_result"
    }
   ],
   "source": [
    "sel = SelectPercentile(mutual_info_classif,percentile=10).fit(X_train_unique,y_train)\n",
    "X_train_unique.columns[sel.get_support()]"
   ]
  },
  {
   "cell_type": "code",
   "execution_count": 29,
   "metadata": {},
   "outputs": [
    {
     "data": {
      "text/plain": [
       "8"
      ]
     },
     "execution_count": 29,
     "metadata": {},
     "output_type": "execute_result"
    }
   ],
   "source": [
    "len(X_train_unique.columns[sel.get_support()])"
   ]
  },
  {
   "cell_type": "code",
   "execution_count": 30,
   "metadata": {},
   "outputs": [],
   "source": [
    "#Keeping only these features for further analysis"
   ]
  },
  {
   "cell_type": "code",
   "execution_count": 31,
   "metadata": {},
   "outputs": [
    {
     "data": {
      "text/plain": [
       "((149415, 8), (64036, 8))"
      ]
     },
     "execution_count": 31,
     "metadata": {},
     "output_type": "execute_result"
    }
   ],
   "source": [
    "X_train_mi = sel.transform(X_train_unique)\n",
    "X_test_mi = sel.transform(X_test_unique)\n",
    "\n",
    "X_train_mi.shape,X_test_mi.shape"
   ]
  },
  {
   "cell_type": "markdown",
   "metadata": {},
   "source": [
    "****"
   ]
  },
  {
   "cell_type": "markdown",
   "metadata": {},
   "source": [
    "**Predictive model and performance**"
   ]
  },
  {
   "cell_type": "code",
   "execution_count": 32,
   "metadata": {},
   "outputs": [
    {
     "data": {
      "text/plain": [
       "RandomForestClassifier(bootstrap=True, class_weight=None, criterion='gini',\n",
       "                       max_depth=None, max_features='auto', max_leaf_nodes=None,\n",
       "                       min_impurity_decrease=0.0, min_impurity_split=None,\n",
       "                       min_samples_leaf=1, min_samples_split=2,\n",
       "                       min_weight_fraction_leaf=0.0, n_estimators=100, n_jobs=1,\n",
       "                       oob_score=False, random_state=0, verbose=0,\n",
       "                       warm_start=False)"
      ]
     },
     "execution_count": 32,
     "metadata": {},
     "output_type": "execute_result"
    }
   ],
   "source": [
    "clf = RandomForestClassifier(n_estimators=100,random_state=0,n_jobs=1)\n",
    "clf.fit(X_train_mi,y_train)"
   ]
  },
  {
   "cell_type": "code",
   "execution_count": 33,
   "metadata": {},
   "outputs": [],
   "source": [
    "y_pred = clf.predict(X_test_mi)"
   ]
  },
  {
   "cell_type": "code",
   "execution_count": 34,
   "metadata": {},
   "outputs": [
    {
     "name": "stdout",
     "output_type": "stream",
     "text": [
      "accuracy_score 0.8756480729589606\n"
     ]
    }
   ],
   "source": [
    "print(\"accuracy_score\",accuracy_score(y_test,y_pred))"
   ]
  },
  {
   "cell_type": "code",
   "execution_count": 35,
   "metadata": {},
   "outputs": [
    {
     "name": "stdout",
     "output_type": "stream",
     "text": [
      "              precision    recall  f1-score   support\n",
      "\n",
      "           0       0.00      0.00      0.00       162\n",
      "           1       0.00      0.00      0.00       428\n",
      "           2       0.00      0.00      0.00       318\n",
      "           3       0.00      0.00      0.00       675\n",
      "           4       0.00      0.00      0.00      1507\n",
      "           5       0.00      0.00      0.00       697\n",
      "           6       0.00      0.00      0.00       851\n",
      "           7       1.00      1.00      1.00     37363\n",
      "           8       0.00      0.00      0.00       229\n",
      "           9       0.00      0.00      0.00        65\n",
      "          10       0.70      1.00      0.82     18713\n",
      "          11       0.00      0.00      0.00      3028\n",
      "\n",
      "    accuracy                           0.88     64036\n",
      "   macro avg       0.14      0.17      0.15     64036\n",
      "weighted avg       0.79      0.88      0.82     64036\n",
      "\n"
     ]
    },
    {
     "name": "stderr",
     "output_type": "stream",
     "text": [
      "/Users/Anand/anaconda3/lib/python3.7/site-packages/sklearn/metrics/classification.py:1437: UndefinedMetricWarning: Precision and F-score are ill-defined and being set to 0.0 in labels with no predicted samples.\n",
      "  'precision', 'predicted', average, warn_for)\n"
     ]
    }
   ],
   "source": [
    "print(classification_report(y_test,y_pred))"
   ]
  },
  {
   "cell_type": "code",
   "execution_count": null,
   "metadata": {},
   "outputs": [],
   "source": []
  },
  {
   "cell_type": "code",
   "execution_count": null,
   "metadata": {},
   "outputs": [],
   "source": []
  },
  {
   "cell_type": "code",
   "execution_count": null,
   "metadata": {},
   "outputs": [],
   "source": []
  },
  {
   "cell_type": "code",
   "execution_count": null,
   "metadata": {},
   "outputs": [],
   "source": []
  }
 ],
 "metadata": {
  "kernelspec": {
   "display_name": "Python 3",
   "language": "python",
   "name": "python3"
  },
  "language_info": {
   "codemirror_mode": {
    "name": "ipython",
    "version": 3
   },
   "file_extension": ".py",
   "mimetype": "text/x-python",
   "name": "python",
   "nbconvert_exporter": "python",
   "pygments_lexer": "ipython3",
   "version": "3.7.4"
  }
 },
 "nbformat": 4,
 "nbformat_minor": 2
}
